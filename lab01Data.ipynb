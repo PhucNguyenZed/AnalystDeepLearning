{
  "nbformat": 4,
  "nbformat_minor": 0,
  "metadata": {
    "colab": {
      "name": "lab01Data.ipynb",
      "provenance": [],
      "authorship_tag": "ABX9TyMwHvJJDps7i4LJlWLX1AhB",
      "include_colab_link": true
    },
    "kernelspec": {
      "name": "python3",
      "display_name": "Python 3"
    },
    "language_info": {
      "name": "python"
    }
  },
  "cells": [
    {
      "cell_type": "markdown",
      "metadata": {
        "id": "view-in-github",
        "colab_type": "text"
      },
      "source": [
        "<a href=\"https://colab.research.google.com/github/PhucNguyenZed/AnalystDeepLearning/blob/main/lab01Data.ipynb\" target=\"_parent\"><img src=\"https://colab.research.google.com/assets/colab-badge.svg\" alt=\"Open In Colab\"/></a>"
      ]
    },
    {
      "cell_type": "markdown",
      "metadata": {
        "id": "mtK9mriCj0gT"
      },
      "source": [
        "\n",
        "**Example 1:**"
      ]
    },
    {
      "cell_type": "code",
      "metadata": {
        "colab": {
          "base_uri": "https://localhost:8080/"
        },
        "id": "gZhfB_JfjhY2",
        "outputId": "a542ddf8-b1b9-4c8e-c633-e8184b22cf3d"
      },
      "source": [
        "import pandas as pd\n",
        "s = pd.Series([12,-4,7,9])\n",
        "print (s)"
      ],
      "execution_count": 1,
      "outputs": [
        {
          "output_type": "stream",
          "name": "stdout",
          "text": [
            "0    12\n",
            "1    -4\n",
            "2     7\n",
            "3     9\n",
            "dtype: int64\n"
          ]
        }
      ]
    },
    {
      "cell_type": "markdown",
      "metadata": {
        "id": "4Bx0hkSbj9ud"
      },
      "source": [
        "**Example 2:**"
      ]
    },
    {
      "cell_type": "code",
      "metadata": {
        "colab": {
          "base_uri": "https://localhost:8080/"
        },
        "id": "VEozEN8hkELD",
        "outputId": "62164d38-99dc-4640-ce63-f24eccebf6a8"
      },
      "source": [
        "import pandas as pd\n",
        "s = pd.Series([12,-4,7,9], index=['a', 'b', 'c', 'd'])\n",
        "print (s)"
      ],
      "execution_count": 2,
      "outputs": [
        {
          "output_type": "stream",
          "name": "stdout",
          "text": [
            "a    12\n",
            "b    -4\n",
            "c     7\n",
            "d     9\n",
            "dtype: int64\n"
          ]
        }
      ]
    },
    {
      "cell_type": "code",
      "metadata": {
        "colab": {
          "base_uri": "https://localhost:8080/"
        },
        "id": "9xY_-zsNkLNc",
        "outputId": "2efbd4cb-11f0-4370-d3bd-034330b7943d"
      },
      "source": [
        "s.values"
      ],
      "execution_count": 3,
      "outputs": [
        {
          "output_type": "execute_result",
          "data": {
            "text/plain": [
              "array([12, -4,  7,  9])"
            ]
          },
          "metadata": {},
          "execution_count": 3
        }
      ]
    },
    {
      "cell_type": "code",
      "metadata": {
        "colab": {
          "base_uri": "https://localhost:8080/"
        },
        "id": "U5nzmFWKlaUE",
        "outputId": "c1eafb38-8a34-4b66-c414-f9c35d2dfd6b"
      },
      "source": [
        "s.index"
      ],
      "execution_count": 4,
      "outputs": [
        {
          "output_type": "execute_result",
          "data": {
            "text/plain": [
              "Index(['a', 'b', 'c', 'd'], dtype='object')"
            ]
          },
          "metadata": {},
          "execution_count": 4
        }
      ]
    },
    {
      "cell_type": "markdown",
      "metadata": {
        "id": "WwLsWE0FmI__"
      },
      "source": [
        "**DataFrame **\n",
        "\n",
        "**Example 3:**"
      ]
    },
    {
      "cell_type": "code",
      "metadata": {
        "colab": {
          "base_uri": "https://localhost:8080/",
          "height": 204
        },
        "id": "WIx2ChIwmapU",
        "outputId": "3befc9f8-cfb9-4bf1-c21c-a2858d37dfab"
      },
      "source": [
        "data ={'color' : ['blue', 'green', 'yellow', 'red', 'white'],\n",
        "\t'object': ['ball', 'pen', 'pencil', 'paper', 'mug'],\n",
        "\t'price': [1.2, 1.0, 0.6,0.9,1.7]}\n",
        "frame = pd.DataFrame(data)\n",
        "frame"
      ],
      "execution_count": 5,
      "outputs": [
        {
          "output_type": "execute_result",
          "data": {
            "text/html": [
              "<div>\n",
              "<style scoped>\n",
              "    .dataframe tbody tr th:only-of-type {\n",
              "        vertical-align: middle;\n",
              "    }\n",
              "\n",
              "    .dataframe tbody tr th {\n",
              "        vertical-align: top;\n",
              "    }\n",
              "\n",
              "    .dataframe thead th {\n",
              "        text-align: right;\n",
              "    }\n",
              "</style>\n",
              "<table border=\"1\" class=\"dataframe\">\n",
              "  <thead>\n",
              "    <tr style=\"text-align: right;\">\n",
              "      <th></th>\n",
              "      <th>color</th>\n",
              "      <th>object</th>\n",
              "      <th>price</th>\n",
              "    </tr>\n",
              "  </thead>\n",
              "  <tbody>\n",
              "    <tr>\n",
              "      <th>0</th>\n",
              "      <td>blue</td>\n",
              "      <td>ball</td>\n",
              "      <td>1.2</td>\n",
              "    </tr>\n",
              "    <tr>\n",
              "      <th>1</th>\n",
              "      <td>green</td>\n",
              "      <td>pen</td>\n",
              "      <td>1.0</td>\n",
              "    </tr>\n",
              "    <tr>\n",
              "      <th>2</th>\n",
              "      <td>yellow</td>\n",
              "      <td>pencil</td>\n",
              "      <td>0.6</td>\n",
              "    </tr>\n",
              "    <tr>\n",
              "      <th>3</th>\n",
              "      <td>red</td>\n",
              "      <td>paper</td>\n",
              "      <td>0.9</td>\n",
              "    </tr>\n",
              "    <tr>\n",
              "      <th>4</th>\n",
              "      <td>white</td>\n",
              "      <td>mug</td>\n",
              "      <td>1.7</td>\n",
              "    </tr>\n",
              "  </tbody>\n",
              "</table>\n",
              "</div>"
            ],
            "text/plain": [
              "    color  object  price\n",
              "0    blue    ball    1.2\n",
              "1   green     pen    1.0\n",
              "2  yellow  pencil    0.6\n",
              "3     red   paper    0.9\n",
              "4   white     mug    1.7"
            ]
          },
          "metadata": {},
          "execution_count": 5
        }
      ]
    },
    {
      "cell_type": "markdown",
      "metadata": {
        "id": "LBpNpFv5ncR3"
      },
      "source": [
        "**Example 4:**"
      ]
    },
    {
      "cell_type": "code",
      "metadata": {
        "colab": {
          "base_uri": "https://localhost:8080/",
          "height": 204
        },
        "id": "k7cydJuyngAT",
        "outputId": "c27dfee6-c445-40cb-cd79-7c33909d99df"
      },
      "source": [
        "frame2 = pd.DataFrame (data, columns = ['object', 'price'])\n",
        "frame2"
      ],
      "execution_count": 6,
      "outputs": [
        {
          "output_type": "execute_result",
          "data": {
            "text/html": [
              "<div>\n",
              "<style scoped>\n",
              "    .dataframe tbody tr th:only-of-type {\n",
              "        vertical-align: middle;\n",
              "    }\n",
              "\n",
              "    .dataframe tbody tr th {\n",
              "        vertical-align: top;\n",
              "    }\n",
              "\n",
              "    .dataframe thead th {\n",
              "        text-align: right;\n",
              "    }\n",
              "</style>\n",
              "<table border=\"1\" class=\"dataframe\">\n",
              "  <thead>\n",
              "    <tr style=\"text-align: right;\">\n",
              "      <th></th>\n",
              "      <th>object</th>\n",
              "      <th>price</th>\n",
              "    </tr>\n",
              "  </thead>\n",
              "  <tbody>\n",
              "    <tr>\n",
              "      <th>0</th>\n",
              "      <td>ball</td>\n",
              "      <td>1.2</td>\n",
              "    </tr>\n",
              "    <tr>\n",
              "      <th>1</th>\n",
              "      <td>pen</td>\n",
              "      <td>1.0</td>\n",
              "    </tr>\n",
              "    <tr>\n",
              "      <th>2</th>\n",
              "      <td>pencil</td>\n",
              "      <td>0.6</td>\n",
              "    </tr>\n",
              "    <tr>\n",
              "      <th>3</th>\n",
              "      <td>paper</td>\n",
              "      <td>0.9</td>\n",
              "    </tr>\n",
              "    <tr>\n",
              "      <th>4</th>\n",
              "      <td>mug</td>\n",
              "      <td>1.7</td>\n",
              "    </tr>\n",
              "  </tbody>\n",
              "</table>\n",
              "</div>"
            ],
            "text/plain": [
              "   object  price\n",
              "0    ball    1.2\n",
              "1     pen    1.0\n",
              "2  pencil    0.6\n",
              "3   paper    0.9\n",
              "4     mug    1.7"
            ]
          },
          "metadata": {},
          "execution_count": 6
        }
      ]
    },
    {
      "cell_type": "markdown",
      "metadata": {
        "id": "fN3jzj30nyPN"
      },
      "source": [
        "**Example 5:**"
      ]
    },
    {
      "cell_type": "code",
      "metadata": {
        "colab": {
          "base_uri": "https://localhost:8080/",
          "height": 204
        },
        "id": "lud1VXjwn0bW",
        "outputId": "4a72682d-8d00-45df-9715-3a815037e419"
      },
      "source": [
        "frame2['type'] ='normal'\n",
        "frame2"
      ],
      "execution_count": 7,
      "outputs": [
        {
          "output_type": "execute_result",
          "data": {
            "text/html": [
              "<div>\n",
              "<style scoped>\n",
              "    .dataframe tbody tr th:only-of-type {\n",
              "        vertical-align: middle;\n",
              "    }\n",
              "\n",
              "    .dataframe tbody tr th {\n",
              "        vertical-align: top;\n",
              "    }\n",
              "\n",
              "    .dataframe thead th {\n",
              "        text-align: right;\n",
              "    }\n",
              "</style>\n",
              "<table border=\"1\" class=\"dataframe\">\n",
              "  <thead>\n",
              "    <tr style=\"text-align: right;\">\n",
              "      <th></th>\n",
              "      <th>object</th>\n",
              "      <th>price</th>\n",
              "      <th>type</th>\n",
              "    </tr>\n",
              "  </thead>\n",
              "  <tbody>\n",
              "    <tr>\n",
              "      <th>0</th>\n",
              "      <td>ball</td>\n",
              "      <td>1.2</td>\n",
              "      <td>normal</td>\n",
              "    </tr>\n",
              "    <tr>\n",
              "      <th>1</th>\n",
              "      <td>pen</td>\n",
              "      <td>1.0</td>\n",
              "      <td>normal</td>\n",
              "    </tr>\n",
              "    <tr>\n",
              "      <th>2</th>\n",
              "      <td>pencil</td>\n",
              "      <td>0.6</td>\n",
              "      <td>normal</td>\n",
              "    </tr>\n",
              "    <tr>\n",
              "      <th>3</th>\n",
              "      <td>paper</td>\n",
              "      <td>0.9</td>\n",
              "      <td>normal</td>\n",
              "    </tr>\n",
              "    <tr>\n",
              "      <th>4</th>\n",
              "      <td>mug</td>\n",
              "      <td>1.7</td>\n",
              "      <td>normal</td>\n",
              "    </tr>\n",
              "  </tbody>\n",
              "</table>\n",
              "</div>"
            ],
            "text/plain": [
              "   object  price    type\n",
              "0    ball    1.2  normal\n",
              "1     pen    1.0  normal\n",
              "2  pencil    0.6  normal\n",
              "3   paper    0.9  normal\n",
              "4     mug    1.7  normal"
            ]
          },
          "metadata": {},
          "execution_count": 7
        }
      ]
    },
    {
      "cell_type": "markdown",
      "metadata": {
        "id": "1-K3lIfqoNst"
      },
      "source": [
        "**Example 6:**"
      ]
    },
    {
      "cell_type": "code",
      "metadata": {
        "colab": {
          "base_uri": "https://localhost:8080/",
          "height": 204
        },
        "id": "4mtDTHXmoMJ0",
        "outputId": "53ed103d-bd8d-4f2e-acb0-3a70aa3a7aed"
      },
      "source": [
        "for i in range(len(frame2)):\n",
        "  if frame2['price'][i] > 1.0:\n",
        "    frame2.loc[i, 'type'] = 'good'\n",
        "frame2"
      ],
      "execution_count": 8,
      "outputs": [
        {
          "output_type": "execute_result",
          "data": {
            "text/html": [
              "<div>\n",
              "<style scoped>\n",
              "    .dataframe tbody tr th:only-of-type {\n",
              "        vertical-align: middle;\n",
              "    }\n",
              "\n",
              "    .dataframe tbody tr th {\n",
              "        vertical-align: top;\n",
              "    }\n",
              "\n",
              "    .dataframe thead th {\n",
              "        text-align: right;\n",
              "    }\n",
              "</style>\n",
              "<table border=\"1\" class=\"dataframe\">\n",
              "  <thead>\n",
              "    <tr style=\"text-align: right;\">\n",
              "      <th></th>\n",
              "      <th>object</th>\n",
              "      <th>price</th>\n",
              "      <th>type</th>\n",
              "    </tr>\n",
              "  </thead>\n",
              "  <tbody>\n",
              "    <tr>\n",
              "      <th>0</th>\n",
              "      <td>ball</td>\n",
              "      <td>1.2</td>\n",
              "      <td>good</td>\n",
              "    </tr>\n",
              "    <tr>\n",
              "      <th>1</th>\n",
              "      <td>pen</td>\n",
              "      <td>1.0</td>\n",
              "      <td>normal</td>\n",
              "    </tr>\n",
              "    <tr>\n",
              "      <th>2</th>\n",
              "      <td>pencil</td>\n",
              "      <td>0.6</td>\n",
              "      <td>normal</td>\n",
              "    </tr>\n",
              "    <tr>\n",
              "      <th>3</th>\n",
              "      <td>paper</td>\n",
              "      <td>0.9</td>\n",
              "      <td>normal</td>\n",
              "    </tr>\n",
              "    <tr>\n",
              "      <th>4</th>\n",
              "      <td>mug</td>\n",
              "      <td>1.7</td>\n",
              "      <td>good</td>\n",
              "    </tr>\n",
              "  </tbody>\n",
              "</table>\n",
              "</div>"
            ],
            "text/plain": [
              "   object  price    type\n",
              "0    ball    1.2    good\n",
              "1     pen    1.0  normal\n",
              "2  pencil    0.6  normal\n",
              "3   paper    0.9  normal\n",
              "4     mug    1.7    good"
            ]
          },
          "metadata": {},
          "execution_count": 8
        }
      ]
    },
    {
      "cell_type": "markdown",
      "metadata": {
        "id": "GrUKfXUioSC2"
      },
      "source": [
        "**Example 7:**"
      ]
    },
    {
      "cell_type": "code",
      "metadata": {
        "colab": {
          "base_uri": "https://localhost:8080/",
          "height": 204
        },
        "id": "FNyoifaYoW6t",
        "outputId": "d2805aeb-15cb-4323-f381-f35eefde2be6"
      },
      "source": [
        "frame2['discount'] = frame2['price']*0.02\n",
        "frame2\n"
      ],
      "execution_count": 9,
      "outputs": [
        {
          "output_type": "execute_result",
          "data": {
            "text/html": [
              "<div>\n",
              "<style scoped>\n",
              "    .dataframe tbody tr th:only-of-type {\n",
              "        vertical-align: middle;\n",
              "    }\n",
              "\n",
              "    .dataframe tbody tr th {\n",
              "        vertical-align: top;\n",
              "    }\n",
              "\n",
              "    .dataframe thead th {\n",
              "        text-align: right;\n",
              "    }\n",
              "</style>\n",
              "<table border=\"1\" class=\"dataframe\">\n",
              "  <thead>\n",
              "    <tr style=\"text-align: right;\">\n",
              "      <th></th>\n",
              "      <th>object</th>\n",
              "      <th>price</th>\n",
              "      <th>type</th>\n",
              "      <th>discount</th>\n",
              "    </tr>\n",
              "  </thead>\n",
              "  <tbody>\n",
              "    <tr>\n",
              "      <th>0</th>\n",
              "      <td>ball</td>\n",
              "      <td>1.2</td>\n",
              "      <td>good</td>\n",
              "      <td>0.024</td>\n",
              "    </tr>\n",
              "    <tr>\n",
              "      <th>1</th>\n",
              "      <td>pen</td>\n",
              "      <td>1.0</td>\n",
              "      <td>normal</td>\n",
              "      <td>0.020</td>\n",
              "    </tr>\n",
              "    <tr>\n",
              "      <th>2</th>\n",
              "      <td>pencil</td>\n",
              "      <td>0.6</td>\n",
              "      <td>normal</td>\n",
              "      <td>0.012</td>\n",
              "    </tr>\n",
              "    <tr>\n",
              "      <th>3</th>\n",
              "      <td>paper</td>\n",
              "      <td>0.9</td>\n",
              "      <td>normal</td>\n",
              "      <td>0.018</td>\n",
              "    </tr>\n",
              "    <tr>\n",
              "      <th>4</th>\n",
              "      <td>mug</td>\n",
              "      <td>1.7</td>\n",
              "      <td>good</td>\n",
              "      <td>0.034</td>\n",
              "    </tr>\n",
              "  </tbody>\n",
              "</table>\n",
              "</div>"
            ],
            "text/plain": [
              "   object  price    type  discount\n",
              "0    ball    1.2    good     0.024\n",
              "1     pen    1.0  normal     0.020\n",
              "2  pencil    0.6  normal     0.012\n",
              "3   paper    0.9  normal     0.018\n",
              "4     mug    1.7    good     0.034"
            ]
          },
          "metadata": {},
          "execution_count": 9
        }
      ]
    },
    {
      "cell_type": "markdown",
      "metadata": {
        "id": "C3CrAkn8oZGb"
      },
      "source": [
        "**Example 8:**"
      ]
    },
    {
      "cell_type": "code",
      "metadata": {
        "colab": {
          "base_uri": "https://localhost:8080/",
          "height": 204
        },
        "id": "9cc4Q6W7ob7O",
        "outputId": "7880158a-e332-48ab-e08f-19e8cf735ef6"
      },
      "source": [
        "frame2['price_afterdiscount'] = frame2['price'] - frame2['discount']\n",
        "frame2"
      ],
      "execution_count": 10,
      "outputs": [
        {
          "output_type": "execute_result",
          "data": {
            "text/html": [
              "<div>\n",
              "<style scoped>\n",
              "    .dataframe tbody tr th:only-of-type {\n",
              "        vertical-align: middle;\n",
              "    }\n",
              "\n",
              "    .dataframe tbody tr th {\n",
              "        vertical-align: top;\n",
              "    }\n",
              "\n",
              "    .dataframe thead th {\n",
              "        text-align: right;\n",
              "    }\n",
              "</style>\n",
              "<table border=\"1\" class=\"dataframe\">\n",
              "  <thead>\n",
              "    <tr style=\"text-align: right;\">\n",
              "      <th></th>\n",
              "      <th>object</th>\n",
              "      <th>price</th>\n",
              "      <th>type</th>\n",
              "      <th>discount</th>\n",
              "      <th>price_afterdiscount</th>\n",
              "    </tr>\n",
              "  </thead>\n",
              "  <tbody>\n",
              "    <tr>\n",
              "      <th>0</th>\n",
              "      <td>ball</td>\n",
              "      <td>1.2</td>\n",
              "      <td>good</td>\n",
              "      <td>0.024</td>\n",
              "      <td>1.176</td>\n",
              "    </tr>\n",
              "    <tr>\n",
              "      <th>1</th>\n",
              "      <td>pen</td>\n",
              "      <td>1.0</td>\n",
              "      <td>normal</td>\n",
              "      <td>0.020</td>\n",
              "      <td>0.980</td>\n",
              "    </tr>\n",
              "    <tr>\n",
              "      <th>2</th>\n",
              "      <td>pencil</td>\n",
              "      <td>0.6</td>\n",
              "      <td>normal</td>\n",
              "      <td>0.012</td>\n",
              "      <td>0.588</td>\n",
              "    </tr>\n",
              "    <tr>\n",
              "      <th>3</th>\n",
              "      <td>paper</td>\n",
              "      <td>0.9</td>\n",
              "      <td>normal</td>\n",
              "      <td>0.018</td>\n",
              "      <td>0.882</td>\n",
              "    </tr>\n",
              "    <tr>\n",
              "      <th>4</th>\n",
              "      <td>mug</td>\n",
              "      <td>1.7</td>\n",
              "      <td>good</td>\n",
              "      <td>0.034</td>\n",
              "      <td>1.666</td>\n",
              "    </tr>\n",
              "  </tbody>\n",
              "</table>\n",
              "</div>"
            ],
            "text/plain": [
              "   object  price    type  discount  price_afterdiscount\n",
              "0    ball    1.2    good     0.024                1.176\n",
              "1     pen    1.0  normal     0.020                0.980\n",
              "2  pencil    0.6  normal     0.012                0.588\n",
              "3   paper    0.9  normal     0.018                0.882\n",
              "4     mug    1.7    good     0.034                1.666"
            ]
          },
          "metadata": {},
          "execution_count": 10
        }
      ]
    },
    {
      "cell_type": "markdown",
      "metadata": {
        "id": "PXUogh70oejO"
      },
      "source": [
        "**Read data from csv file**\n"
      ]
    },
    {
      "cell_type": "markdown",
      "metadata": {
        "id": "oAZ7yCwJokQn"
      },
      "source": [
        "    **Example 9: **"
      ]
    },
    {
      "cell_type": "code",
      "metadata": {
        "colab": {
          "base_uri": "https://localhost:8080/"
        },
        "id": "ybDxcA2wox6f",
        "outputId": "5b767554-96f7-4de4-8df3-b5a700134576"
      },
      "source": [
        "import pandas as pd\n",
        "dulieuxettuyen = pd.read_csv(\"https://raw.githubusercontent.com/huynhhoc/DataAnalystDeepLearning/main/Data/dulieuxettuyendaihoc.csv\")\n",
        "print (dulieuxettuyen.head(10))"
      ],
      "execution_count": 11,
      "outputs": [
        {
          "output_type": "stream",
          "name": "stdout",
          "text": [
            "   STT   T1   L1   H1   S1   V1   X1  ...  GT  DT   KV   DH1   DH2   DH3  KT\n",
            "0    1  7.2  7.3  6.3  7.3  7.0  7.9  ...   F NaN  2NT  3.25  3.25  4.50  A1\n",
            "1    2  5.4  3.9  3.9  4.0  5.4  5.4  ...   M NaN    1  6.00  4.00  3.50   C\n",
            "2    3  5.6  6.8  7.2  7.5  4.3  7.4  ...   M NaN    1  5.00  6.75  4.00   C\n",
            "3    4  6.6  6.4  5.3  6.9  5.4  7.3  ...   M NaN    1  4.25  4.25  5.25  D1\n",
            "4    5  6.0  5.0  6.0  7.3  6.5  7.7  ...   M NaN  2NT  4.25  4.50  5.00   A\n",
            "5    6  9.3  7.6  7.9  8.6  7.0  7.3  ...   M NaN    1  1.50  4.00  6.00  D1\n",
            "6    7  2.8  3.9  5.5  6.9  5.0  7.3  ...   F NaN    2  6.50  6.75  5.25   C\n",
            "7    8  8.3  6.0  7.6  5.1  7.5  4.7  ...   F NaN    2  3.75  4.50  4.25  D1\n",
            "8    9  6.5  6.3  7.6  6.0  5.5  7.1  ...   F NaN    1  3.50  3.50  6.75  D1\n",
            "9   10  7.3  5.9  4.7  7.1  6.7  7.9  ...   F NaN    1  4.00  4.75  5.50  D1\n",
            "\n",
            "[10 rows x 56 columns]\n"
          ]
        }
      ]
    },
    {
      "cell_type": "code",
      "metadata": {
        "colab": {
          "base_uri": "https://localhost:8080/"
        },
        "id": "PG5LtVGjo3TU",
        "outputId": "7aeb495a-36fa-45ef-f03e-5b9853739c7e"
      },
      "source": [
        "import pandas as pd\n",
        "heartDisease = pd.read_csv(\"https://raw.githubusercontent.com/huynhhoc/DataAnalystDeepLearning/main/Data/dulieuxettuyendaihoc.csv\", header = None)\n",
        "print (heartDisease)"
      ],
      "execution_count": 12,
      "outputs": [
        {
          "output_type": "stream",
          "name": "stdout",
          "text": [
            "      0    1    2    3    4    5    6   ...  49   50   51    52    53    54  55\n",
            "0    STT   T1   L1   H1   S1   V1   X1  ...  GT   DT   KV   DH1   DH2   DH3  KT\n",
            "1      1  7.2  7.3  6.3  7.3    7  7.9  ...   F  NaN  2NT  3.25  3.25   4.5  A1\n",
            "2      2  5.4  3.9  3.9    4  5.4  5.4  ...   M  NaN    1     6     4   3.5   C\n",
            "3      3  5.6  6.8  7.2  7.5  4.3  7.4  ...   M  NaN    1     5  6.75     4   C\n",
            "4      4  6.6  6.4  5.3  6.9  5.4  7.3  ...   M  NaN    1  4.25  4.25  5.25  D1\n",
            "..   ...  ...  ...  ...  ...  ...  ...  ...  ..  ...  ...   ...   ...   ...  ..\n",
            "96    96  8.6  6.9  7.4  8.8  7.6  5.8  ...   F  NaN    1  5.25   1.5  6.25   C\n",
            "97    97  3.7  5.4    6  5.1  5.5  3.9  ...   F  NaN    1  5.25  3.75  4.75   C\n",
            "98    98  8.8  5.5  7.4  7.7  6.2  7.3  ...   M  NaN  2NT     7     8     4   C\n",
            "99    99  2.7  1.8  3.4  5.3  4.5  7.9  ...   M  NaN    1     5   3.5   5.5   C\n",
            "100  100  4.1  5.2  4.9  5.3  5.5  5.4  ...   M  NaN  2NT  5.25   2.5  4.25   C\n",
            "\n",
            "[101 rows x 56 columns]\n"
          ]
        }
      ]
    },
    {
      "cell_type": "markdown",
      "metadata": {
        "id": "PglScEPBpPn1"
      },
      "source": [
        "**Example 10:**"
      ]
    },
    {
      "cell_type": "code",
      "metadata": {
        "colab": {
          "base_uri": "https://localhost:8080/"
        },
        "id": "n3IKBJP0pNE1",
        "outputId": "4280a968-24f6-4bb4-a178-e069b9a0eed2"
      },
      "source": [
        "import pandas as pd\n",
        "import numpy as np\n",
        "frame = pd.DataFrame(np.arange(16).reshape(4,4),\n",
        "\t\tindex =['white', 'black', 'red','blue'],\n",
        "\t\tcolumns =['up', 'down', 'right', 'left'])\n",
        "frame.to_json('frame.json')\n",
        "#Read json-formatted data\n",
        "jsonFrame = pd.read_json('frame.json')\n",
        "print(jsonFrame)"
      ],
      "execution_count": 13,
      "outputs": [
        {
          "output_type": "stream",
          "name": "stdout",
          "text": [
            "       up  down  right  left\n",
            "white   0     1      2     3\n",
            "black   4     5      6     7\n",
            "red     8     9     10    11\n",
            "blue   12    13     14    15\n"
          ]
        }
      ]
    },
    {
      "cell_type": "markdown",
      "metadata": {
        "id": "oQgY-fvEsueH"
      },
      "source": [
        "\n",
        "**Example 11:**"
      ]
    },
    {
      "cell_type": "code",
      "metadata": {
        "colab": {
          "base_uri": "https://localhost:8080/"
        },
        "id": "bC2xyc3Fstt2",
        "outputId": "7793e6e0-0eba-41ba-9be9-c423314a0374"
      },
      "source": [
        "import pandas as pd\n",
        "example11 = pd.read_table('https://raw.githubusercontent.com/huynhhoc/DataAnalystDeepLearning/main/Data/example11.txt', sep='\\D+', header=None, engine='python')\n",
        "print (example11)"
      ],
      "execution_count": 14,
      "outputs": [
        {
          "output_type": "stream",
          "name": "stdout",
          "text": [
            "   0    1    2\n",
            "0  0  123  122\n",
            "1  1  124  321\n",
            "2  2  125  333\n"
          ]
        }
      ]
    },
    {
      "cell_type": "markdown",
      "metadata": {
        "id": "7q9GrYfjs5ZI"
      },
      "source": [
        "\n",
        "**Example 12:**"
      ]
    },
    {
      "cell_type": "code",
      "metadata": {
        "colab": {
          "base_uri": "https://localhost:8080/"
        },
        "id": "87iQqzQss2Jg",
        "outputId": "ae0c4dac-1574-4a64-8f4f-e88837ea3b04"
      },
      "source": [
        "import pandas as pd\n",
        "example12 = pd.read_table('https://raw.githubusercontent.com/huynhhoc/DataAnalystDeepLearning/main/Data/example12.txt', sep=',', skiprows=[0,1,3,6])\n",
        "print (example12)"
      ],
      "execution_count": 15,
      "outputs": [
        {
          "output_type": "stream",
          "name": "stdout",
          "text": [
            "   white  red  blue  green animal\n",
            "0      1    5     2      3    cat\n",
            "1      2    7     8      5    dog\n",
            "2      3    3     6      7  horse\n",
            "3      2    2     8      3   duck\n",
            "4      4    4     2      1  mouse\n"
          ]
        }
      ]
    },
    {
      "cell_type": "markdown",
      "metadata": {
        "id": "DnMfX6bts-ig"
      },
      "source": [
        "\n",
        "**Example 13:**"
      ]
    },
    {
      "cell_type": "code",
      "metadata": {
        "colab": {
          "base_uri": "https://localhost:8080/"
        },
        "id": "6pP2Xu4StAEv",
        "outputId": "534a3441-9cd4-4572-b8a0-c67437fd6294"
      },
      "source": [
        "import pandas as pd\n",
        "example13 = pd.read_table('https://raw.githubusercontent.com/huynhhoc/DataAnalystDeepLearning/main/Data/example13.txt', skiprows=[2], nrows=3)\n",
        "print (example13)"
      ],
      "execution_count": 16,
      "outputs": [
        {
          "output_type": "stream",
          "name": "stdout",
          "text": [
            "  white,red,blue,green,animal\n",
            "0                 1,5,2,3,cat\n",
            "1               3,3,6,7,horse\n",
            "2                2,2,8,3,duck\n"
          ]
        }
      ]
    },
    {
      "cell_type": "markdown",
      "metadata": {
        "id": "i6FhSth96N1B"
      },
      "source": [
        "**Example 14:**"
      ]
    },
    {
      "cell_type": "code",
      "metadata": {
        "colab": {
          "base_uri": "https://localhost:8080/"
        },
        "id": "vQLyUus16R7Z",
        "outputId": "3203710f-972a-4e4d-de8a-37f448210826"
      },
      "source": [
        "import pandas as pd\n",
        "import numpy as np\n",
        "frame = pd.DataFrame(np.arange(16).reshape(4,4),index = ['red', 'blue', 'yellow','white'],columns = ['ball', 'pen', 'pencil', 'paper'])\n",
        "print(frame)"
      ],
      "execution_count": 17,
      "outputs": [
        {
          "output_type": "stream",
          "name": "stdout",
          "text": [
            "        ball  pen  pencil  paper\n",
            "red        0    1       2      3\n",
            "blue       4    5       6      7\n",
            "yellow     8    9      10     11\n",
            "white     12   13      14     15\n"
          ]
        }
      ]
    },
    {
      "cell_type": "code",
      "metadata": {
        "colab": {
          "base_uri": "https://localhost:8080/"
        },
        "id": "_eu1rquK6bJK",
        "outputId": "1e340aa2-d237-4fb3-cead-e490794323b5"
      },
      "source": [
        "newframe = pd.DataFrame(frame, columns=['paper','pen'])\n",
        "print(newframe)"
      ],
      "execution_count": 18,
      "outputs": [
        {
          "output_type": "stream",
          "name": "stdout",
          "text": [
            "        paper  pen\n",
            "red         3    1\n",
            "blue        7    5\n",
            "yellow     11    9\n",
            "white      15   13\n"
          ]
        }
      ]
    },
    {
      "cell_type": "code",
      "metadata": {
        "colab": {
          "base_uri": "https://localhost:8080/"
        },
        "id": "spdh_rX-6fir",
        "outputId": "c1b5d595-8a26-4cb5-e8a8-391db01e5381"
      },
      "source": [
        "filteredFrame = frame[frame < 11]\n",
        "print(filteredFrame)"
      ],
      "execution_count": 19,
      "outputs": [
        {
          "output_type": "stream",
          "name": "stdout",
          "text": [
            "        ball  pen  pencil  paper\n",
            "red      0.0  1.0     2.0    3.0\n",
            "blue     4.0  5.0     6.0    7.0\n",
            "yellow   8.0  9.0    10.0    NaN\n",
            "white    NaN  NaN     NaN    NaN\n"
          ]
        }
      ]
    },
    {
      "cell_type": "markdown",
      "metadata": {
        "id": "tVOD_XJr6jYt"
      },
      "source": [
        "**Example 15:**"
      ]
    },
    {
      "cell_type": "code",
      "metadata": {
        "colab": {
          "base_uri": "https://localhost:8080/"
        },
        "id": "8TG96xYw6hQz",
        "outputId": "ee121cbd-1b4b-4294-991f-4feeb0bc6160"
      },
      "source": [
        "dropAllNaNFrame = filteredFrame.dropna()\n",
        "print (dropAllNaNFrame)"
      ],
      "execution_count": 20,
      "outputs": [
        {
          "output_type": "stream",
          "name": "stdout",
          "text": [
            "      ball  pen  pencil  paper\n",
            "red    0.0  1.0     2.0    3.0\n",
            "blue   4.0  5.0     6.0    7.0\n"
          ]
        }
      ]
    },
    {
      "cell_type": "markdown",
      "metadata": {
        "id": "aaVPLfQX6pek"
      },
      "source": [
        "\n",
        "**Example 16:**"
      ]
    },
    {
      "cell_type": "code",
      "metadata": {
        "colab": {
          "base_uri": "https://localhost:8080/"
        },
        "id": "R3AdIuh46oGm",
        "outputId": "0996eb72-e851-4908-a82c-9d4f7cb667a8"
      },
      "source": [
        "dropNaNAllFrame = filteredFrame.dropna(how='all')\n",
        "print(dropNaNAllFrame)"
      ],
      "execution_count": 21,
      "outputs": [
        {
          "output_type": "stream",
          "name": "stdout",
          "text": [
            "        ball  pen  pencil  paper\n",
            "red      0.0  1.0     2.0    3.0\n",
            "blue     4.0  5.0     6.0    7.0\n",
            "yellow   8.0  9.0    10.0    NaN\n"
          ]
        }
      ]
    },
    {
      "cell_type": "markdown",
      "metadata": {
        "id": "bohHV0Dw7kJE"
      },
      "source": [
        "\n",
        "**Example 17**"
      ]
    },
    {
      "cell_type": "code",
      "metadata": {
        "colab": {
          "base_uri": "https://localhost:8080/"
        },
        "id": "_Z73Bz3V7jwU",
        "outputId": "f1aa5cdb-2d15-4a4d-c60b-753c5a445e57"
      },
      "source": [
        "filteredFrame.isnull().sum()"
      ],
      "execution_count": 22,
      "outputs": [
        {
          "output_type": "execute_result",
          "data": {
            "text/plain": [
              "ball      1\n",
              "pen       1\n",
              "pencil    1\n",
              "paper     2\n",
              "dtype: int64"
            ]
          },
          "metadata": {},
          "execution_count": 22
        }
      ]
    },
    {
      "cell_type": "markdown",
      "metadata": {
        "id": "faB-paVn7qVN"
      },
      "source": [
        "**Example 18**"
      ]
    },
    {
      "cell_type": "code",
      "metadata": {
        "colab": {
          "base_uri": "https://localhost:8080/"
        },
        "id": "SzJ4FWfs7rt1",
        "outputId": "64ff70d5-ed6a-4780-eeee-32b6555efbff"
      },
      "source": [
        "print (filteredFrame)"
      ],
      "execution_count": 23,
      "outputs": [
        {
          "output_type": "stream",
          "name": "stdout",
          "text": [
            "        ball  pen  pencil  paper\n",
            "red      0.0  1.0     2.0    3.0\n",
            "blue     4.0  5.0     6.0    7.0\n",
            "yellow   8.0  9.0    10.0    NaN\n",
            "white    NaN  NaN     NaN    NaN\n"
          ]
        }
      ]
    },
    {
      "cell_type": "code",
      "metadata": {
        "colab": {
          "base_uri": "https://localhost:8080/"
        },
        "id": "7QWFCYfB8smV",
        "outputId": "38cde538-5488-4b65-f38b-95e2c4f450ba"
      },
      "source": [
        "fillnazeroFrame = filteredFrame.fillna(0)\n",
        "print(fillnazeroFrame)"
      ],
      "execution_count": 24,
      "outputs": [
        {
          "output_type": "stream",
          "name": "stdout",
          "text": [
            "        ball  pen  pencil  paper\n",
            "red      0.0  1.0     2.0    3.0\n",
            "blue     4.0  5.0     6.0    7.0\n",
            "yellow   8.0  9.0    10.0    0.0\n",
            "white    0.0  0.0     0.0    0.0\n"
          ]
        }
      ]
    },
    {
      "cell_type": "markdown",
      "metadata": {
        "id": "IuW46dWk8v6m"
      },
      "source": [
        "**Example 19**"
      ]
    },
    {
      "cell_type": "code",
      "metadata": {
        "colab": {
          "base_uri": "https://localhost:8080/"
        },
        "id": "NMXHsabc8xC1",
        "outputId": "e1cc40d8-c22e-4e07-d7d2-f6c46f179d41"
      },
      "source": [
        "from google.colab import drive\n",
        "drive.mount('/drive')"
      ],
      "execution_count": 29,
      "outputs": [
        {
          "output_type": "stream",
          "name": "stdout",
          "text": [
            "Drive already mounted at /drive; to attempt to forcibly remount, call drive.mount(\"/drive\", force_remount=True).\n"
          ]
        }
      ]
    },
    {
      "cell_type": "code",
      "metadata": {
        "id": "qq4xas3lEZwf"
      },
      "source": [
        "frame.to_csv('/drive/My Drive/DataAnalyst/lab01_example8.csv')"
      ],
      "execution_count": 31,
      "outputs": []
    }
  ]
}