{
  "nbformat": 4,
  "nbformat_minor": 0,
  "metadata": {
    "colab": {
      "name": "HomeWork_Lab02.ipynb",
      "provenance": [],
      "authorship_tag": "ABX9TyNJR8+fetFlwsJQ0lamjEML",
      "include_colab_link": true
    },
    "kernelspec": {
      "name": "python3",
      "display_name": "Python 3"
    },
    "language_info": {
      "name": "python"
    }
  },
  "cells": [
    {
      "cell_type": "markdown",
      "metadata": {
        "id": "view-in-github",
        "colab_type": "text"
      },
      "source": [
        "<a href=\"https://colab.research.google.com/github/PhucNguyenZed/AnalystDeepLearning/blob/main/HomeWork_Lab02.ipynb\" target=\"_parent\"><img src=\"https://colab.research.google.com/assets/colab-badge.svg\" alt=\"Open In Colab\"/></a>"
      ]
    },
    {
      "cell_type": "markdown",
      "metadata": {
        "id": "4R4dD9q-yHYk"
      },
      "source": [
        "**TRÌNH BÀY DỮ LIỆU**"
      ]
    },
    {
      "cell_type": "code",
      "metadata": {
        "colab": {
          "base_uri": "https://localhost:8080/"
        },
        "id": "00VnULjpyAMg",
        "outputId": "0c408c05-f1e1-4941-fa5c-1dc74adfedcc"
      },
      "source": [
        "import pandas as pd\n",
        "import numpy as np\n",
        "import sys\n",
        "import seaborn as sns\n",
        "import matplotlib.pyplot as plt\n",
        "import statsmodels.api as sm"
      ],
      "execution_count": 1,
      "outputs": [
        {
          "output_type": "stream",
          "name": "stderr",
          "text": [
            "/usr/local/lib/python3.7/dist-packages/statsmodels/tools/_testing.py:19: FutureWarning: pandas.util.testing is deprecated. Use the functions in the public API at pandas.testing instead.\n",
            "  import pandas.util.testing as tm\n"
          ]
        }
      ]
    },
    {
      "cell_type": "code",
      "metadata": {
        "colab": {
          "base_uri": "https://localhost:8080/"
        },
        "id": "-ncMz5WsyNuc",
        "outputId": "572f491b-7905-4f55-cbc1-d69ede8a46bf"
      },
      "source": [
        "from google.colab import drive\n",
        "drive.mount('/drive')"
      ],
      "execution_count": 2,
      "outputs": [
        {
          "output_type": "stream",
          "name": "stdout",
          "text": [
            "Mounted at /drive\n"
          ]
        }
      ]
    },
    {
      "cell_type": "code",
      "metadata": {
        "colab": {
          "base_uri": "https://localhost:8080/",
          "height": 487
        },
        "id": "J8GbRE9gyVoU",
        "outputId": "60c5639d-2dcb-457e-b719-e308f0efb328"
      },
      "source": [
        "df = pd.read_csv(\"/drive/My Drive/DataAnalyst/processed_dulieuxettuyendaihoc.csv\", index_col = \"STT\")\n",
        "df"
      ],
      "execution_count": 4,
      "outputs": [
        {
          "output_type": "execute_result",
          "data": {
            "text/html": [
              "<div>\n",
              "<style scoped>\n",
              "    .dataframe tbody tr th:only-of-type {\n",
              "        vertical-align: middle;\n",
              "    }\n",
              "\n",
              "    .dataframe tbody tr th {\n",
              "        vertical-align: top;\n",
              "    }\n",
              "\n",
              "    .dataframe thead th {\n",
              "        text-align: right;\n",
              "    }\n",
              "</style>\n",
              "<table border=\"1\" class=\"dataframe\">\n",
              "  <thead>\n",
              "    <tr style=\"text-align: right;\">\n",
              "      <th></th>\n",
              "      <th>Unnamed: 0</th>\n",
              "      <th>Unnamed: 0.1</th>\n",
              "      <th>T1</th>\n",
              "      <th>L1</th>\n",
              "      <th>H1</th>\n",
              "      <th>S1</th>\n",
              "      <th>V1</th>\n",
              "      <th>X1</th>\n",
              "      <th>D1</th>\n",
              "      <th>N1</th>\n",
              "      <th>T2</th>\n",
              "      <th>L2</th>\n",
              "      <th>H2</th>\n",
              "      <th>S2</th>\n",
              "      <th>V2</th>\n",
              "      <th>X2</th>\n",
              "      <th>D2</th>\n",
              "      <th>N2</th>\n",
              "      <th>T3</th>\n",
              "      <th>L3</th>\n",
              "      <th>H3</th>\n",
              "      <th>S3</th>\n",
              "      <th>V3</th>\n",
              "      <th>X3</th>\n",
              "      <th>D3</th>\n",
              "      <th>N3</th>\n",
              "      <th>T4</th>\n",
              "      <th>L4</th>\n",
              "      <th>H4</th>\n",
              "      <th>S4</th>\n",
              "      <th>V4</th>\n",
              "      <th>X4</th>\n",
              "      <th>D4</th>\n",
              "      <th>N4</th>\n",
              "      <th>T5</th>\n",
              "      <th>L5</th>\n",
              "      <th>H5</th>\n",
              "      <th>S5</th>\n",
              "      <th>V5</th>\n",
              "      <th>X5</th>\n",
              "      <th>D5</th>\n",
              "      <th>N5</th>\n",
              "      <th>T6</th>\n",
              "      <th>L6</th>\n",
              "      <th>H6</th>\n",
              "      <th>S6</th>\n",
              "      <th>V6</th>\n",
              "      <th>X6</th>\n",
              "      <th>D6</th>\n",
              "      <th>N6</th>\n",
              "      <th>GT</th>\n",
              "      <th>DT</th>\n",
              "      <th>KV</th>\n",
              "      <th>DH1</th>\n",
              "      <th>DH2</th>\n",
              "      <th>DH3</th>\n",
              "      <th>KT</th>\n",
              "      <th>TBM1</th>\n",
              "      <th>TBM2</th>\n",
              "      <th>TBM3</th>\n",
              "      <th>XL1</th>\n",
              "      <th>XL2</th>\n",
              "      <th>XL3</th>\n",
              "      <th>US_TBM1</th>\n",
              "      <th>US_TBM2</th>\n",
              "      <th>US_TBM3</th>\n",
              "      <th>KQXT</th>\n",
              "    </tr>\n",
              "    <tr>\n",
              "      <th>STT</th>\n",
              "      <th></th>\n",
              "      <th></th>\n",
              "      <th></th>\n",
              "      <th></th>\n",
              "      <th></th>\n",
              "      <th></th>\n",
              "      <th></th>\n",
              "      <th></th>\n",
              "      <th></th>\n",
              "      <th></th>\n",
              "      <th></th>\n",
              "      <th></th>\n",
              "      <th></th>\n",
              "      <th></th>\n",
              "      <th></th>\n",
              "      <th></th>\n",
              "      <th></th>\n",
              "      <th></th>\n",
              "      <th></th>\n",
              "      <th></th>\n",
              "      <th></th>\n",
              "      <th></th>\n",
              "      <th></th>\n",
              "      <th></th>\n",
              "      <th></th>\n",
              "      <th></th>\n",
              "      <th></th>\n",
              "      <th></th>\n",
              "      <th></th>\n",
              "      <th></th>\n",
              "      <th></th>\n",
              "      <th></th>\n",
              "      <th></th>\n",
              "      <th></th>\n",
              "      <th></th>\n",
              "      <th></th>\n",
              "      <th></th>\n",
              "      <th></th>\n",
              "      <th></th>\n",
              "      <th></th>\n",
              "      <th></th>\n",
              "      <th></th>\n",
              "      <th></th>\n",
              "      <th></th>\n",
              "      <th></th>\n",
              "      <th></th>\n",
              "      <th></th>\n",
              "      <th></th>\n",
              "      <th></th>\n",
              "      <th></th>\n",
              "      <th></th>\n",
              "      <th></th>\n",
              "      <th></th>\n",
              "      <th></th>\n",
              "      <th></th>\n",
              "      <th></th>\n",
              "      <th></th>\n",
              "      <th></th>\n",
              "      <th></th>\n",
              "      <th></th>\n",
              "      <th></th>\n",
              "      <th></th>\n",
              "      <th></th>\n",
              "      <th></th>\n",
              "      <th></th>\n",
              "      <th></th>\n",
              "      <th></th>\n",
              "    </tr>\n",
              "  </thead>\n",
              "  <tbody>\n",
              "    <tr>\n",
              "      <th>1</th>\n",
              "      <td>0</td>\n",
              "      <td>0</td>\n",
              "      <td>7.2</td>\n",
              "      <td>7.3</td>\n",
              "      <td>6.3</td>\n",
              "      <td>7.3</td>\n",
              "      <td>7.0</td>\n",
              "      <td>7.9</td>\n",
              "      <td>7.3</td>\n",
              "      <td>5.5</td>\n",
              "      <td>8.4</td>\n",
              "      <td>8.9</td>\n",
              "      <td>5.8</td>\n",
              "      <td>9.0</td>\n",
              "      <td>6.6</td>\n",
              "      <td>8.7</td>\n",
              "      <td>7.2</td>\n",
              "      <td>5.8</td>\n",
              "      <td>7.4</td>\n",
              "      <td>7.4</td>\n",
              "      <td>5.2</td>\n",
              "      <td>6.6</td>\n",
              "      <td>6.9</td>\n",
              "      <td>8.9</td>\n",
              "      <td>8.1</td>\n",
              "      <td>5.8</td>\n",
              "      <td>7.2</td>\n",
              "      <td>7.1</td>\n",
              "      <td>5.9</td>\n",
              "      <td>7.2</td>\n",
              "      <td>6.6</td>\n",
              "      <td>5.8</td>\n",
              "      <td>8.1</td>\n",
              "      <td>5.9</td>\n",
              "      <td>7.4</td>\n",
              "      <td>5.6</td>\n",
              "      <td>6.1</td>\n",
              "      <td>5.7</td>\n",
              "      <td>7.9</td>\n",
              "      <td>5.0</td>\n",
              "      <td>7.4</td>\n",
              "      <td>5.0</td>\n",
              "      <td>6.9</td>\n",
              "      <td>5.7</td>\n",
              "      <td>6.5</td>\n",
              "      <td>7.2</td>\n",
              "      <td>8.4</td>\n",
              "      <td>6.6</td>\n",
              "      <td>7.6</td>\n",
              "      <td>5.9</td>\n",
              "      <td>F</td>\n",
              "      <td>0.0</td>\n",
              "      <td>2NT</td>\n",
              "      <td>3.25</td>\n",
              "      <td>3.25</td>\n",
              "      <td>4.50</td>\n",
              "      <td>A1</td>\n",
              "      <td>7.00</td>\n",
              "      <td>7.54</td>\n",
              "      <td>7.06</td>\n",
              "      <td>K</td>\n",
              "      <td>K</td>\n",
              "      <td>K</td>\n",
              "      <td>2.800</td>\n",
              "      <td>3.016</td>\n",
              "      <td>2.824</td>\n",
              "      <td>0.0</td>\n",
              "    </tr>\n",
              "    <tr>\n",
              "      <th>2</th>\n",
              "      <td>1</td>\n",
              "      <td>1</td>\n",
              "      <td>5.4</td>\n",
              "      <td>3.9</td>\n",
              "      <td>3.9</td>\n",
              "      <td>4.0</td>\n",
              "      <td>5.4</td>\n",
              "      <td>5.4</td>\n",
              "      <td>5.3</td>\n",
              "      <td>2.8</td>\n",
              "      <td>6.3</td>\n",
              "      <td>5.4</td>\n",
              "      <td>3.2</td>\n",
              "      <td>7.2</td>\n",
              "      <td>5.4</td>\n",
              "      <td>6.1</td>\n",
              "      <td>4.7</td>\n",
              "      <td>4.7</td>\n",
              "      <td>4.3</td>\n",
              "      <td>3.8</td>\n",
              "      <td>3.7</td>\n",
              "      <td>3.7</td>\n",
              "      <td>5.2</td>\n",
              "      <td>6.6</td>\n",
              "      <td>5.8</td>\n",
              "      <td>4.4</td>\n",
              "      <td>4.9</td>\n",
              "      <td>2.8</td>\n",
              "      <td>5.1</td>\n",
              "      <td>4.5</td>\n",
              "      <td>5.6</td>\n",
              "      <td>7.0</td>\n",
              "      <td>7.6</td>\n",
              "      <td>4.7</td>\n",
              "      <td>3.0</td>\n",
              "      <td>4.6</td>\n",
              "      <td>4.4</td>\n",
              "      <td>4.9</td>\n",
              "      <td>4.3</td>\n",
              "      <td>6.3</td>\n",
              "      <td>6.7</td>\n",
              "      <td>4.4</td>\n",
              "      <td>4.0</td>\n",
              "      <td>5.4</td>\n",
              "      <td>4.0</td>\n",
              "      <td>5.2</td>\n",
              "      <td>5.5</td>\n",
              "      <td>6.6</td>\n",
              "      <td>6.1</td>\n",
              "      <td>4.4</td>\n",
              "      <td>M</td>\n",
              "      <td>0.0</td>\n",
              "      <td>1</td>\n",
              "      <td>6.00</td>\n",
              "      <td>4.00</td>\n",
              "      <td>3.50</td>\n",
              "      <td>C</td>\n",
              "      <td>4.69</td>\n",
              "      <td>5.47</td>\n",
              "      <td>4.70</td>\n",
              "      <td>Y</td>\n",
              "      <td>TB</td>\n",
              "      <td>Y</td>\n",
              "      <td>1.876</td>\n",
              "      <td>2.188</td>\n",
              "      <td>1.880</td>\n",
              "      <td>0.0</td>\n",
              "    </tr>\n",
              "    <tr>\n",
              "      <th>3</th>\n",
              "      <td>2</td>\n",
              "      <td>2</td>\n",
              "      <td>5.6</td>\n",
              "      <td>6.8</td>\n",
              "      <td>7.2</td>\n",
              "      <td>7.5</td>\n",
              "      <td>4.3</td>\n",
              "      <td>7.4</td>\n",
              "      <td>5.8</td>\n",
              "      <td>3.2</td>\n",
              "      <td>5.0</td>\n",
              "      <td>4.9</td>\n",
              "      <td>6.2</td>\n",
              "      <td>6.1</td>\n",
              "      <td>5.3</td>\n",
              "      <td>7.1</td>\n",
              "      <td>4.0</td>\n",
              "      <td>4.9</td>\n",
              "      <td>2.8</td>\n",
              "      <td>6.3</td>\n",
              "      <td>6.2</td>\n",
              "      <td>5.6</td>\n",
              "      <td>2.5</td>\n",
              "      <td>5.8</td>\n",
              "      <td>5.1</td>\n",
              "      <td>3.7</td>\n",
              "      <td>6.1</td>\n",
              "      <td>6.1</td>\n",
              "      <td>5.8</td>\n",
              "      <td>6.8</td>\n",
              "      <td>4.0</td>\n",
              "      <td>6.4</td>\n",
              "      <td>5.3</td>\n",
              "      <td>4.1</td>\n",
              "      <td>4.8</td>\n",
              "      <td>5.1</td>\n",
              "      <td>6.4</td>\n",
              "      <td>5.1</td>\n",
              "      <td>4.0</td>\n",
              "      <td>6.9</td>\n",
              "      <td>3.9</td>\n",
              "      <td>3.2</td>\n",
              "      <td>5.7</td>\n",
              "      <td>6.6</td>\n",
              "      <td>6.8</td>\n",
              "      <td>6.8</td>\n",
              "      <td>4.1</td>\n",
              "      <td>7.9</td>\n",
              "      <td>8.1</td>\n",
              "      <td>4.6</td>\n",
              "      <td>M</td>\n",
              "      <td>0.0</td>\n",
              "      <td>1</td>\n",
              "      <td>5.00</td>\n",
              "      <td>6.75</td>\n",
              "      <td>4.00</td>\n",
              "      <td>C</td>\n",
              "      <td>5.77</td>\n",
              "      <td>5.38</td>\n",
              "      <td>4.33</td>\n",
              "      <td>TB</td>\n",
              "      <td>TB</td>\n",
              "      <td>Y</td>\n",
              "      <td>2.308</td>\n",
              "      <td>2.152</td>\n",
              "      <td>1.732</td>\n",
              "      <td>1.0</td>\n",
              "    </tr>\n",
              "    <tr>\n",
              "      <th>4</th>\n",
              "      <td>3</td>\n",
              "      <td>3</td>\n",
              "      <td>6.6</td>\n",
              "      <td>6.4</td>\n",
              "      <td>5.3</td>\n",
              "      <td>6.9</td>\n",
              "      <td>5.4</td>\n",
              "      <td>7.3</td>\n",
              "      <td>6.4</td>\n",
              "      <td>5.8</td>\n",
              "      <td>5.1</td>\n",
              "      <td>6.2</td>\n",
              "      <td>5.5</td>\n",
              "      <td>5.5</td>\n",
              "      <td>4.4</td>\n",
              "      <td>6.5</td>\n",
              "      <td>4.9</td>\n",
              "      <td>4.4</td>\n",
              "      <td>5.9</td>\n",
              "      <td>7.3</td>\n",
              "      <td>5.9</td>\n",
              "      <td>4.9</td>\n",
              "      <td>5.7</td>\n",
              "      <td>6.8</td>\n",
              "      <td>6.8</td>\n",
              "      <td>5.4</td>\n",
              "      <td>4.1</td>\n",
              "      <td>4.4</td>\n",
              "      <td>4.1</td>\n",
              "      <td>7.3</td>\n",
              "      <td>5.3</td>\n",
              "      <td>7.1</td>\n",
              "      <td>7.3</td>\n",
              "      <td>5.6</td>\n",
              "      <td>6.1</td>\n",
              "      <td>4.9</td>\n",
              "      <td>5.3</td>\n",
              "      <td>4.0</td>\n",
              "      <td>6.2</td>\n",
              "      <td>5.5</td>\n",
              "      <td>5.9</td>\n",
              "      <td>6.5</td>\n",
              "      <td>7.4</td>\n",
              "      <td>5.6</td>\n",
              "      <td>6.6</td>\n",
              "      <td>6.8</td>\n",
              "      <td>6.6</td>\n",
              "      <td>7.1</td>\n",
              "      <td>7.3</td>\n",
              "      <td>7.4</td>\n",
              "      <td>M</td>\n",
              "      <td>0.0</td>\n",
              "      <td>1</td>\n",
              "      <td>4.25</td>\n",
              "      <td>4.25</td>\n",
              "      <td>5.25</td>\n",
              "      <td>D1</td>\n",
              "      <td>6.21</td>\n",
              "      <td>5.20</td>\n",
              "      <td>6.03</td>\n",
              "      <td>TB</td>\n",
              "      <td>TB</td>\n",
              "      <td>TB</td>\n",
              "      <td>2.484</td>\n",
              "      <td>2.080</td>\n",
              "      <td>2.412</td>\n",
              "      <td>0.0</td>\n",
              "    </tr>\n",
              "    <tr>\n",
              "      <th>5</th>\n",
              "      <td>4</td>\n",
              "      <td>4</td>\n",
              "      <td>6.0</td>\n",
              "      <td>5.0</td>\n",
              "      <td>6.0</td>\n",
              "      <td>7.3</td>\n",
              "      <td>6.5</td>\n",
              "      <td>7.7</td>\n",
              "      <td>7.9</td>\n",
              "      <td>6.1</td>\n",
              "      <td>5.4</td>\n",
              "      <td>5.5</td>\n",
              "      <td>5.9</td>\n",
              "      <td>7.5</td>\n",
              "      <td>6.5</td>\n",
              "      <td>6.9</td>\n",
              "      <td>7.6</td>\n",
              "      <td>6.4</td>\n",
              "      <td>7.6</td>\n",
              "      <td>7.6</td>\n",
              "      <td>6.7</td>\n",
              "      <td>6.6</td>\n",
              "      <td>5.7</td>\n",
              "      <td>7.9</td>\n",
              "      <td>7.4</td>\n",
              "      <td>7.3</td>\n",
              "      <td>4.4</td>\n",
              "      <td>6.5</td>\n",
              "      <td>5.6</td>\n",
              "      <td>8.3</td>\n",
              "      <td>6.2</td>\n",
              "      <td>4.9</td>\n",
              "      <td>8.6</td>\n",
              "      <td>7.7</td>\n",
              "      <td>6.8</td>\n",
              "      <td>5.4</td>\n",
              "      <td>4.7</td>\n",
              "      <td>5.0</td>\n",
              "      <td>5.1</td>\n",
              "      <td>7.0</td>\n",
              "      <td>7.0</td>\n",
              "      <td>6.3</td>\n",
              "      <td>8.0</td>\n",
              "      <td>6.2</td>\n",
              "      <td>6.8</td>\n",
              "      <td>6.9</td>\n",
              "      <td>6.6</td>\n",
              "      <td>6.1</td>\n",
              "      <td>7.5</td>\n",
              "      <td>7.2</td>\n",
              "      <td>M</td>\n",
              "      <td>0.0</td>\n",
              "      <td>2NT</td>\n",
              "      <td>4.25</td>\n",
              "      <td>4.50</td>\n",
              "      <td>5.00</td>\n",
              "      <td>A</td>\n",
              "      <td>6.50</td>\n",
              "      <td>6.36</td>\n",
              "      <td>7.01</td>\n",
              "      <td>K</td>\n",
              "      <td>TB</td>\n",
              "      <td>K</td>\n",
              "      <td>2.600</td>\n",
              "      <td>2.544</td>\n",
              "      <td>2.804</td>\n",
              "      <td>0.0</td>\n",
              "    </tr>\n",
              "    <tr>\n",
              "      <th>...</th>\n",
              "      <td>...</td>\n",
              "      <td>...</td>\n",
              "      <td>...</td>\n",
              "      <td>...</td>\n",
              "      <td>...</td>\n",
              "      <td>...</td>\n",
              "      <td>...</td>\n",
              "      <td>...</td>\n",
              "      <td>...</td>\n",
              "      <td>...</td>\n",
              "      <td>...</td>\n",
              "      <td>...</td>\n",
              "      <td>...</td>\n",
              "      <td>...</td>\n",
              "      <td>...</td>\n",
              "      <td>...</td>\n",
              "      <td>...</td>\n",
              "      <td>...</td>\n",
              "      <td>...</td>\n",
              "      <td>...</td>\n",
              "      <td>...</td>\n",
              "      <td>...</td>\n",
              "      <td>...</td>\n",
              "      <td>...</td>\n",
              "      <td>...</td>\n",
              "      <td>...</td>\n",
              "      <td>...</td>\n",
              "      <td>...</td>\n",
              "      <td>...</td>\n",
              "      <td>...</td>\n",
              "      <td>...</td>\n",
              "      <td>...</td>\n",
              "      <td>...</td>\n",
              "      <td>...</td>\n",
              "      <td>...</td>\n",
              "      <td>...</td>\n",
              "      <td>...</td>\n",
              "      <td>...</td>\n",
              "      <td>...</td>\n",
              "      <td>...</td>\n",
              "      <td>...</td>\n",
              "      <td>...</td>\n",
              "      <td>...</td>\n",
              "      <td>...</td>\n",
              "      <td>...</td>\n",
              "      <td>...</td>\n",
              "      <td>...</td>\n",
              "      <td>...</td>\n",
              "      <td>...</td>\n",
              "      <td>...</td>\n",
              "      <td>...</td>\n",
              "      <td>...</td>\n",
              "      <td>...</td>\n",
              "      <td>...</td>\n",
              "      <td>...</td>\n",
              "      <td>...</td>\n",
              "      <td>...</td>\n",
              "      <td>...</td>\n",
              "      <td>...</td>\n",
              "      <td>...</td>\n",
              "      <td>...</td>\n",
              "      <td>...</td>\n",
              "      <td>...</td>\n",
              "      <td>...</td>\n",
              "      <td>...</td>\n",
              "      <td>...</td>\n",
              "      <td>...</td>\n",
              "    </tr>\n",
              "    <tr>\n",
              "      <th>96</th>\n",
              "      <td>95</td>\n",
              "      <td>95</td>\n",
              "      <td>8.6</td>\n",
              "      <td>6.9</td>\n",
              "      <td>7.4</td>\n",
              "      <td>8.8</td>\n",
              "      <td>7.6</td>\n",
              "      <td>5.8</td>\n",
              "      <td>7.3</td>\n",
              "      <td>5.7</td>\n",
              "      <td>8.9</td>\n",
              "      <td>6.8</td>\n",
              "      <td>6.5</td>\n",
              "      <td>7.3</td>\n",
              "      <td>7.0</td>\n",
              "      <td>7.3</td>\n",
              "      <td>6.9</td>\n",
              "      <td>7.6</td>\n",
              "      <td>7.7</td>\n",
              "      <td>5.6</td>\n",
              "      <td>5.9</td>\n",
              "      <td>7.7</td>\n",
              "      <td>6.8</td>\n",
              "      <td>8.1</td>\n",
              "      <td>6.6</td>\n",
              "      <td>7.5</td>\n",
              "      <td>6.7</td>\n",
              "      <td>6.8</td>\n",
              "      <td>6.0</td>\n",
              "      <td>8.3</td>\n",
              "      <td>7.5</td>\n",
              "      <td>7.1</td>\n",
              "      <td>6.8</td>\n",
              "      <td>7.8</td>\n",
              "      <td>7.9</td>\n",
              "      <td>6.7</td>\n",
              "      <td>7.2</td>\n",
              "      <td>6.1</td>\n",
              "      <td>7.2</td>\n",
              "      <td>5.3</td>\n",
              "      <td>5.2</td>\n",
              "      <td>5.2</td>\n",
              "      <td>6.6</td>\n",
              "      <td>6.9</td>\n",
              "      <td>7.4</td>\n",
              "      <td>7.0</td>\n",
              "      <td>7.6</td>\n",
              "      <td>6.3</td>\n",
              "      <td>6.1</td>\n",
              "      <td>6.2</td>\n",
              "      <td>F</td>\n",
              "      <td>0.0</td>\n",
              "      <td>1</td>\n",
              "      <td>5.25</td>\n",
              "      <td>1.50</td>\n",
              "      <td>6.25</td>\n",
              "      <td>C</td>\n",
              "      <td>7.43</td>\n",
              "      <td>7.42</td>\n",
              "      <td>7.04</td>\n",
              "      <td>K</td>\n",
              "      <td>K</td>\n",
              "      <td>K</td>\n",
              "      <td>2.972</td>\n",
              "      <td>2.968</td>\n",
              "      <td>2.816</td>\n",
              "      <td>0.0</td>\n",
              "    </tr>\n",
              "    <tr>\n",
              "      <th>97</th>\n",
              "      <td>96</td>\n",
              "      <td>96</td>\n",
              "      <td>3.7</td>\n",
              "      <td>5.4</td>\n",
              "      <td>6.0</td>\n",
              "      <td>5.1</td>\n",
              "      <td>5.5</td>\n",
              "      <td>3.9</td>\n",
              "      <td>6.1</td>\n",
              "      <td>4.4</td>\n",
              "      <td>4.1</td>\n",
              "      <td>4.8</td>\n",
              "      <td>5.1</td>\n",
              "      <td>4.7</td>\n",
              "      <td>5.9</td>\n",
              "      <td>6.9</td>\n",
              "      <td>4.6</td>\n",
              "      <td>5.4</td>\n",
              "      <td>3.1</td>\n",
              "      <td>3.1</td>\n",
              "      <td>5.3</td>\n",
              "      <td>5.8</td>\n",
              "      <td>5.6</td>\n",
              "      <td>5.4</td>\n",
              "      <td>6.6</td>\n",
              "      <td>4.2</td>\n",
              "      <td>3.4</td>\n",
              "      <td>4.9</td>\n",
              "      <td>5.9</td>\n",
              "      <td>6.9</td>\n",
              "      <td>5.6</td>\n",
              "      <td>6.4</td>\n",
              "      <td>5.7</td>\n",
              "      <td>4.3</td>\n",
              "      <td>5.5</td>\n",
              "      <td>4.7</td>\n",
              "      <td>4.6</td>\n",
              "      <td>3.4</td>\n",
              "      <td>6.9</td>\n",
              "      <td>7.6</td>\n",
              "      <td>7.4</td>\n",
              "      <td>4.9</td>\n",
              "      <td>5.7</td>\n",
              "      <td>7.7</td>\n",
              "      <td>5.0</td>\n",
              "      <td>7.0</td>\n",
              "      <td>6.5</td>\n",
              "      <td>7.9</td>\n",
              "      <td>7.5</td>\n",
              "      <td>4.4</td>\n",
              "      <td>F</td>\n",
              "      <td>0.0</td>\n",
              "      <td>1</td>\n",
              "      <td>5.25</td>\n",
              "      <td>3.75</td>\n",
              "      <td>4.75</td>\n",
              "      <td>C</td>\n",
              "      <td>4.93</td>\n",
              "      <td>5.15</td>\n",
              "      <td>4.78</td>\n",
              "      <td>Y</td>\n",
              "      <td>TB</td>\n",
              "      <td>Y</td>\n",
              "      <td>1.972</td>\n",
              "      <td>2.060</td>\n",
              "      <td>1.912</td>\n",
              "      <td>0.0</td>\n",
              "    </tr>\n",
              "    <tr>\n",
              "      <th>98</th>\n",
              "      <td>97</td>\n",
              "      <td>97</td>\n",
              "      <td>8.8</td>\n",
              "      <td>5.5</td>\n",
              "      <td>7.4</td>\n",
              "      <td>7.7</td>\n",
              "      <td>6.2</td>\n",
              "      <td>7.3</td>\n",
              "      <td>8.1</td>\n",
              "      <td>4.5</td>\n",
              "      <td>9.5</td>\n",
              "      <td>7.3</td>\n",
              "      <td>6.0</td>\n",
              "      <td>8.4</td>\n",
              "      <td>7.0</td>\n",
              "      <td>8.4</td>\n",
              "      <td>8.8</td>\n",
              "      <td>6.5</td>\n",
              "      <td>9.5</td>\n",
              "      <td>6.6</td>\n",
              "      <td>6.4</td>\n",
              "      <td>7.6</td>\n",
              "      <td>7.0</td>\n",
              "      <td>9.6</td>\n",
              "      <td>9.3</td>\n",
              "      <td>6.7</td>\n",
              "      <td>8.5</td>\n",
              "      <td>6.9</td>\n",
              "      <td>5.8</td>\n",
              "      <td>8.4</td>\n",
              "      <td>8.0</td>\n",
              "      <td>8.9</td>\n",
              "      <td>9.6</td>\n",
              "      <td>7.1</td>\n",
              "      <td>9.0</td>\n",
              "      <td>7.1</td>\n",
              "      <td>6.7</td>\n",
              "      <td>5.7</td>\n",
              "      <td>6.9</td>\n",
              "      <td>8.6</td>\n",
              "      <td>8.6</td>\n",
              "      <td>5.9</td>\n",
              "      <td>8.5</td>\n",
              "      <td>7.1</td>\n",
              "      <td>6.2</td>\n",
              "      <td>8.6</td>\n",
              "      <td>7.0</td>\n",
              "      <td>9.6</td>\n",
              "      <td>8.4</td>\n",
              "      <td>5.8</td>\n",
              "      <td>M</td>\n",
              "      <td>0.0</td>\n",
              "      <td>2NT</td>\n",
              "      <td>7.00</td>\n",
              "      <td>8.00</td>\n",
              "      <td>4.00</td>\n",
              "      <td>C</td>\n",
              "      <td>7.05</td>\n",
              "      <td>7.84</td>\n",
              "      <td>7.92</td>\n",
              "      <td>K</td>\n",
              "      <td>K</td>\n",
              "      <td>K</td>\n",
              "      <td>2.820</td>\n",
              "      <td>3.136</td>\n",
              "      <td>3.168</td>\n",
              "      <td>1.0</td>\n",
              "    </tr>\n",
              "    <tr>\n",
              "      <th>99</th>\n",
              "      <td>98</td>\n",
              "      <td>98</td>\n",
              "      <td>2.7</td>\n",
              "      <td>1.8</td>\n",
              "      <td>3.4</td>\n",
              "      <td>5.3</td>\n",
              "      <td>4.5</td>\n",
              "      <td>7.9</td>\n",
              "      <td>4.9</td>\n",
              "      <td>3.8</td>\n",
              "      <td>2.8</td>\n",
              "      <td>5.7</td>\n",
              "      <td>5.1</td>\n",
              "      <td>5.0</td>\n",
              "      <td>5.5</td>\n",
              "      <td>6.6</td>\n",
              "      <td>3.9</td>\n",
              "      <td>4.3</td>\n",
              "      <td>6.2</td>\n",
              "      <td>6.9</td>\n",
              "      <td>7.6</td>\n",
              "      <td>6.3</td>\n",
              "      <td>4.7</td>\n",
              "      <td>7.4</td>\n",
              "      <td>5.9</td>\n",
              "      <td>5.7</td>\n",
              "      <td>5.2</td>\n",
              "      <td>5.1</td>\n",
              "      <td>6.8</td>\n",
              "      <td>5.6</td>\n",
              "      <td>3.8</td>\n",
              "      <td>5.9</td>\n",
              "      <td>6.7</td>\n",
              "      <td>4.4</td>\n",
              "      <td>4.1</td>\n",
              "      <td>5.3</td>\n",
              "      <td>5.7</td>\n",
              "      <td>4.6</td>\n",
              "      <td>5.0</td>\n",
              "      <td>5.9</td>\n",
              "      <td>5.3</td>\n",
              "      <td>4.5</td>\n",
              "      <td>4.3</td>\n",
              "      <td>5.6</td>\n",
              "      <td>6.3</td>\n",
              "      <td>4.7</td>\n",
              "      <td>5.0</td>\n",
              "      <td>6.6</td>\n",
              "      <td>5.2</td>\n",
              "      <td>5.9</td>\n",
              "      <td>M</td>\n",
              "      <td>0.0</td>\n",
              "      <td>1</td>\n",
              "      <td>5.00</td>\n",
              "      <td>3.50</td>\n",
              "      <td>5.50</td>\n",
              "      <td>C</td>\n",
              "      <td>4.15</td>\n",
              "      <td>4.72</td>\n",
              "      <td>6.16</td>\n",
              "      <td>Y</td>\n",
              "      <td>Y</td>\n",
              "      <td>TB</td>\n",
              "      <td>1.660</td>\n",
              "      <td>1.888</td>\n",
              "      <td>2.464</td>\n",
              "      <td>0.0</td>\n",
              "    </tr>\n",
              "    <tr>\n",
              "      <th>100</th>\n",
              "      <td>99</td>\n",
              "      <td>99</td>\n",
              "      <td>4.1</td>\n",
              "      <td>5.2</td>\n",
              "      <td>4.9</td>\n",
              "      <td>5.3</td>\n",
              "      <td>5.5</td>\n",
              "      <td>5.4</td>\n",
              "      <td>7.2</td>\n",
              "      <td>5.4</td>\n",
              "      <td>4.4</td>\n",
              "      <td>6.4</td>\n",
              "      <td>4.8</td>\n",
              "      <td>7.2</td>\n",
              "      <td>6.0</td>\n",
              "      <td>6.3</td>\n",
              "      <td>6.8</td>\n",
              "      <td>4.9</td>\n",
              "      <td>6.0</td>\n",
              "      <td>4.9</td>\n",
              "      <td>4.2</td>\n",
              "      <td>6.4</td>\n",
              "      <td>5.7</td>\n",
              "      <td>6.8</td>\n",
              "      <td>7.1</td>\n",
              "      <td>6.2</td>\n",
              "      <td>4.3</td>\n",
              "      <td>4.9</td>\n",
              "      <td>5.3</td>\n",
              "      <td>6.5</td>\n",
              "      <td>5.7</td>\n",
              "      <td>6.8</td>\n",
              "      <td>7.4</td>\n",
              "      <td>5.8</td>\n",
              "      <td>5.6</td>\n",
              "      <td>6.2</td>\n",
              "      <td>6.0</td>\n",
              "      <td>4.7</td>\n",
              "      <td>5.7</td>\n",
              "      <td>7.9</td>\n",
              "      <td>6.9</td>\n",
              "      <td>4.7</td>\n",
              "      <td>5.1</td>\n",
              "      <td>6.4</td>\n",
              "      <td>5.9</td>\n",
              "      <td>5.4</td>\n",
              "      <td>6.3</td>\n",
              "      <td>5.6</td>\n",
              "      <td>6.6</td>\n",
              "      <td>5.8</td>\n",
              "      <td>M</td>\n",
              "      <td>0.0</td>\n",
              "      <td>2NT</td>\n",
              "      <td>5.25</td>\n",
              "      <td>2.50</td>\n",
              "      <td>4.25</td>\n",
              "      <td>C</td>\n",
              "      <td>5.26</td>\n",
              "      <td>5.72</td>\n",
              "      <td>5.90</td>\n",
              "      <td>TB</td>\n",
              "      <td>TB</td>\n",
              "      <td>TB</td>\n",
              "      <td>2.104</td>\n",
              "      <td>2.288</td>\n",
              "      <td>2.360</td>\n",
              "      <td>0.0</td>\n",
              "    </tr>\n",
              "  </tbody>\n",
              "</table>\n",
              "<p>100 rows × 67 columns</p>\n",
              "</div>"
            ],
            "text/plain": [
              "     Unnamed: 0  Unnamed: 0.1   T1   L1  ...  US_TBM1  US_TBM2  US_TBM3  KQXT\n",
              "STT                                      ...                                 \n",
              "1             0             0  7.2  7.3  ...    2.800    3.016    2.824   0.0\n",
              "2             1             1  5.4  3.9  ...    1.876    2.188    1.880   0.0\n",
              "3             2             2  5.6  6.8  ...    2.308    2.152    1.732   1.0\n",
              "4             3             3  6.6  6.4  ...    2.484    2.080    2.412   0.0\n",
              "5             4             4  6.0  5.0  ...    2.600    2.544    2.804   0.0\n",
              "..          ...           ...  ...  ...  ...      ...      ...      ...   ...\n",
              "96           95            95  8.6  6.9  ...    2.972    2.968    2.816   0.0\n",
              "97           96            96  3.7  5.4  ...    1.972    2.060    1.912   0.0\n",
              "98           97            97  8.8  5.5  ...    2.820    3.136    3.168   1.0\n",
              "99           98            98  2.7  1.8  ...    1.660    1.888    2.464   0.0\n",
              "100          99            99  4.1  5.2  ...    2.104    2.288    2.360   0.0\n",
              "\n",
              "[100 rows x 67 columns]"
            ]
          },
          "metadata": {},
          "execution_count": 4
        }
      ]
    },
    {
      "cell_type": "markdown",
      "metadata": {
        "id": "6N9VJF5rybHO"
      },
      "source": [
        "**Phần 1:**"
      ]
    },
    {
      "cell_type": "code",
      "metadata": {
        "colab": {
          "base_uri": "https://localhost:8080/"
        },
        "id": "h3sxYW0NyW2V",
        "outputId": "98f6f87f-0313-4d8a-8229-782f6ae000a2"
      },
      "source": [
        "sorted_df_DH1=df[\"DH1\"].sort_values()\n",
        "print(sorted_df_DH1)"
      ],
      "execution_count": 5,
      "outputs": [
        {
          "output_type": "stream",
          "name": "stdout",
          "text": [
            "STT\n",
            "54    1.00\n",
            "44    1.25\n",
            "73    1.50\n",
            "6     1.50\n",
            "88    1.75\n",
            "      ... \n",
            "85    6.50\n",
            "12    6.75\n",
            "24    6.75\n",
            "25    7.00\n",
            "98    7.00\n",
            "Name: DH1, Length: 100, dtype: float64\n"
          ]
        }
      ]
    },
    {
      "cell_type": "code",
      "metadata": {
        "colab": {
          "base_uri": "https://localhost:8080/"
        },
        "id": "bted3Q-JyjId",
        "outputId": "bc55d376-643f-49a0-e4f7-1226f34d13d7"
      },
      "source": [
        "sorted_df_DH2= df.sort_values(by=[\"DH2\",\"GT\"],ascending=[True,True])\n",
        "print(sorted_df_DH2)"
      ],
      "execution_count": 6,
      "outputs": [
        {
          "output_type": "stream",
          "name": "stdout",
          "text": [
            "     Unnamed: 0  Unnamed: 0.1   T1   L1  ...  US_TBM1  US_TBM2  US_TBM3  KQXT\n",
            "STT                                      ...                                 \n",
            "96           95            95  8.6  6.9  ...    2.972    2.968    2.816   0.0\n",
            "26           25            25  3.6  5.8  ...    2.160    2.080    2.008   0.0\n",
            "25           24            24  2.4  4.1  ...    1.780    1.952    2.124   0.0\n",
            "47           46            46  6.7  6.8  ...    2.596    2.604    2.780   0.0\n",
            "95           94            94  5.8  5.9  ...    2.440    2.684    2.748   0.0\n",
            "..          ...           ...  ...  ...  ...      ...      ...      ...   ...\n",
            "12           11            11  7.9  7.0  ...    2.972    3.088    2.996   1.0\n",
            "48           47            47  7.9  7.6  ...    3.068    2.996    2.904   1.0\n",
            "7             6             6  2.8  3.9  ...    1.960    2.240    2.096   1.0\n",
            "3             2             2  5.6  6.8  ...    2.308    2.152    1.732   1.0\n",
            "98           97            97  8.8  5.5  ...    2.820    3.136    3.168   1.0\n",
            "\n",
            "[100 rows x 67 columns]\n"
          ]
        }
      ]
    },
    {
      "cell_type": "code",
      "metadata": {
        "id": "jhvniGTnyltk"
      },
      "source": [
        "def Q1(g):\n",
        "  return np.percentile(g,25)\n",
        "def Q2(g):\n",
        "  return np.percentile(g,50)\n",
        "def Q3(g):\n",
        "  return np.percentile(g,75)\n",
        "def std(g):\n",
        "  return np.std(g)"
      ],
      "execution_count": 7,
      "outputs": []
    },
    {
      "cell_type": "code",
      "metadata": {
        "colab": {
          "base_uri": "https://localhost:8080/",
          "height": 266
        },
        "id": "x3-dCjdKyn78",
        "outputId": "41c3c3dc-f8da-41d0-ef02-6a234a050194"
      },
      "source": [
        "KT_DH1 = pd.pivot_table(df, values='DH1', index=['KT'],aggfunc=['count','sum','median','min','max','std',Q1,Q2,Q3])\n",
        "KT_DH1"
      ],
      "execution_count": 8,
      "outputs": [
        {
          "output_type": "execute_result",
          "data": {
            "text/html": [
              "<div>\n",
              "<style scoped>\n",
              "    .dataframe tbody tr th:only-of-type {\n",
              "        vertical-align: middle;\n",
              "    }\n",
              "\n",
              "    .dataframe tbody tr th {\n",
              "        vertical-align: top;\n",
              "    }\n",
              "\n",
              "    .dataframe thead tr th {\n",
              "        text-align: left;\n",
              "    }\n",
              "\n",
              "    .dataframe thead tr:last-of-type th {\n",
              "        text-align: right;\n",
              "    }\n",
              "</style>\n",
              "<table border=\"1\" class=\"dataframe\">\n",
              "  <thead>\n",
              "    <tr>\n",
              "      <th></th>\n",
              "      <th>count</th>\n",
              "      <th>sum</th>\n",
              "      <th>median</th>\n",
              "      <th>min</th>\n",
              "      <th>max</th>\n",
              "      <th>std</th>\n",
              "      <th>Q1</th>\n",
              "      <th>Q2</th>\n",
              "      <th>Q3</th>\n",
              "    </tr>\n",
              "    <tr>\n",
              "      <th></th>\n",
              "      <th>DH1</th>\n",
              "      <th>DH1</th>\n",
              "      <th>DH1</th>\n",
              "      <th>DH1</th>\n",
              "      <th>DH1</th>\n",
              "      <th>DH1</th>\n",
              "      <th>DH1</th>\n",
              "      <th>DH1</th>\n",
              "      <th>DH1</th>\n",
              "    </tr>\n",
              "    <tr>\n",
              "      <th>KT</th>\n",
              "      <th></th>\n",
              "      <th></th>\n",
              "      <th></th>\n",
              "      <th></th>\n",
              "      <th></th>\n",
              "      <th></th>\n",
              "      <th></th>\n",
              "      <th></th>\n",
              "      <th></th>\n",
              "    </tr>\n",
              "  </thead>\n",
              "  <tbody>\n",
              "    <tr>\n",
              "      <th>A</th>\n",
              "      <td>49</td>\n",
              "      <td>163.50</td>\n",
              "      <td>3.25</td>\n",
              "      <td>1.00</td>\n",
              "      <td>6.50</td>\n",
              "      <td>1.274296</td>\n",
              "      <td>2.2500</td>\n",
              "      <td>3.25</td>\n",
              "      <td>4.250</td>\n",
              "    </tr>\n",
              "    <tr>\n",
              "      <th>A1</th>\n",
              "      <td>6</td>\n",
              "      <td>17.50</td>\n",
              "      <td>3.00</td>\n",
              "      <td>2.00</td>\n",
              "      <td>4.25</td>\n",
              "      <td>0.861201</td>\n",
              "      <td>2.1875</td>\n",
              "      <td>3.00</td>\n",
              "      <td>3.250</td>\n",
              "    </tr>\n",
              "    <tr>\n",
              "      <th>B</th>\n",
              "      <td>9</td>\n",
              "      <td>29.50</td>\n",
              "      <td>3.50</td>\n",
              "      <td>1.75</td>\n",
              "      <td>4.50</td>\n",
              "      <td>0.823905</td>\n",
              "      <td>3.2500</td>\n",
              "      <td>3.50</td>\n",
              "      <td>3.750</td>\n",
              "    </tr>\n",
              "    <tr>\n",
              "      <th>C</th>\n",
              "      <td>14</td>\n",
              "      <td>79.25</td>\n",
              "      <td>5.25</td>\n",
              "      <td>4.75</td>\n",
              "      <td>7.00</td>\n",
              "      <td>0.812209</td>\n",
              "      <td>5.0625</td>\n",
              "      <td>5.25</td>\n",
              "      <td>6.375</td>\n",
              "    </tr>\n",
              "    <tr>\n",
              "      <th>D1</th>\n",
              "      <td>22</td>\n",
              "      <td>84.25</td>\n",
              "      <td>3.75</td>\n",
              "      <td>1.25</td>\n",
              "      <td>6.75</td>\n",
              "      <td>1.370146</td>\n",
              "      <td>3.0000</td>\n",
              "      <td>3.75</td>\n",
              "      <td>4.875</td>\n",
              "    </tr>\n",
              "  </tbody>\n",
              "</table>\n",
              "</div>"
            ],
            "text/plain": [
              "   count     sum median   min   max       std      Q1    Q2     Q3\n",
              "     DH1     DH1    DH1   DH1   DH1       DH1     DH1   DH1    DH1\n",
              "KT                                                                \n",
              "A     49  163.50   3.25  1.00  6.50  1.274296  2.2500  3.25  4.250\n",
              "A1     6   17.50   3.00  2.00  4.25  0.861201  2.1875  3.00  3.250\n",
              "B      9   29.50   3.50  1.75  4.50  0.823905  3.2500  3.50  3.750\n",
              "C     14   79.25   5.25  4.75  7.00  0.812209  5.0625  5.25  6.375\n",
              "D1    22   84.25   3.75  1.25  6.75  1.370146  3.0000  3.75  4.875"
            ]
          },
          "metadata": {},
          "execution_count": 8
        }
      ]
    },
    {
      "cell_type": "code",
      "metadata": {
        "colab": {
          "base_uri": "https://localhost:8080/",
          "height": 235
        },
        "id": "3ndDsOOVyuyU",
        "outputId": "d4dcbcbc-e110-4128-ba02-4e1f378adf12"
      },
      "source": [
        "GKT_DH1= df.groupby([\"KT\"])[\"DH1\"].agg([\"count\",\"sum\", \"mean\", \"median\", \"min\", \"max\", std, Q1, Q2, Q3])\n",
        "GKT_DH1"
      ],
      "execution_count": 10,
      "outputs": [
        {
          "output_type": "execute_result",
          "data": {
            "text/html": [
              "<div>\n",
              "<style scoped>\n",
              "    .dataframe tbody tr th:only-of-type {\n",
              "        vertical-align: middle;\n",
              "    }\n",
              "\n",
              "    .dataframe tbody tr th {\n",
              "        vertical-align: top;\n",
              "    }\n",
              "\n",
              "    .dataframe thead th {\n",
              "        text-align: right;\n",
              "    }\n",
              "</style>\n",
              "<table border=\"1\" class=\"dataframe\">\n",
              "  <thead>\n",
              "    <tr style=\"text-align: right;\">\n",
              "      <th></th>\n",
              "      <th>count</th>\n",
              "      <th>sum</th>\n",
              "      <th>mean</th>\n",
              "      <th>median</th>\n",
              "      <th>min</th>\n",
              "      <th>max</th>\n",
              "      <th>std</th>\n",
              "      <th>Q1</th>\n",
              "      <th>Q2</th>\n",
              "      <th>Q3</th>\n",
              "    </tr>\n",
              "    <tr>\n",
              "      <th>KT</th>\n",
              "      <th></th>\n",
              "      <th></th>\n",
              "      <th></th>\n",
              "      <th></th>\n",
              "      <th></th>\n",
              "      <th></th>\n",
              "      <th></th>\n",
              "      <th></th>\n",
              "      <th></th>\n",
              "      <th></th>\n",
              "    </tr>\n",
              "  </thead>\n",
              "  <tbody>\n",
              "    <tr>\n",
              "      <th>A</th>\n",
              "      <td>49</td>\n",
              "      <td>163.50</td>\n",
              "      <td>3.336735</td>\n",
              "      <td>3.25</td>\n",
              "      <td>1.00</td>\n",
              "      <td>6.50</td>\n",
              "      <td>1.261226</td>\n",
              "      <td>2.2500</td>\n",
              "      <td>3.25</td>\n",
              "      <td>4.250</td>\n",
              "    </tr>\n",
              "    <tr>\n",
              "      <th>A1</th>\n",
              "      <td>6</td>\n",
              "      <td>17.50</td>\n",
              "      <td>2.916667</td>\n",
              "      <td>3.00</td>\n",
              "      <td>2.00</td>\n",
              "      <td>4.25</td>\n",
              "      <td>0.786165</td>\n",
              "      <td>2.1875</td>\n",
              "      <td>3.00</td>\n",
              "      <td>3.250</td>\n",
              "    </tr>\n",
              "    <tr>\n",
              "      <th>B</th>\n",
              "      <td>9</td>\n",
              "      <td>29.50</td>\n",
              "      <td>3.277778</td>\n",
              "      <td>3.50</td>\n",
              "      <td>1.75</td>\n",
              "      <td>4.50</td>\n",
              "      <td>0.776785</td>\n",
              "      <td>3.2500</td>\n",
              "      <td>3.50</td>\n",
              "      <td>3.750</td>\n",
              "    </tr>\n",
              "    <tr>\n",
              "      <th>C</th>\n",
              "      <td>14</td>\n",
              "      <td>79.25</td>\n",
              "      <td>5.660714</td>\n",
              "      <td>5.25</td>\n",
              "      <td>4.75</td>\n",
              "      <td>7.00</td>\n",
              "      <td>0.782665</td>\n",
              "      <td>5.0625</td>\n",
              "      <td>5.25</td>\n",
              "      <td>6.375</td>\n",
              "    </tr>\n",
              "    <tr>\n",
              "      <th>D1</th>\n",
              "      <td>22</td>\n",
              "      <td>84.25</td>\n",
              "      <td>3.829545</td>\n",
              "      <td>3.75</td>\n",
              "      <td>1.25</td>\n",
              "      <td>6.75</td>\n",
              "      <td>1.338644</td>\n",
              "      <td>3.0000</td>\n",
              "      <td>3.75</td>\n",
              "      <td>4.875</td>\n",
              "    </tr>\n",
              "  </tbody>\n",
              "</table>\n",
              "</div>"
            ],
            "text/plain": [
              "    count     sum      mean  median   min   max       std      Q1    Q2     Q3\n",
              "KT                                                                            \n",
              "A      49  163.50  3.336735    3.25  1.00  6.50  1.261226  2.2500  3.25  4.250\n",
              "A1      6   17.50  2.916667    3.00  2.00  4.25  0.786165  2.1875  3.00  3.250\n",
              "B       9   29.50  3.277778    3.50  1.75  4.50  0.776785  3.2500  3.50  3.750\n",
              "C      14   79.25  5.660714    5.25  4.75  7.00  0.782665  5.0625  5.25  6.375\n",
              "D1     22   84.25  3.829545    3.75  1.25  6.75  1.338644  3.0000  3.75  4.875"
            ]
          },
          "metadata": {},
          "execution_count": 10
        }
      ]
    },
    {
      "cell_type": "code",
      "metadata": {
        "colab": {
          "base_uri": "https://localhost:8080/",
          "height": 514
        },
        "id": "CHs2bORPyyAc",
        "outputId": "821dc131-82aa-4c70-bd24-b4b0c1cb4f13"
      },
      "source": [
        "KT_KV_DH1 = pd.pivot_table(df, values='DH1', index=['KT','KV'],aggfunc=['count','sum','median','min','max','std',Q1,Q2,Q3])\n",
        "KT_KV_DH1"
      ],
      "execution_count": 11,
      "outputs": [
        {
          "output_type": "execute_result",
          "data": {
            "text/html": [
              "<div>\n",
              "<style scoped>\n",
              "    .dataframe tbody tr th:only-of-type {\n",
              "        vertical-align: middle;\n",
              "    }\n",
              "\n",
              "    .dataframe tbody tr th {\n",
              "        vertical-align: top;\n",
              "    }\n",
              "\n",
              "    .dataframe thead tr th {\n",
              "        text-align: left;\n",
              "    }\n",
              "\n",
              "    .dataframe thead tr:last-of-type th {\n",
              "        text-align: right;\n",
              "    }\n",
              "</style>\n",
              "<table border=\"1\" class=\"dataframe\">\n",
              "  <thead>\n",
              "    <tr>\n",
              "      <th></th>\n",
              "      <th></th>\n",
              "      <th>count</th>\n",
              "      <th>sum</th>\n",
              "      <th>median</th>\n",
              "      <th>min</th>\n",
              "      <th>max</th>\n",
              "      <th>std</th>\n",
              "      <th>Q1</th>\n",
              "      <th>Q2</th>\n",
              "      <th>Q3</th>\n",
              "    </tr>\n",
              "    <tr>\n",
              "      <th></th>\n",
              "      <th></th>\n",
              "      <th>DH1</th>\n",
              "      <th>DH1</th>\n",
              "      <th>DH1</th>\n",
              "      <th>DH1</th>\n",
              "      <th>DH1</th>\n",
              "      <th>DH1</th>\n",
              "      <th>DH1</th>\n",
              "      <th>DH1</th>\n",
              "      <th>DH1</th>\n",
              "    </tr>\n",
              "    <tr>\n",
              "      <th>KT</th>\n",
              "      <th>KV</th>\n",
              "      <th></th>\n",
              "      <th></th>\n",
              "      <th></th>\n",
              "      <th></th>\n",
              "      <th></th>\n",
              "      <th></th>\n",
              "      <th></th>\n",
              "      <th></th>\n",
              "      <th></th>\n",
              "    </tr>\n",
              "  </thead>\n",
              "  <tbody>\n",
              "    <tr>\n",
              "      <th rowspan=\"3\" valign=\"top\">A</th>\n",
              "      <th>1</th>\n",
              "      <td>29</td>\n",
              "      <td>93.75</td>\n",
              "      <td>3.250</td>\n",
              "      <td>1.00</td>\n",
              "      <td>6.50</td>\n",
              "      <td>1.369194</td>\n",
              "      <td>2.0000</td>\n",
              "      <td>3.250</td>\n",
              "      <td>4.2500</td>\n",
              "    </tr>\n",
              "    <tr>\n",
              "      <th>2</th>\n",
              "      <td>9</td>\n",
              "      <td>31.75</td>\n",
              "      <td>3.500</td>\n",
              "      <td>2.00</td>\n",
              "      <td>6.25</td>\n",
              "      <td>1.427653</td>\n",
              "      <td>2.2500</td>\n",
              "      <td>3.500</td>\n",
              "      <td>4.2500</td>\n",
              "    </tr>\n",
              "    <tr>\n",
              "      <th>2NT</th>\n",
              "      <td>11</td>\n",
              "      <td>38.00</td>\n",
              "      <td>3.500</td>\n",
              "      <td>2.00</td>\n",
              "      <td>4.75</td>\n",
              "      <td>0.913908</td>\n",
              "      <td>2.8750</td>\n",
              "      <td>3.500</td>\n",
              "      <td>4.1250</td>\n",
              "    </tr>\n",
              "    <tr>\n",
              "      <th rowspan=\"2\" valign=\"top\">A1</th>\n",
              "      <th>1</th>\n",
              "      <td>2</td>\n",
              "      <td>4.75</td>\n",
              "      <td>2.375</td>\n",
              "      <td>2.00</td>\n",
              "      <td>2.75</td>\n",
              "      <td>0.530330</td>\n",
              "      <td>2.1875</td>\n",
              "      <td>2.375</td>\n",
              "      <td>2.5625</td>\n",
              "    </tr>\n",
              "    <tr>\n",
              "      <th>2NT</th>\n",
              "      <td>4</td>\n",
              "      <td>12.75</td>\n",
              "      <td>3.250</td>\n",
              "      <td>2.00</td>\n",
              "      <td>4.25</td>\n",
              "      <td>0.921389</td>\n",
              "      <td>2.9375</td>\n",
              "      <td>3.250</td>\n",
              "      <td>3.5000</td>\n",
              "    </tr>\n",
              "    <tr>\n",
              "      <th rowspan=\"2\" valign=\"top\">B</th>\n",
              "      <th>1</th>\n",
              "      <td>8</td>\n",
              "      <td>25.75</td>\n",
              "      <td>3.375</td>\n",
              "      <td>1.75</td>\n",
              "      <td>4.50</td>\n",
              "      <td>0.860207</td>\n",
              "      <td>3.0000</td>\n",
              "      <td>3.375</td>\n",
              "      <td>3.5625</td>\n",
              "    </tr>\n",
              "    <tr>\n",
              "      <th>2NT</th>\n",
              "      <td>1</td>\n",
              "      <td>3.75</td>\n",
              "      <td>3.750</td>\n",
              "      <td>3.75</td>\n",
              "      <td>3.75</td>\n",
              "      <td>NaN</td>\n",
              "      <td>3.7500</td>\n",
              "      <td>3.750</td>\n",
              "      <td>3.7500</td>\n",
              "    </tr>\n",
              "    <tr>\n",
              "      <th rowspan=\"3\" valign=\"top\">C</th>\n",
              "      <th>1</th>\n",
              "      <td>8</td>\n",
              "      <td>43.50</td>\n",
              "      <td>5.250</td>\n",
              "      <td>4.75</td>\n",
              "      <td>7.00</td>\n",
              "      <td>0.728869</td>\n",
              "      <td>5.0000</td>\n",
              "      <td>5.250</td>\n",
              "      <td>5.4375</td>\n",
              "    </tr>\n",
              "    <tr>\n",
              "      <th>2</th>\n",
              "      <td>2</td>\n",
              "      <td>11.50</td>\n",
              "      <td>5.750</td>\n",
              "      <td>5.00</td>\n",
              "      <td>6.50</td>\n",
              "      <td>1.060660</td>\n",
              "      <td>5.3750</td>\n",
              "      <td>5.750</td>\n",
              "      <td>6.1250</td>\n",
              "    </tr>\n",
              "    <tr>\n",
              "      <th>2NT</th>\n",
              "      <td>4</td>\n",
              "      <td>24.25</td>\n",
              "      <td>6.000</td>\n",
              "      <td>5.25</td>\n",
              "      <td>7.00</td>\n",
              "      <td>0.943729</td>\n",
              "      <td>5.2500</td>\n",
              "      <td>6.000</td>\n",
              "      <td>6.8125</td>\n",
              "    </tr>\n",
              "    <tr>\n",
              "      <th rowspan=\"3\" valign=\"top\">D1</th>\n",
              "      <th>1</th>\n",
              "      <td>13</td>\n",
              "      <td>46.75</td>\n",
              "      <td>3.500</td>\n",
              "      <td>1.50</td>\n",
              "      <td>5.75</td>\n",
              "      <td>1.264658</td>\n",
              "      <td>2.7500</td>\n",
              "      <td>3.500</td>\n",
              "      <td>4.2500</td>\n",
              "    </tr>\n",
              "    <tr>\n",
              "      <th>2</th>\n",
              "      <td>8</td>\n",
              "      <td>33.75</td>\n",
              "      <td>4.500</td>\n",
              "      <td>1.25</td>\n",
              "      <td>6.75</td>\n",
              "      <td>1.617082</td>\n",
              "      <td>3.5625</td>\n",
              "      <td>4.500</td>\n",
              "      <td>5.0000</td>\n",
              "    </tr>\n",
              "    <tr>\n",
              "      <th>2NT</th>\n",
              "      <td>1</td>\n",
              "      <td>3.75</td>\n",
              "      <td>3.750</td>\n",
              "      <td>3.75</td>\n",
              "      <td>3.75</td>\n",
              "      <td>NaN</td>\n",
              "      <td>3.7500</td>\n",
              "      <td>3.750</td>\n",
              "      <td>3.7500</td>\n",
              "    </tr>\n",
              "  </tbody>\n",
              "</table>\n",
              "</div>"
            ],
            "text/plain": [
              "       count    sum median   min   max       std      Q1     Q2      Q3\n",
              "         DH1    DH1    DH1   DH1   DH1       DH1     DH1    DH1     DH1\n",
              "KT KV                                                                  \n",
              "A  1      29  93.75  3.250  1.00  6.50  1.369194  2.0000  3.250  4.2500\n",
              "   2       9  31.75  3.500  2.00  6.25  1.427653  2.2500  3.500  4.2500\n",
              "   2NT    11  38.00  3.500  2.00  4.75  0.913908  2.8750  3.500  4.1250\n",
              "A1 1       2   4.75  2.375  2.00  2.75  0.530330  2.1875  2.375  2.5625\n",
              "   2NT     4  12.75  3.250  2.00  4.25  0.921389  2.9375  3.250  3.5000\n",
              "B  1       8  25.75  3.375  1.75  4.50  0.860207  3.0000  3.375  3.5625\n",
              "   2NT     1   3.75  3.750  3.75  3.75       NaN  3.7500  3.750  3.7500\n",
              "C  1       8  43.50  5.250  4.75  7.00  0.728869  5.0000  5.250  5.4375\n",
              "   2       2  11.50  5.750  5.00  6.50  1.060660  5.3750  5.750  6.1250\n",
              "   2NT     4  24.25  6.000  5.25  7.00  0.943729  5.2500  6.000  6.8125\n",
              "D1 1      13  46.75  3.500  1.50  5.75  1.264658  2.7500  3.500  4.2500\n",
              "   2       8  33.75  4.500  1.25  6.75  1.617082  3.5625  4.500  5.0000\n",
              "   2NT     1   3.75  3.750  3.75  3.75       NaN  3.7500  3.750  3.7500"
            ]
          },
          "metadata": {},
          "execution_count": 11
        }
      ]
    },
    {
      "cell_type": "code",
      "metadata": {
        "colab": {
          "base_uri": "https://localhost:8080/",
          "height": 483
        },
        "id": "hx4eWH-ty6oc",
        "outputId": "da3e9e2a-891f-45d9-e5c6-05184963d5ab"
      },
      "source": [
        "GKT_KV_DH1= df.groupby([\"KT\",\"KV\"])[\"DH1\"].agg([\"count\",\"sum\", \"mean\", \"median\", \"min\", \"max\", std, Q1, Q2, Q3])\n",
        "GKT_KV_DH1"
      ],
      "execution_count": 12,
      "outputs": [
        {
          "output_type": "execute_result",
          "data": {
            "text/html": [
              "<div>\n",
              "<style scoped>\n",
              "    .dataframe tbody tr th:only-of-type {\n",
              "        vertical-align: middle;\n",
              "    }\n",
              "\n",
              "    .dataframe tbody tr th {\n",
              "        vertical-align: top;\n",
              "    }\n",
              "\n",
              "    .dataframe thead th {\n",
              "        text-align: right;\n",
              "    }\n",
              "</style>\n",
              "<table border=\"1\" class=\"dataframe\">\n",
              "  <thead>\n",
              "    <tr style=\"text-align: right;\">\n",
              "      <th></th>\n",
              "      <th></th>\n",
              "      <th>count</th>\n",
              "      <th>sum</th>\n",
              "      <th>mean</th>\n",
              "      <th>median</th>\n",
              "      <th>min</th>\n",
              "      <th>max</th>\n",
              "      <th>std</th>\n",
              "      <th>Q1</th>\n",
              "      <th>Q2</th>\n",
              "      <th>Q3</th>\n",
              "    </tr>\n",
              "    <tr>\n",
              "      <th>KT</th>\n",
              "      <th>KV</th>\n",
              "      <th></th>\n",
              "      <th></th>\n",
              "      <th></th>\n",
              "      <th></th>\n",
              "      <th></th>\n",
              "      <th></th>\n",
              "      <th></th>\n",
              "      <th></th>\n",
              "      <th></th>\n",
              "      <th></th>\n",
              "    </tr>\n",
              "  </thead>\n",
              "  <tbody>\n",
              "    <tr>\n",
              "      <th rowspan=\"3\" valign=\"top\">A</th>\n",
              "      <th>1</th>\n",
              "      <td>29</td>\n",
              "      <td>93.75</td>\n",
              "      <td>3.232759</td>\n",
              "      <td>3.250</td>\n",
              "      <td>1.00</td>\n",
              "      <td>6.50</td>\n",
              "      <td>1.345380</td>\n",
              "      <td>2.0000</td>\n",
              "      <td>3.250</td>\n",
              "      <td>4.2500</td>\n",
              "    </tr>\n",
              "    <tr>\n",
              "      <th>2</th>\n",
              "      <td>9</td>\n",
              "      <td>31.75</td>\n",
              "      <td>3.527778</td>\n",
              "      <td>3.500</td>\n",
              "      <td>2.00</td>\n",
              "      <td>6.25</td>\n",
              "      <td>1.346005</td>\n",
              "      <td>2.2500</td>\n",
              "      <td>3.500</td>\n",
              "      <td>4.2500</td>\n",
              "    </tr>\n",
              "    <tr>\n",
              "      <th>2NT</th>\n",
              "      <td>11</td>\n",
              "      <td>38.00</td>\n",
              "      <td>3.454545</td>\n",
              "      <td>3.500</td>\n",
              "      <td>2.00</td>\n",
              "      <td>4.75</td>\n",
              "      <td>0.871377</td>\n",
              "      <td>2.8750</td>\n",
              "      <td>3.500</td>\n",
              "      <td>4.1250</td>\n",
              "    </tr>\n",
              "    <tr>\n",
              "      <th rowspan=\"2\" valign=\"top\">A1</th>\n",
              "      <th>1</th>\n",
              "      <td>2</td>\n",
              "      <td>4.75</td>\n",
              "      <td>2.375000</td>\n",
              "      <td>2.375</td>\n",
              "      <td>2.00</td>\n",
              "      <td>2.75</td>\n",
              "      <td>0.375000</td>\n",
              "      <td>2.1875</td>\n",
              "      <td>2.375</td>\n",
              "      <td>2.5625</td>\n",
              "    </tr>\n",
              "    <tr>\n",
              "      <th>2NT</th>\n",
              "      <td>4</td>\n",
              "      <td>12.75</td>\n",
              "      <td>3.187500</td>\n",
              "      <td>3.250</td>\n",
              "      <td>2.00</td>\n",
              "      <td>4.25</td>\n",
              "      <td>0.797947</td>\n",
              "      <td>2.9375</td>\n",
              "      <td>3.250</td>\n",
              "      <td>3.5000</td>\n",
              "    </tr>\n",
              "    <tr>\n",
              "      <th rowspan=\"2\" valign=\"top\">B</th>\n",
              "      <th>1</th>\n",
              "      <td>8</td>\n",
              "      <td>25.75</td>\n",
              "      <td>3.218750</td>\n",
              "      <td>3.375</td>\n",
              "      <td>1.75</td>\n",
              "      <td>4.50</td>\n",
              "      <td>0.804650</td>\n",
              "      <td>3.0000</td>\n",
              "      <td>3.375</td>\n",
              "      <td>3.5625</td>\n",
              "    </tr>\n",
              "    <tr>\n",
              "      <th>2NT</th>\n",
              "      <td>1</td>\n",
              "      <td>3.75</td>\n",
              "      <td>3.750000</td>\n",
              "      <td>3.750</td>\n",
              "      <td>3.75</td>\n",
              "      <td>3.75</td>\n",
              "      <td>0.000000</td>\n",
              "      <td>3.7500</td>\n",
              "      <td>3.750</td>\n",
              "      <td>3.7500</td>\n",
              "    </tr>\n",
              "    <tr>\n",
              "      <th rowspan=\"3\" valign=\"top\">C</th>\n",
              "      <th>1</th>\n",
              "      <td>8</td>\n",
              "      <td>43.50</td>\n",
              "      <td>5.437500</td>\n",
              "      <td>5.250</td>\n",
              "      <td>4.75</td>\n",
              "      <td>7.00</td>\n",
              "      <td>0.681795</td>\n",
              "      <td>5.0000</td>\n",
              "      <td>5.250</td>\n",
              "      <td>5.4375</td>\n",
              "    </tr>\n",
              "    <tr>\n",
              "      <th>2</th>\n",
              "      <td>2</td>\n",
              "      <td>11.50</td>\n",
              "      <td>5.750000</td>\n",
              "      <td>5.750</td>\n",
              "      <td>5.00</td>\n",
              "      <td>6.50</td>\n",
              "      <td>0.750000</td>\n",
              "      <td>5.3750</td>\n",
              "      <td>5.750</td>\n",
              "      <td>6.1250</td>\n",
              "    </tr>\n",
              "    <tr>\n",
              "      <th>2NT</th>\n",
              "      <td>4</td>\n",
              "      <td>24.25</td>\n",
              "      <td>6.062500</td>\n",
              "      <td>6.000</td>\n",
              "      <td>5.25</td>\n",
              "      <td>7.00</td>\n",
              "      <td>0.817294</td>\n",
              "      <td>5.2500</td>\n",
              "      <td>6.000</td>\n",
              "      <td>6.8125</td>\n",
              "    </tr>\n",
              "    <tr>\n",
              "      <th rowspan=\"3\" valign=\"top\">D1</th>\n",
              "      <th>1</th>\n",
              "      <td>13</td>\n",
              "      <td>46.75</td>\n",
              "      <td>3.596154</td>\n",
              "      <td>3.500</td>\n",
              "      <td>1.50</td>\n",
              "      <td>5.75</td>\n",
              "      <td>1.215044</td>\n",
              "      <td>2.7500</td>\n",
              "      <td>3.500</td>\n",
              "      <td>4.2500</td>\n",
              "    </tr>\n",
              "    <tr>\n",
              "      <th>2</th>\n",
              "      <td>8</td>\n",
              "      <td>33.75</td>\n",
              "      <td>4.218750</td>\n",
              "      <td>4.500</td>\n",
              "      <td>1.25</td>\n",
              "      <td>6.75</td>\n",
              "      <td>1.512642</td>\n",
              "      <td>3.5625</td>\n",
              "      <td>4.500</td>\n",
              "      <td>5.0000</td>\n",
              "    </tr>\n",
              "    <tr>\n",
              "      <th>2NT</th>\n",
              "      <td>1</td>\n",
              "      <td>3.75</td>\n",
              "      <td>3.750000</td>\n",
              "      <td>3.750</td>\n",
              "      <td>3.75</td>\n",
              "      <td>3.75</td>\n",
              "      <td>0.000000</td>\n",
              "      <td>3.7500</td>\n",
              "      <td>3.750</td>\n",
              "      <td>3.7500</td>\n",
              "    </tr>\n",
              "  </tbody>\n",
              "</table>\n",
              "</div>"
            ],
            "text/plain": [
              "        count    sum      mean  median  ...       std      Q1     Q2      Q3\n",
              "KT KV                                   ...                                 \n",
              "A  1       29  93.75  3.232759   3.250  ...  1.345380  2.0000  3.250  4.2500\n",
              "   2        9  31.75  3.527778   3.500  ...  1.346005  2.2500  3.500  4.2500\n",
              "   2NT     11  38.00  3.454545   3.500  ...  0.871377  2.8750  3.500  4.1250\n",
              "A1 1        2   4.75  2.375000   2.375  ...  0.375000  2.1875  2.375  2.5625\n",
              "   2NT      4  12.75  3.187500   3.250  ...  0.797947  2.9375  3.250  3.5000\n",
              "B  1        8  25.75  3.218750   3.375  ...  0.804650  3.0000  3.375  3.5625\n",
              "   2NT      1   3.75  3.750000   3.750  ...  0.000000  3.7500  3.750  3.7500\n",
              "C  1        8  43.50  5.437500   5.250  ...  0.681795  5.0000  5.250  5.4375\n",
              "   2        2  11.50  5.750000   5.750  ...  0.750000  5.3750  5.750  6.1250\n",
              "   2NT      4  24.25  6.062500   6.000  ...  0.817294  5.2500  6.000  6.8125\n",
              "D1 1       13  46.75  3.596154   3.500  ...  1.215044  2.7500  3.500  4.2500\n",
              "   2        8  33.75  4.218750   4.500  ...  1.512642  3.5625  4.500  5.0000\n",
              "   2NT      1   3.75  3.750000   3.750  ...  0.000000  3.7500  3.750  3.7500\n",
              "\n",
              "[13 rows x 10 columns]"
            ]
          },
          "metadata": {},
          "execution_count": 12
        }
      ]
    },
    {
      "cell_type": "code",
      "metadata": {
        "colab": {
          "base_uri": "https://localhost:8080/",
          "height": 607
        },
        "id": "W7fKOgY6564C",
        "outputId": "af324abe-380b-4520-fe68-baaa59802a54"
      },
      "source": [
        "KT_KV_DT_DH1 = pd.pivot_table(df, values='DH1', index=['KT','KV','DT'],aggfunc=['count','sum','median','min','max',std,Q1,Q2,Q3])\n",
        "KT_KV_DT_DH1"
      ],
      "execution_count": 13,
      "outputs": [
        {
          "output_type": "execute_result",
          "data": {
            "text/html": [
              "<div>\n",
              "<style scoped>\n",
              "    .dataframe tbody tr th:only-of-type {\n",
              "        vertical-align: middle;\n",
              "    }\n",
              "\n",
              "    .dataframe tbody tr th {\n",
              "        vertical-align: top;\n",
              "    }\n",
              "\n",
              "    .dataframe thead tr th {\n",
              "        text-align: left;\n",
              "    }\n",
              "\n",
              "    .dataframe thead tr:last-of-type th {\n",
              "        text-align: right;\n",
              "    }\n",
              "</style>\n",
              "<table border=\"1\" class=\"dataframe\">\n",
              "  <thead>\n",
              "    <tr>\n",
              "      <th></th>\n",
              "      <th></th>\n",
              "      <th></th>\n",
              "      <th>count</th>\n",
              "      <th>sum</th>\n",
              "      <th>median</th>\n",
              "      <th>min</th>\n",
              "      <th>max</th>\n",
              "      <th>std</th>\n",
              "      <th>Q1</th>\n",
              "      <th>Q2</th>\n",
              "      <th>Q3</th>\n",
              "    </tr>\n",
              "    <tr>\n",
              "      <th></th>\n",
              "      <th></th>\n",
              "      <th></th>\n",
              "      <th>DH1</th>\n",
              "      <th>DH1</th>\n",
              "      <th>DH1</th>\n",
              "      <th>DH1</th>\n",
              "      <th>DH1</th>\n",
              "      <th>DH1</th>\n",
              "      <th>DH1</th>\n",
              "      <th>DH1</th>\n",
              "      <th>DH1</th>\n",
              "    </tr>\n",
              "    <tr>\n",
              "      <th>KT</th>\n",
              "      <th>KV</th>\n",
              "      <th>DT</th>\n",
              "      <th></th>\n",
              "      <th></th>\n",
              "      <th></th>\n",
              "      <th></th>\n",
              "      <th></th>\n",
              "      <th></th>\n",
              "      <th></th>\n",
              "      <th></th>\n",
              "      <th></th>\n",
              "    </tr>\n",
              "  </thead>\n",
              "  <tbody>\n",
              "    <tr>\n",
              "      <th rowspan=\"4\" valign=\"top\">A</th>\n",
              "      <th>1</th>\n",
              "      <th>0.0</th>\n",
              "      <td>29</td>\n",
              "      <td>93.75</td>\n",
              "      <td>3.250</td>\n",
              "      <td>1.00</td>\n",
              "      <td>6.50</td>\n",
              "      <td>1.345380</td>\n",
              "      <td>2.0000</td>\n",
              "      <td>3.250</td>\n",
              "      <td>4.2500</td>\n",
              "    </tr>\n",
              "    <tr>\n",
              "      <th rowspan=\"2\" valign=\"top\">2</th>\n",
              "      <th>0.0</th>\n",
              "      <td>8</td>\n",
              "      <td>27.50</td>\n",
              "      <td>3.000</td>\n",
              "      <td>2.00</td>\n",
              "      <td>6.25</td>\n",
              "      <td>1.401729</td>\n",
              "      <td>2.2500</td>\n",
              "      <td>3.000</td>\n",
              "      <td>4.1875</td>\n",
              "    </tr>\n",
              "    <tr>\n",
              "      <th>6.0</th>\n",
              "      <td>1</td>\n",
              "      <td>4.25</td>\n",
              "      <td>4.250</td>\n",
              "      <td>4.25</td>\n",
              "      <td>4.25</td>\n",
              "      <td>0.000000</td>\n",
              "      <td>4.2500</td>\n",
              "      <td>4.250</td>\n",
              "      <td>4.2500</td>\n",
              "    </tr>\n",
              "    <tr>\n",
              "      <th>2NT</th>\n",
              "      <th>0.0</th>\n",
              "      <td>11</td>\n",
              "      <td>38.00</td>\n",
              "      <td>3.500</td>\n",
              "      <td>2.00</td>\n",
              "      <td>4.75</td>\n",
              "      <td>0.871377</td>\n",
              "      <td>2.8750</td>\n",
              "      <td>3.500</td>\n",
              "      <td>4.1250</td>\n",
              "    </tr>\n",
              "    <tr>\n",
              "      <th rowspan=\"2\" valign=\"top\">A1</th>\n",
              "      <th>1</th>\n",
              "      <th>0.0</th>\n",
              "      <td>2</td>\n",
              "      <td>4.75</td>\n",
              "      <td>2.375</td>\n",
              "      <td>2.00</td>\n",
              "      <td>2.75</td>\n",
              "      <td>0.375000</td>\n",
              "      <td>2.1875</td>\n",
              "      <td>2.375</td>\n",
              "      <td>2.5625</td>\n",
              "    </tr>\n",
              "    <tr>\n",
              "      <th>2NT</th>\n",
              "      <th>0.0</th>\n",
              "      <td>4</td>\n",
              "      <td>12.75</td>\n",
              "      <td>3.250</td>\n",
              "      <td>2.00</td>\n",
              "      <td>4.25</td>\n",
              "      <td>0.797947</td>\n",
              "      <td>2.9375</td>\n",
              "      <td>3.250</td>\n",
              "      <td>3.5000</td>\n",
              "    </tr>\n",
              "    <tr>\n",
              "      <th rowspan=\"2\" valign=\"top\">B</th>\n",
              "      <th>1</th>\n",
              "      <th>0.0</th>\n",
              "      <td>8</td>\n",
              "      <td>25.75</td>\n",
              "      <td>3.375</td>\n",
              "      <td>1.75</td>\n",
              "      <td>4.50</td>\n",
              "      <td>0.804650</td>\n",
              "      <td>3.0000</td>\n",
              "      <td>3.375</td>\n",
              "      <td>3.5625</td>\n",
              "    </tr>\n",
              "    <tr>\n",
              "      <th>2NT</th>\n",
              "      <th>0.0</th>\n",
              "      <td>1</td>\n",
              "      <td>3.75</td>\n",
              "      <td>3.750</td>\n",
              "      <td>3.75</td>\n",
              "      <td>3.75</td>\n",
              "      <td>0.000000</td>\n",
              "      <td>3.7500</td>\n",
              "      <td>3.750</td>\n",
              "      <td>3.7500</td>\n",
              "    </tr>\n",
              "    <tr>\n",
              "      <th rowspan=\"3\" valign=\"top\">C</th>\n",
              "      <th>1</th>\n",
              "      <th>0.0</th>\n",
              "      <td>8</td>\n",
              "      <td>43.50</td>\n",
              "      <td>5.250</td>\n",
              "      <td>4.75</td>\n",
              "      <td>7.00</td>\n",
              "      <td>0.681795</td>\n",
              "      <td>5.0000</td>\n",
              "      <td>5.250</td>\n",
              "      <td>5.4375</td>\n",
              "    </tr>\n",
              "    <tr>\n",
              "      <th>2</th>\n",
              "      <th>0.0</th>\n",
              "      <td>2</td>\n",
              "      <td>11.50</td>\n",
              "      <td>5.750</td>\n",
              "      <td>5.00</td>\n",
              "      <td>6.50</td>\n",
              "      <td>0.750000</td>\n",
              "      <td>5.3750</td>\n",
              "      <td>5.750</td>\n",
              "      <td>6.1250</td>\n",
              "    </tr>\n",
              "    <tr>\n",
              "      <th>2NT</th>\n",
              "      <th>0.0</th>\n",
              "      <td>4</td>\n",
              "      <td>24.25</td>\n",
              "      <td>6.000</td>\n",
              "      <td>5.25</td>\n",
              "      <td>7.00</td>\n",
              "      <td>0.817294</td>\n",
              "      <td>5.2500</td>\n",
              "      <td>6.000</td>\n",
              "      <td>6.8125</td>\n",
              "    </tr>\n",
              "    <tr>\n",
              "      <th rowspan=\"5\" valign=\"top\">D1</th>\n",
              "      <th rowspan=\"2\" valign=\"top\">1</th>\n",
              "      <th>0.0</th>\n",
              "      <td>12</td>\n",
              "      <td>43.75</td>\n",
              "      <td>3.625</td>\n",
              "      <td>1.50</td>\n",
              "      <td>5.75</td>\n",
              "      <td>1.251908</td>\n",
              "      <td>2.6875</td>\n",
              "      <td>3.625</td>\n",
              "      <td>4.4375</td>\n",
              "    </tr>\n",
              "    <tr>\n",
              "      <th>1.0</th>\n",
              "      <td>1</td>\n",
              "      <td>3.00</td>\n",
              "      <td>3.000</td>\n",
              "      <td>3.00</td>\n",
              "      <td>3.00</td>\n",
              "      <td>0.000000</td>\n",
              "      <td>3.0000</td>\n",
              "      <td>3.000</td>\n",
              "      <td>3.0000</td>\n",
              "    </tr>\n",
              "    <tr>\n",
              "      <th rowspan=\"2\" valign=\"top\">2</th>\n",
              "      <th>0.0</th>\n",
              "      <td>7</td>\n",
              "      <td>32.50</td>\n",
              "      <td>4.500</td>\n",
              "      <td>3.00</td>\n",
              "      <td>6.75</td>\n",
              "      <td>1.084445</td>\n",
              "      <td>4.1250</td>\n",
              "      <td>4.500</td>\n",
              "      <td>5.0000</td>\n",
              "    </tr>\n",
              "    <tr>\n",
              "      <th>1.0</th>\n",
              "      <td>1</td>\n",
              "      <td>1.25</td>\n",
              "      <td>1.250</td>\n",
              "      <td>1.25</td>\n",
              "      <td>1.25</td>\n",
              "      <td>0.000000</td>\n",
              "      <td>1.2500</td>\n",
              "      <td>1.250</td>\n",
              "      <td>1.2500</td>\n",
              "    </tr>\n",
              "    <tr>\n",
              "      <th>2NT</th>\n",
              "      <th>0.0</th>\n",
              "      <td>1</td>\n",
              "      <td>3.75</td>\n",
              "      <td>3.750</td>\n",
              "      <td>3.75</td>\n",
              "      <td>3.75</td>\n",
              "      <td>0.000000</td>\n",
              "      <td>3.7500</td>\n",
              "      <td>3.750</td>\n",
              "      <td>3.7500</td>\n",
              "    </tr>\n",
              "  </tbody>\n",
              "</table>\n",
              "</div>"
            ],
            "text/plain": [
              "           count    sum median   min   max       std      Q1     Q2      Q3\n",
              "             DH1    DH1    DH1   DH1   DH1       DH1     DH1    DH1     DH1\n",
              "KT KV  DT                                                                  \n",
              "A  1   0.0    29  93.75  3.250  1.00  6.50  1.345380  2.0000  3.250  4.2500\n",
              "   2   0.0     8  27.50  3.000  2.00  6.25  1.401729  2.2500  3.000  4.1875\n",
              "       6.0     1   4.25  4.250  4.25  4.25  0.000000  4.2500  4.250  4.2500\n",
              "   2NT 0.0    11  38.00  3.500  2.00  4.75  0.871377  2.8750  3.500  4.1250\n",
              "A1 1   0.0     2   4.75  2.375  2.00  2.75  0.375000  2.1875  2.375  2.5625\n",
              "   2NT 0.0     4  12.75  3.250  2.00  4.25  0.797947  2.9375  3.250  3.5000\n",
              "B  1   0.0     8  25.75  3.375  1.75  4.50  0.804650  3.0000  3.375  3.5625\n",
              "   2NT 0.0     1   3.75  3.750  3.75  3.75  0.000000  3.7500  3.750  3.7500\n",
              "C  1   0.0     8  43.50  5.250  4.75  7.00  0.681795  5.0000  5.250  5.4375\n",
              "   2   0.0     2  11.50  5.750  5.00  6.50  0.750000  5.3750  5.750  6.1250\n",
              "   2NT 0.0     4  24.25  6.000  5.25  7.00  0.817294  5.2500  6.000  6.8125\n",
              "D1 1   0.0    12  43.75  3.625  1.50  5.75  1.251908  2.6875  3.625  4.4375\n",
              "       1.0     1   3.00  3.000  3.00  3.00  0.000000  3.0000  3.000  3.0000\n",
              "   2   0.0     7  32.50  4.500  3.00  6.75  1.084445  4.1250  4.500  5.0000\n",
              "       1.0     1   1.25  1.250  1.25  1.25  0.000000  1.2500  1.250  1.2500\n",
              "   2NT 0.0     1   3.75  3.750  3.75  3.75  0.000000  3.7500  3.750  3.7500"
            ]
          },
          "metadata": {},
          "execution_count": 13
        }
      ]
    },
    {
      "cell_type": "code",
      "metadata": {
        "colab": {
          "base_uri": "https://localhost:8080/",
          "height": 576
        },
        "id": "fKfqLwnd5_nd",
        "outputId": "78c04ca5-26cd-48d0-fd1e-30c9789c8f39"
      },
      "source": [
        "GKT_KV_DT_DH1= df.groupby([\"KT\",\"KV\",\"DT\"])[\"DH1\"].agg([\"count\",\"sum\", \"mean\", \"median\", \"min\", \"max\", std, Q1, Q2, Q3])\n",
        "GKT_KV_DT_DH1"
      ],
      "execution_count": 14,
      "outputs": [
        {
          "output_type": "execute_result",
          "data": {
            "text/html": [
              "<div>\n",
              "<style scoped>\n",
              "    .dataframe tbody tr th:only-of-type {\n",
              "        vertical-align: middle;\n",
              "    }\n",
              "\n",
              "    .dataframe tbody tr th {\n",
              "        vertical-align: top;\n",
              "    }\n",
              "\n",
              "    .dataframe thead th {\n",
              "        text-align: right;\n",
              "    }\n",
              "</style>\n",
              "<table border=\"1\" class=\"dataframe\">\n",
              "  <thead>\n",
              "    <tr style=\"text-align: right;\">\n",
              "      <th></th>\n",
              "      <th></th>\n",
              "      <th></th>\n",
              "      <th>count</th>\n",
              "      <th>sum</th>\n",
              "      <th>mean</th>\n",
              "      <th>median</th>\n",
              "      <th>min</th>\n",
              "      <th>max</th>\n",
              "      <th>std</th>\n",
              "      <th>Q1</th>\n",
              "      <th>Q2</th>\n",
              "      <th>Q3</th>\n",
              "    </tr>\n",
              "    <tr>\n",
              "      <th>KT</th>\n",
              "      <th>KV</th>\n",
              "      <th>DT</th>\n",
              "      <th></th>\n",
              "      <th></th>\n",
              "      <th></th>\n",
              "      <th></th>\n",
              "      <th></th>\n",
              "      <th></th>\n",
              "      <th></th>\n",
              "      <th></th>\n",
              "      <th></th>\n",
              "      <th></th>\n",
              "    </tr>\n",
              "  </thead>\n",
              "  <tbody>\n",
              "    <tr>\n",
              "      <th rowspan=\"4\" valign=\"top\">A</th>\n",
              "      <th>1</th>\n",
              "      <th>0.0</th>\n",
              "      <td>29</td>\n",
              "      <td>93.75</td>\n",
              "      <td>3.232759</td>\n",
              "      <td>3.250</td>\n",
              "      <td>1.00</td>\n",
              "      <td>6.50</td>\n",
              "      <td>1.345380</td>\n",
              "      <td>2.0000</td>\n",
              "      <td>3.250</td>\n",
              "      <td>4.2500</td>\n",
              "    </tr>\n",
              "    <tr>\n",
              "      <th rowspan=\"2\" valign=\"top\">2</th>\n",
              "      <th>0.0</th>\n",
              "      <td>8</td>\n",
              "      <td>27.50</td>\n",
              "      <td>3.437500</td>\n",
              "      <td>3.000</td>\n",
              "      <td>2.00</td>\n",
              "      <td>6.25</td>\n",
              "      <td>1.401729</td>\n",
              "      <td>2.2500</td>\n",
              "      <td>3.000</td>\n",
              "      <td>4.1875</td>\n",
              "    </tr>\n",
              "    <tr>\n",
              "      <th>6.0</th>\n",
              "      <td>1</td>\n",
              "      <td>4.25</td>\n",
              "      <td>4.250000</td>\n",
              "      <td>4.250</td>\n",
              "      <td>4.25</td>\n",
              "      <td>4.25</td>\n",
              "      <td>0.000000</td>\n",
              "      <td>4.2500</td>\n",
              "      <td>4.250</td>\n",
              "      <td>4.2500</td>\n",
              "    </tr>\n",
              "    <tr>\n",
              "      <th>2NT</th>\n",
              "      <th>0.0</th>\n",
              "      <td>11</td>\n",
              "      <td>38.00</td>\n",
              "      <td>3.454545</td>\n",
              "      <td>3.500</td>\n",
              "      <td>2.00</td>\n",
              "      <td>4.75</td>\n",
              "      <td>0.871377</td>\n",
              "      <td>2.8750</td>\n",
              "      <td>3.500</td>\n",
              "      <td>4.1250</td>\n",
              "    </tr>\n",
              "    <tr>\n",
              "      <th rowspan=\"2\" valign=\"top\">A1</th>\n",
              "      <th>1</th>\n",
              "      <th>0.0</th>\n",
              "      <td>2</td>\n",
              "      <td>4.75</td>\n",
              "      <td>2.375000</td>\n",
              "      <td>2.375</td>\n",
              "      <td>2.00</td>\n",
              "      <td>2.75</td>\n",
              "      <td>0.375000</td>\n",
              "      <td>2.1875</td>\n",
              "      <td>2.375</td>\n",
              "      <td>2.5625</td>\n",
              "    </tr>\n",
              "    <tr>\n",
              "      <th>2NT</th>\n",
              "      <th>0.0</th>\n",
              "      <td>4</td>\n",
              "      <td>12.75</td>\n",
              "      <td>3.187500</td>\n",
              "      <td>3.250</td>\n",
              "      <td>2.00</td>\n",
              "      <td>4.25</td>\n",
              "      <td>0.797947</td>\n",
              "      <td>2.9375</td>\n",
              "      <td>3.250</td>\n",
              "      <td>3.5000</td>\n",
              "    </tr>\n",
              "    <tr>\n",
              "      <th rowspan=\"2\" valign=\"top\">B</th>\n",
              "      <th>1</th>\n",
              "      <th>0.0</th>\n",
              "      <td>8</td>\n",
              "      <td>25.75</td>\n",
              "      <td>3.218750</td>\n",
              "      <td>3.375</td>\n",
              "      <td>1.75</td>\n",
              "      <td>4.50</td>\n",
              "      <td>0.804650</td>\n",
              "      <td>3.0000</td>\n",
              "      <td>3.375</td>\n",
              "      <td>3.5625</td>\n",
              "    </tr>\n",
              "    <tr>\n",
              "      <th>2NT</th>\n",
              "      <th>0.0</th>\n",
              "      <td>1</td>\n",
              "      <td>3.75</td>\n",
              "      <td>3.750000</td>\n",
              "      <td>3.750</td>\n",
              "      <td>3.75</td>\n",
              "      <td>3.75</td>\n",
              "      <td>0.000000</td>\n",
              "      <td>3.7500</td>\n",
              "      <td>3.750</td>\n",
              "      <td>3.7500</td>\n",
              "    </tr>\n",
              "    <tr>\n",
              "      <th rowspan=\"3\" valign=\"top\">C</th>\n",
              "      <th>1</th>\n",
              "      <th>0.0</th>\n",
              "      <td>8</td>\n",
              "      <td>43.50</td>\n",
              "      <td>5.437500</td>\n",
              "      <td>5.250</td>\n",
              "      <td>4.75</td>\n",
              "      <td>7.00</td>\n",
              "      <td>0.681795</td>\n",
              "      <td>5.0000</td>\n",
              "      <td>5.250</td>\n",
              "      <td>5.4375</td>\n",
              "    </tr>\n",
              "    <tr>\n",
              "      <th>2</th>\n",
              "      <th>0.0</th>\n",
              "      <td>2</td>\n",
              "      <td>11.50</td>\n",
              "      <td>5.750000</td>\n",
              "      <td>5.750</td>\n",
              "      <td>5.00</td>\n",
              "      <td>6.50</td>\n",
              "      <td>0.750000</td>\n",
              "      <td>5.3750</td>\n",
              "      <td>5.750</td>\n",
              "      <td>6.1250</td>\n",
              "    </tr>\n",
              "    <tr>\n",
              "      <th>2NT</th>\n",
              "      <th>0.0</th>\n",
              "      <td>4</td>\n",
              "      <td>24.25</td>\n",
              "      <td>6.062500</td>\n",
              "      <td>6.000</td>\n",
              "      <td>5.25</td>\n",
              "      <td>7.00</td>\n",
              "      <td>0.817294</td>\n",
              "      <td>5.2500</td>\n",
              "      <td>6.000</td>\n",
              "      <td>6.8125</td>\n",
              "    </tr>\n",
              "    <tr>\n",
              "      <th rowspan=\"5\" valign=\"top\">D1</th>\n",
              "      <th rowspan=\"2\" valign=\"top\">1</th>\n",
              "      <th>0.0</th>\n",
              "      <td>12</td>\n",
              "      <td>43.75</td>\n",
              "      <td>3.645833</td>\n",
              "      <td>3.625</td>\n",
              "      <td>1.50</td>\n",
              "      <td>5.75</td>\n",
              "      <td>1.251908</td>\n",
              "      <td>2.6875</td>\n",
              "      <td>3.625</td>\n",
              "      <td>4.4375</td>\n",
              "    </tr>\n",
              "    <tr>\n",
              "      <th>1.0</th>\n",
              "      <td>1</td>\n",
              "      <td>3.00</td>\n",
              "      <td>3.000000</td>\n",
              "      <td>3.000</td>\n",
              "      <td>3.00</td>\n",
              "      <td>3.00</td>\n",
              "      <td>0.000000</td>\n",
              "      <td>3.0000</td>\n",
              "      <td>3.000</td>\n",
              "      <td>3.0000</td>\n",
              "    </tr>\n",
              "    <tr>\n",
              "      <th rowspan=\"2\" valign=\"top\">2</th>\n",
              "      <th>0.0</th>\n",
              "      <td>7</td>\n",
              "      <td>32.50</td>\n",
              "      <td>4.642857</td>\n",
              "      <td>4.500</td>\n",
              "      <td>3.00</td>\n",
              "      <td>6.75</td>\n",
              "      <td>1.084445</td>\n",
              "      <td>4.1250</td>\n",
              "      <td>4.500</td>\n",
              "      <td>5.0000</td>\n",
              "    </tr>\n",
              "    <tr>\n",
              "      <th>1.0</th>\n",
              "      <td>1</td>\n",
              "      <td>1.25</td>\n",
              "      <td>1.250000</td>\n",
              "      <td>1.250</td>\n",
              "      <td>1.25</td>\n",
              "      <td>1.25</td>\n",
              "      <td>0.000000</td>\n",
              "      <td>1.2500</td>\n",
              "      <td>1.250</td>\n",
              "      <td>1.2500</td>\n",
              "    </tr>\n",
              "    <tr>\n",
              "      <th>2NT</th>\n",
              "      <th>0.0</th>\n",
              "      <td>1</td>\n",
              "      <td>3.75</td>\n",
              "      <td>3.750000</td>\n",
              "      <td>3.750</td>\n",
              "      <td>3.75</td>\n",
              "      <td>3.75</td>\n",
              "      <td>0.000000</td>\n",
              "      <td>3.7500</td>\n",
              "      <td>3.750</td>\n",
              "      <td>3.7500</td>\n",
              "    </tr>\n",
              "  </tbody>\n",
              "</table>\n",
              "</div>"
            ],
            "text/plain": [
              "            count    sum      mean  median  ...       std      Q1     Q2      Q3\n",
              "KT KV  DT                                   ...                                 \n",
              "A  1   0.0     29  93.75  3.232759   3.250  ...  1.345380  2.0000  3.250  4.2500\n",
              "   2   0.0      8  27.50  3.437500   3.000  ...  1.401729  2.2500  3.000  4.1875\n",
              "       6.0      1   4.25  4.250000   4.250  ...  0.000000  4.2500  4.250  4.2500\n",
              "   2NT 0.0     11  38.00  3.454545   3.500  ...  0.871377  2.8750  3.500  4.1250\n",
              "A1 1   0.0      2   4.75  2.375000   2.375  ...  0.375000  2.1875  2.375  2.5625\n",
              "   2NT 0.0      4  12.75  3.187500   3.250  ...  0.797947  2.9375  3.250  3.5000\n",
              "B  1   0.0      8  25.75  3.218750   3.375  ...  0.804650  3.0000  3.375  3.5625\n",
              "   2NT 0.0      1   3.75  3.750000   3.750  ...  0.000000  3.7500  3.750  3.7500\n",
              "C  1   0.0      8  43.50  5.437500   5.250  ...  0.681795  5.0000  5.250  5.4375\n",
              "   2   0.0      2  11.50  5.750000   5.750  ...  0.750000  5.3750  5.750  6.1250\n",
              "   2NT 0.0      4  24.25  6.062500   6.000  ...  0.817294  5.2500  6.000  6.8125\n",
              "D1 1   0.0     12  43.75  3.645833   3.625  ...  1.251908  2.6875  3.625  4.4375\n",
              "       1.0      1   3.00  3.000000   3.000  ...  0.000000  3.0000  3.000  3.0000\n",
              "   2   0.0      7  32.50  4.642857   4.500  ...  1.084445  4.1250  4.500  5.0000\n",
              "       1.0      1   1.25  1.250000   1.250  ...  0.000000  1.2500  1.250  1.2500\n",
              "   2NT 0.0      1   3.75  3.750000   3.750  ...  0.000000  3.7500  3.750  3.7500\n",
              "\n",
              "[16 rows x 10 columns]"
            ]
          },
          "metadata": {},
          "execution_count": 14
        }
      ]
    },
    {
      "cell_type": "markdown",
      "metadata": {
        "id": "STu4GZaa6IB8"
      },
      "source": [
        "**Phần 2:**"
      ]
    },
    {
      "cell_type": "code",
      "metadata": {
        "colab": {
          "base_uri": "https://localhost:8080/",
          "height": 282
        },
        "id": "0EWxb7fo6Eok",
        "outputId": "73fecdfd-8527-4072-f887-22e5713eda84"
      },
      "source": [
        "StaKV = df.groupby(\"KV\")[\"KV\"].agg([\"count\"])\n",
        "StaKV.plot.pie(\n",
        "    autopct=\"%.2f\",\n",
        "    fontsize=20,\n",
        "    subplots=True,\n",
        "    figsize=(8, 4))"
      ],
      "execution_count": 15,
      "outputs": [
        {
          "output_type": "execute_result",
          "data": {
            "text/plain": [
              "array([<matplotlib.axes._subplots.AxesSubplot object at 0x7f6ea9553210>],\n",
              "      dtype=object)"
            ]
          },
          "metadata": {},
          "execution_count": 15
        },
        {
          "output_type": "display_data",
          "data": {
            "image/png": "[encoded data removed]",
            "text/plain": [
              "<Figure size 576x288 with 1 Axes>"
            ]
          },
          "metadata": {}
        }
      ]
    },
    {
      "cell_type": "code",
      "metadata": {
        "colab": {
          "base_uri": "https://localhost:8080/",
          "height": 282
        },
        "id": "DYsXu9ir6SIL",
        "outputId": "abe330be-e25b-4406-ef41-0b41cdcf4434"
      },
      "source": [
        "StaKT = df.groupby(\"KT\")[\"KT\"].agg([\"count\"])\n",
        "StaKT.plot.pie(\n",
        "    autopct=\"%.2f\",\n",
        "    fontsize=20,\n",
        "    subplots=True,\n",
        "    figsize=(8, 4))"
      ],
      "execution_count": 16,
      "outputs": [
        {
          "output_type": "execute_result",
          "data": {
            "text/plain": [
              "array([<matplotlib.axes._subplots.AxesSubplot object at 0x7f6ea947eb50>],\n",
              "      dtype=object)"
            ]
          },
          "metadata": {},
          "execution_count": 16
        },
        {
          "output_type": "display_data",
          "data": {
            "image/png": "[encoded data removed]",
            "text/plain": [
              "<Figure size 576x288 with 1 Axes>"
            ]
          },
          "metadata": {}
        }
      ]
    },
    {
      "cell_type": "code",
      "metadata": {
        "colab": {
          "base_uri": "https://localhost:8080/",
          "height": 295
        },
        "id": "4CQhi4oE6VZq",
        "outputId": "fc05d8ef-1205-4044-f78c-5826b27e2cbe"
      },
      "source": [
        "StaGT = df.groupby(\"GT\")[\"GT\"].agg([\"count\"])\n",
        "StaGT.plot.bar()"
      ],
      "execution_count": 17,
      "outputs": [
        {
          "output_type": "execute_result",
          "data": {
            "text/plain": [
              "<matplotlib.axes._subplots.AxesSubplot at 0x7f6ea8fc1690>"
            ]
          },
          "metadata": {},
          "execution_count": 17
        },
        {
          "output_type": "display_data",
          "data": {
            "image/png": "[encoded data removed]",
            "text/plain": [
              "<Figure size 432x288 with 1 Axes>"
            ]
          },
          "metadata": {
            "needs_background": "light"
          }
        }
      ]
    },
    {
      "cell_type": "code",
      "metadata": {
        "colab": {
          "base_uri": "https://localhost:8080/",
          "height": 282
        },
        "id": "UFQFPOAJ6XtL",
        "outputId": "9539e750-7389-4e20-e9e6-4ca46456ec60"
      },
      "source": [
        "StaDT = df.groupby(\"DT\")[\"DT\"].agg([\"count\"])\n",
        "StaDT.plot.pie(\n",
        "    autopct=\"%.2f\",\n",
        "    subplots=True,\n",
        "    figsize=(8, 4))"
      ],
      "execution_count": 18,
      "outputs": [
        {
          "output_type": "execute_result",
          "data": {
            "text/plain": [
              "array([<matplotlib.axes._subplots.AxesSubplot object at 0x7f6ea8f3dd50>],\n",
              "      dtype=object)"
            ]
          },
          "metadata": {},
          "execution_count": 18
        },
        {
          "output_type": "display_data",
          "data": {
            "image/png": "[encoded data removed]",
            "text/plain": [
              "<Figure size 576x288 with 1 Axes>"
            ]
          },
          "metadata": {}
        }
      ]
    },
    {
      "cell_type": "code",
      "metadata": {
        "colab": {
          "base_uri": "https://localhost:8080/"
        },
        "id": "7LIlrVyv6Z2Z",
        "outputId": "62b86de4-2f01-43d4-e7eb-ede08c5b88e6"
      },
      "source": [
        "df[\"US_TBM1\"]"
      ],
      "execution_count": 19,
      "outputs": [
        {
          "output_type": "execute_result",
          "data": {
            "text/plain": [
              "STT\n",
              "1      2.800\n",
              "2      1.876\n",
              "3      2.308\n",
              "4      2.484\n",
              "5      2.600\n",
              "       ...  \n",
              "96     2.972\n",
              "97     1.972\n",
              "98     2.820\n",
              "99     1.660\n",
              "100    2.104\n",
              "Name: US_TBM1, Length: 100, dtype: float64"
            ]
          },
          "metadata": {},
          "execution_count": 19
        }
      ]
    },
    {
      "cell_type": "code",
      "metadata": {
        "colab": {
          "base_uri": "https://localhost:8080/",
          "height": 305
        },
        "id": "0g4GZsXv6dSD",
        "outputId": "f074bdaa-f6b0-459f-eb44-99305b52b738"
      },
      "source": [
        "df['US_TBM1'].plot.bar()"
      ],
      "execution_count": 20,
      "outputs": [
        {
          "output_type": "execute_result",
          "data": {
            "text/plain": [
              "<matplotlib.axes._subplots.AxesSubplot at 0x7f6ea8ea6f10>"
            ]
          },
          "metadata": {},
          "execution_count": 20
        },
        {
          "output_type": "display_data",
          "data": {
            "image/png": "[encoded data removed]",
            "text/plain": [
              "<Figure size 432x288 with 1 Axes>"
            ]
          },
          "metadata": {
            "needs_background": "light"
          }
        }
      ]
    },
    {
      "cell_type": "code",
      "metadata": {
        "colab": {
          "base_uri": "https://localhost:8080/",
          "height": 282
        },
        "id": "IJcO1HCC6fIK",
        "outputId": "ded66a66-2e4e-4067-e904-7b7d4907be9c"
      },
      "source": [
        "df['US_TBM1'].plot.hist(bins =20)"
      ],
      "execution_count": 21,
      "outputs": [
        {
          "output_type": "execute_result",
          "data": {
            "text/plain": [
              "<matplotlib.axes._subplots.AxesSubplot at 0x7f6ea8ba9710>"
            ]
          },
          "metadata": {},
          "execution_count": 21
        },
        {
          "output_type": "display_data",
          "data": {
            "image/png": "[encoded data removed]",
            "text/plain": [
              "<Figure size 432x288 with 1 Axes>"
            ]
          },
          "metadata": {
            "needs_background": "light"
          }
        }
      ]
    },
    {
      "cell_type": "code",
      "metadata": {
        "colab": {
          "base_uri": "https://localhost:8080/",
          "height": 305
        },
        "id": "BNLIf7a06ixa",
        "outputId": "2bbdaacd-3fd7-447c-9ff6-1249f11df5a6"
      },
      "source": [
        "df[\"US_TBM2\"].plot.bar()"
      ],
      "execution_count": 22,
      "outputs": [
        {
          "output_type": "execute_result",
          "data": {
            "text/plain": [
              "<matplotlib.axes._subplots.AxesSubplot at 0x7f6ea8b40790>"
            ]
          },
          "metadata": {},
          "execution_count": 22
        },
        {
          "output_type": "display_data",
          "data": {
            "image/png": "[encoded data removed]",
            "text/plain": [
              "<Figure size 432x288 with 1 Axes>"
            ]
          },
          "metadata": {
            "needs_background": "light"
          }
        }
      ]
    },
    {
      "cell_type": "code",
      "metadata": {
        "colab": {
          "base_uri": "https://localhost:8080/",
          "height": 282
        },
        "id": "mCfSXWht6n4k",
        "outputId": "c834062e-e5b4-4cb0-bae9-9b9477b08606"
      },
      "source": [
        "df[\"US_TBM2\"].plot.hist(bins= 20)"
      ],
      "execution_count": 23,
      "outputs": [
        {
          "output_type": "execute_result",
          "data": {
            "text/plain": [
              "<matplotlib.axes._subplots.AxesSubplot at 0x7f6ea8be7810>"
            ]
          },
          "metadata": {},
          "execution_count": 23
        },
        {
          "output_type": "display_data",
          "data": {
            "image/png": "[encoded data removed]",
            "text/plain": [
              "<Figure size 432x288 with 1 Axes>"
            ]
          },
          "metadata": {
            "needs_background": "light"
          }
        }
      ]
    },
    {
      "cell_type": "code",
      "metadata": {
        "colab": {
          "base_uri": "https://localhost:8080/",
          "height": 305
        },
        "id": "2mwIMZYL6p_y",
        "outputId": "62d17ce7-fda3-45f2-fb5b-be09a7dcd152"
      },
      "source": [
        "df[\"US_TBM3\"].plot.bar()"
      ],
      "execution_count": 24,
      "outputs": [
        {
          "output_type": "execute_result",
          "data": {
            "text/plain": [
              "<matplotlib.axes._subplots.AxesSubplot at 0x7f6ea87eeb90>"
            ]
          },
          "metadata": {},
          "execution_count": 24
        },
        {
          "output_type": "display_data",
          "data": {
            "image/png": "[encoded data removed]",
            "text/plain": [
              "<Figure size 432x288 with 1 Axes>"
            ]
          },
          "metadata": {
            "needs_background": "light"
          }
        }
      ]
    },
    {
      "cell_type": "code",
      "metadata": {
        "colab": {
          "base_uri": "https://localhost:8080/",
          "height": 282
        },
        "id": "emS2f2-o6sKK",
        "outputId": "b69ca91d-d1fd-4731-ddd0-047c4792675d"
      },
      "source": [
        "df[\"US_TBM3\"].plot.hist(bins= 20)"
      ],
      "execution_count": 25,
      "outputs": [
        {
          "output_type": "execute_result",
          "data": {
            "text/plain": [
              "<matplotlib.axes._subplots.AxesSubplot at 0x7f6ea859b490>"
            ]
          },
          "metadata": {},
          "execution_count": 25
        },
        {
          "output_type": "display_data",
          "data": {
            "image/png": "[encoded data removed]",
            "text/plain": [
              "<Figure size 432x288 with 1 Axes>"
            ]
          },
          "metadata": {
            "needs_background": "light"
          }
        }
      ]
    },
    {
      "cell_type": "code",
      "metadata": {
        "colab": {
          "base_uri": "https://localhost:8080/",
          "height": 173
        },
        "id": "WKmiiOVK6wRS",
        "outputId": "fec0e366-d693-4ff5-cd55-67abe4f04bd1"
      },
      "source": [
        "DT_GTM = df[df.GT=='M'].groupby(['DT','GT']).agg({'GT':'count'}).rename(columns={'GT':'Count'})\n",
        "DT_GTM"
      ],
      "execution_count": 26,
      "outputs": [
        {
          "output_type": "execute_result",
          "data": {
            "text/html": [
              "<div>\n",
              "<style scoped>\n",
              "    .dataframe tbody tr th:only-of-type {\n",
              "        vertical-align: middle;\n",
              "    }\n",
              "\n",
              "    .dataframe tbody tr th {\n",
              "        vertical-align: top;\n",
              "    }\n",
              "\n",
              "    .dataframe thead th {\n",
              "        text-align: right;\n",
              "    }\n",
              "</style>\n",
              "<table border=\"1\" class=\"dataframe\">\n",
              "  <thead>\n",
              "    <tr style=\"text-align: right;\">\n",
              "      <th></th>\n",
              "      <th></th>\n",
              "      <th>Count</th>\n",
              "    </tr>\n",
              "    <tr>\n",
              "      <th>DT</th>\n",
              "      <th>GT</th>\n",
              "      <th></th>\n",
              "    </tr>\n",
              "  </thead>\n",
              "  <tbody>\n",
              "    <tr>\n",
              "      <th>0.0</th>\n",
              "      <th>M</th>\n",
              "      <td>50</td>\n",
              "    </tr>\n",
              "    <tr>\n",
              "      <th>1.0</th>\n",
              "      <th>M</th>\n",
              "      <td>1</td>\n",
              "    </tr>\n",
              "    <tr>\n",
              "      <th>6.0</th>\n",
              "      <th>M</th>\n",
              "      <td>1</td>\n",
              "    </tr>\n",
              "  </tbody>\n",
              "</table>\n",
              "</div>"
            ],
            "text/plain": [
              "        Count\n",
              "DT  GT       \n",
              "0.0 M      50\n",
              "1.0 M       1\n",
              "6.0 M       1"
            ]
          },
          "metadata": {},
          "execution_count": 26
        }
      ]
    },
    {
      "cell_type": "code",
      "metadata": {
        "colab": {
          "base_uri": "https://localhost:8080/",
          "height": 282
        },
        "id": "wqN2sJV66yFy",
        "outputId": "06ba1d98-bc00-4ee1-9cab-cd57e95c3d3c"
      },
      "source": [
        "df.loc[(df.GT=='M'),'DT'].hist()"
      ],
      "execution_count": 28,
      "outputs": [
        {
          "output_type": "execute_result",
          "data": {
            "text/plain": [
              "<matplotlib.axes._subplots.AxesSubplot at 0x7f6ea841df10>"
            ]
          },
          "metadata": {},
          "execution_count": 28
        },
        {
          "output_type": "display_data",
          "data": {
            "image/png": "[encoded data removed]",
            "text/plain": [
              "<Figure size 432x288 with 1 Axes>"
            ]
          },
          "metadata": {
            "needs_background": "light"
          }
        }
      ]
    },
    {
      "cell_type": "code",
      "metadata": {
        "colab": {
          "base_uri": "https://localhost:8080/",
          "height": 173
        },
        "id": "JLVbau_a61Nc",
        "outputId": "28eaa9d0-6854-4f0e-cadf-a6395cf3c481"
      },
      "source": [
        "M_DT00_KV = df[(df.DT.isin(['0.0'])) & (df.GT =='M') & (df.DH1 >=5.0) & (df.DH2 >= 4.0) & (df.DH3 >= 4.0)].groupby(['DT','KV','GT']).agg({'GT':'count'})\n",
        "M_DT00_KV"
      ],
      "execution_count": 29,
      "outputs": [
        {
          "output_type": "execute_result",
          "data": {
            "text/html": [
              "<div>\n",
              "<style scoped>\n",
              "    .dataframe tbody tr th:only-of-type {\n",
              "        vertical-align: middle;\n",
              "    }\n",
              "\n",
              "    .dataframe tbody tr th {\n",
              "        vertical-align: top;\n",
              "    }\n",
              "\n",
              "    .dataframe thead th {\n",
              "        text-align: right;\n",
              "    }\n",
              "</style>\n",
              "<table border=\"1\" class=\"dataframe\">\n",
              "  <thead>\n",
              "    <tr style=\"text-align: right;\">\n",
              "      <th></th>\n",
              "      <th></th>\n",
              "      <th></th>\n",
              "      <th>GT</th>\n",
              "    </tr>\n",
              "    <tr>\n",
              "      <th>DT</th>\n",
              "      <th>KV</th>\n",
              "      <th>GT</th>\n",
              "      <th></th>\n",
              "    </tr>\n",
              "  </thead>\n",
              "  <tbody>\n",
              "    <tr>\n",
              "      <th rowspan=\"3\" valign=\"top\">0.0</th>\n",
              "      <th>1</th>\n",
              "      <th>M</th>\n",
              "      <td>2</td>\n",
              "    </tr>\n",
              "    <tr>\n",
              "      <th>2</th>\n",
              "      <th>M</th>\n",
              "      <td>2</td>\n",
              "    </tr>\n",
              "    <tr>\n",
              "      <th>2NT</th>\n",
              "      <th>M</th>\n",
              "      <td>2</td>\n",
              "    </tr>\n",
              "  </tbody>\n",
              "</table>\n",
              "</div>"
            ],
            "text/plain": [
              "            GT\n",
              "DT  KV  GT    \n",
              "0.0 1   M    2\n",
              "    2   M    2\n",
              "    2NT M    2"
            ]
          },
          "metadata": {},
          "execution_count": 29
        }
      ]
    },
    {
      "cell_type": "code",
      "metadata": {
        "colab": {
          "base_uri": "https://localhost:8080/",
          "height": 351
        },
        "id": "CcXQJfkz63Oq",
        "outputId": "cfff6374-f872-4d4c-83fe-2f82c0f1d72e"
      },
      "source": [
        "M_DT00_KV.plot.bar()"
      ],
      "execution_count": 30,
      "outputs": [
        {
          "output_type": "execute_result",
          "data": {
            "text/plain": [
              "<matplotlib.axes._subplots.AxesSubplot at 0x7f6ea8427cd0>"
            ]
          },
          "metadata": {},
          "execution_count": 30
        },
        {
          "output_type": "display_data",
          "data": {
            "image/png": "[encoded data removed]",
            "text/plain": [
              "<Figure size 432x288 with 1 Axes>"
            ]
          },
          "metadata": {
            "needs_background": "light"
          }
        }
      ]
    },
    {
      "cell_type": "code",
      "metadata": {
        "colab": {
          "base_uri": "https://localhost:8080/",
          "height": 111
        },
        "id": "BMsdySEK66SC",
        "outputId": "7c2481f9-b9ec-4480-ab7b-ee1ee87d3085"
      },
      "source": [
        "KV_2NT = df[(df.KV =='2NT') & (df.DH1 >= 5.0) & (df.DH2 >= 5.0) & (df.DH3 >= 5.0)].groupby(['KV','DH1','DH2','DH3']).agg({'KV':'count'}).rename(columns={'KV':'Count'})\n",
        "KV_2NT"
      ],
      "execution_count": 31,
      "outputs": [
        {
          "output_type": "execute_result",
          "data": {
            "text/html": [
              "<div>\n",
              "<style scoped>\n",
              "    .dataframe tbody tr th:only-of-type {\n",
              "        vertical-align: middle;\n",
              "    }\n",
              "\n",
              "    .dataframe tbody tr th {\n",
              "        vertical-align: top;\n",
              "    }\n",
              "\n",
              "    .dataframe thead th {\n",
              "        text-align: right;\n",
              "    }\n",
              "</style>\n",
              "<table border=\"1\" class=\"dataframe\">\n",
              "  <thead>\n",
              "    <tr style=\"text-align: right;\">\n",
              "      <th></th>\n",
              "      <th></th>\n",
              "      <th></th>\n",
              "      <th></th>\n",
              "      <th>Count</th>\n",
              "    </tr>\n",
              "    <tr>\n",
              "      <th>KV</th>\n",
              "      <th>DH1</th>\n",
              "      <th>DH2</th>\n",
              "      <th>DH3</th>\n",
              "      <th></th>\n",
              "    </tr>\n",
              "  </thead>\n",
              "  <tbody>\n",
              "    <tr>\n",
              "      <th>2NT</th>\n",
              "      <th>6.75</th>\n",
              "      <th>5.25</th>\n",
              "      <th>5.0</th>\n",
              "      <td>1</td>\n",
              "    </tr>\n",
              "  </tbody>\n",
              "</table>\n",
              "</div>"
            ],
            "text/plain": [
              "                   Count\n",
              "KV  DH1  DH2  DH3       \n",
              "2NT 6.75 5.25 5.0      1"
            ]
          },
          "metadata": {},
          "execution_count": 31
        }
      ]
    },
    {
      "cell_type": "code",
      "metadata": {
        "colab": {
          "base_uri": "https://localhost:8080/",
          "height": 173
        },
        "id": "e7wi8GXS6710",
        "outputId": "9fdc032f-6023-48d3-bae8-293c80c6db7a"
      },
      "source": [
        "KV_2NT_DH1 = df[(df.KV =='2NT') & (df.DH1 >= 5.0)].groupby(['KV','DH1']).agg({'KV':'count'}).rename(columns={'KV':'Count'})\n",
        "KV_2NT_DH1"
      ],
      "execution_count": 32,
      "outputs": [
        {
          "output_type": "execute_result",
          "data": {
            "text/html": [
              "<div>\n",
              "<style scoped>\n",
              "    .dataframe tbody tr th:only-of-type {\n",
              "        vertical-align: middle;\n",
              "    }\n",
              "\n",
              "    .dataframe tbody tr th {\n",
              "        vertical-align: top;\n",
              "    }\n",
              "\n",
              "    .dataframe thead th {\n",
              "        text-align: right;\n",
              "    }\n",
              "</style>\n",
              "<table border=\"1\" class=\"dataframe\">\n",
              "  <thead>\n",
              "    <tr style=\"text-align: right;\">\n",
              "      <th></th>\n",
              "      <th></th>\n",
              "      <th>Count</th>\n",
              "    </tr>\n",
              "    <tr>\n",
              "      <th>KV</th>\n",
              "      <th>DH1</th>\n",
              "      <th></th>\n",
              "    </tr>\n",
              "  </thead>\n",
              "  <tbody>\n",
              "    <tr>\n",
              "      <th rowspan=\"3\" valign=\"top\">2NT</th>\n",
              "      <th>5.25</th>\n",
              "      <td>2</td>\n",
              "    </tr>\n",
              "    <tr>\n",
              "      <th>6.75</th>\n",
              "      <td>1</td>\n",
              "    </tr>\n",
              "    <tr>\n",
              "      <th>7.00</th>\n",
              "      <td>1</td>\n",
              "    </tr>\n",
              "  </tbody>\n",
              "</table>\n",
              "</div>"
            ],
            "text/plain": [
              "          Count\n",
              "KV  DH1        \n",
              "2NT 5.25      2\n",
              "    6.75      1\n",
              "    7.00      1"
            ]
          },
          "metadata": {},
          "execution_count": 32
        }
      ]
    },
    {
      "cell_type": "code",
      "metadata": {
        "colab": {
          "base_uri": "https://localhost:8080/",
          "height": 343
        },
        "id": "sWbwysLj69cb",
        "outputId": "4b7e4174-5c74-44e1-a656-512a26b9ec57"
      },
      "source": [
        "KV_2NT_DH1.plot.bar()"
      ],
      "execution_count": 33,
      "outputs": [
        {
          "output_type": "execute_result",
          "data": {
            "text/plain": [
              "<matplotlib.axes._subplots.AxesSubplot at 0x7f6ea837c410>"
            ]
          },
          "metadata": {},
          "execution_count": 33
        },
        {
          "output_type": "display_data",
          "data": {
            "image/png": "[encoded data removed]",
            "text/plain": [
              "<Figure size 432x288 with 1 Axes>"
            ]
          },
          "metadata": {
            "needs_background": "light"
          }
        }
      ]
    },
    {
      "cell_type": "code",
      "metadata": {
        "colab": {
          "base_uri": "https://localhost:8080/",
          "height": 204
        },
        "id": "FRP70tga7AdL",
        "outputId": "00a048f1-c8a8-4e39-fe7f-ba6c6fa11fe4"
      },
      "source": [
        "KV_2NT_DH2 = df[(df.KV =='2NT') & (df.DH2 >= 5.0)].groupby(['KV','DH2']).agg({'KV':'count'}).rename(columns={'KV':'Count'})\n",
        "KV_2NT_DH2"
      ],
      "execution_count": 34,
      "outputs": [
        {
          "output_type": "execute_result",
          "data": {
            "text/html": [
              "<div>\n",
              "<style scoped>\n",
              "    .dataframe tbody tr th:only-of-type {\n",
              "        vertical-align: middle;\n",
              "    }\n",
              "\n",
              "    .dataframe tbody tr th {\n",
              "        vertical-align: top;\n",
              "    }\n",
              "\n",
              "    .dataframe thead th {\n",
              "        text-align: right;\n",
              "    }\n",
              "</style>\n",
              "<table border=\"1\" class=\"dataframe\">\n",
              "  <thead>\n",
              "    <tr style=\"text-align: right;\">\n",
              "      <th></th>\n",
              "      <th></th>\n",
              "      <th>Count</th>\n",
              "    </tr>\n",
              "    <tr>\n",
              "      <th>KV</th>\n",
              "      <th>DH2</th>\n",
              "      <th></th>\n",
              "    </tr>\n",
              "  </thead>\n",
              "  <tbody>\n",
              "    <tr>\n",
              "      <th rowspan=\"4\" valign=\"top\">2NT</th>\n",
              "      <th>5.00</th>\n",
              "      <td>1</td>\n",
              "    </tr>\n",
              "    <tr>\n",
              "      <th>5.25</th>\n",
              "      <td>3</td>\n",
              "    </tr>\n",
              "    <tr>\n",
              "      <th>5.75</th>\n",
              "      <td>1</td>\n",
              "    </tr>\n",
              "    <tr>\n",
              "      <th>8.00</th>\n",
              "      <td>1</td>\n",
              "    </tr>\n",
              "  </tbody>\n",
              "</table>\n",
              "</div>"
            ],
            "text/plain": [
              "          Count\n",
              "KV  DH2        \n",
              "2NT 5.00      1\n",
              "    5.25      3\n",
              "    5.75      1\n",
              "    8.00      1"
            ]
          },
          "metadata": {},
          "execution_count": 34
        }
      ]
    },
    {
      "cell_type": "code",
      "metadata": {
        "colab": {
          "base_uri": "https://localhost:8080/",
          "height": 343
        },
        "id": "Qj2CZ0NX7CBL",
        "outputId": "5b416bae-7dfd-4707-9c7f-629991769b7e"
      },
      "source": [
        "KV_2NT_DH2.plot.bar()"
      ],
      "execution_count": 35,
      "outputs": [
        {
          "output_type": "execute_result",
          "data": {
            "text/plain": [
              "<matplotlib.axes._subplots.AxesSubplot at 0x7f6ea829a190>"
            ]
          },
          "metadata": {},
          "execution_count": 35
        },
        {
          "output_type": "display_data",
          "data": {
            "image/png": "[encoded data removed]",
            "text/plain": [
              "<Figure size 432x288 with 1 Axes>"
            ]
          },
          "metadata": {
            "needs_background": "light"
          }
        }
      ]
    },
    {
      "cell_type": "code",
      "metadata": {
        "colab": {
          "base_uri": "https://localhost:8080/",
          "height": 204
        },
        "id": "Rt7lnCX97Eki",
        "outputId": "f30231a6-3601-49dd-cb28-cb104ac445d5"
      },
      "source": [
        "KV_2NT_DH3 = df[(df.KV =='2NT') & (df.DH3 >= 5.0)].groupby(['KV','DH3']).agg({'KV':'count'}).rename(columns={'KV':'Count'})\n",
        "KV_2NT_DH3\n"
      ],
      "execution_count": 36,
      "outputs": [
        {
          "output_type": "execute_result",
          "data": {
            "text/html": [
              "<div>\n",
              "<style scoped>\n",
              "    .dataframe tbody tr th:only-of-type {\n",
              "        vertical-align: middle;\n",
              "    }\n",
              "\n",
              "    .dataframe tbody tr th {\n",
              "        vertical-align: top;\n",
              "    }\n",
              "\n",
              "    .dataframe thead th {\n",
              "        text-align: right;\n",
              "    }\n",
              "</style>\n",
              "<table border=\"1\" class=\"dataframe\">\n",
              "  <thead>\n",
              "    <tr style=\"text-align: right;\">\n",
              "      <th></th>\n",
              "      <th></th>\n",
              "      <th>Count</th>\n",
              "    </tr>\n",
              "    <tr>\n",
              "      <th>KV</th>\n",
              "      <th>DH3</th>\n",
              "      <th></th>\n",
              "    </tr>\n",
              "  </thead>\n",
              "  <tbody>\n",
              "    <tr>\n",
              "      <th rowspan=\"4\" valign=\"top\">2NT</th>\n",
              "      <th>5.0</th>\n",
              "      <td>2</td>\n",
              "    </tr>\n",
              "    <tr>\n",
              "      <th>5.5</th>\n",
              "      <td>1</td>\n",
              "    </tr>\n",
              "    <tr>\n",
              "      <th>6.0</th>\n",
              "      <td>1</td>\n",
              "    </tr>\n",
              "    <tr>\n",
              "      <th>6.5</th>\n",
              "      <td>2</td>\n",
              "    </tr>\n",
              "  </tbody>\n",
              "</table>\n",
              "</div>"
            ],
            "text/plain": [
              "         Count\n",
              "KV  DH3       \n",
              "2NT 5.0      2\n",
              "    5.5      1\n",
              "    6.0      1\n",
              "    6.5      2"
            ]
          },
          "metadata": {},
          "execution_count": 36
        }
      ]
    },
    {
      "cell_type": "code",
      "metadata": {
        "colab": {
          "base_uri": "https://localhost:8080/",
          "height": 336
        },
        "id": "Vrmk72IS7GPy",
        "outputId": "cea699d5-a91f-43d4-b434-9d16bf6db0f0"
      },
      "source": [
        "KV_2NT_DH3.plot.bar()"
      ],
      "execution_count": 37,
      "outputs": [
        {
          "output_type": "execute_result",
          "data": {
            "text/plain": [
              "<matplotlib.axes._subplots.AxesSubplot at 0x7f6ea837c610>"
            ]
          },
          "metadata": {},
          "execution_count": 37
        },
        {
          "output_type": "display_data",
          "data": {
            "image/png": "[encoded data removed]",
            "text/plain": [
              "<Figure size 432x288 with 1 Axes>"
            ]
          },
          "metadata": {
            "needs_background": "light"
          }
        }
      ]
    },
    {
      "cell_type": "markdown",
      "metadata": {
        "id": "JfYApZJf7J2C"
      },
      "source": [
        "**Phần 3:**"
      ]
    },
    {
      "cell_type": "code",
      "metadata": {
        "colab": {
          "base_uri": "https://localhost:8080/",
          "height": 452
        },
        "id": "WPugknYq7Kxr",
        "outputId": "68309087-9f45-400e-b9d4-290330101ecf"
      },
      "source": [
        "XL_F = df[(df.GT == 'F')].groupby(['GT','XL1','XL2','XL3']).agg({'GT':'count'}).rename(columns={'GT':'Count'})\n",
        "XL_F"
      ],
      "execution_count": 38,
      "outputs": [
        {
          "output_type": "execute_result",
          "data": {
            "text/html": [
              "<div>\n",
              "<style scoped>\n",
              "    .dataframe tbody tr th:only-of-type {\n",
              "        vertical-align: middle;\n",
              "    }\n",
              "\n",
              "    .dataframe tbody tr th {\n",
              "        vertical-align: top;\n",
              "    }\n",
              "\n",
              "    .dataframe thead th {\n",
              "        text-align: right;\n",
              "    }\n",
              "</style>\n",
              "<table border=\"1\" class=\"dataframe\">\n",
              "  <thead>\n",
              "    <tr style=\"text-align: right;\">\n",
              "      <th></th>\n",
              "      <th></th>\n",
              "      <th></th>\n",
              "      <th></th>\n",
              "      <th>Count</th>\n",
              "    </tr>\n",
              "    <tr>\n",
              "      <th>GT</th>\n",
              "      <th>XL1</th>\n",
              "      <th>XL2</th>\n",
              "      <th>XL3</th>\n",
              "      <th></th>\n",
              "    </tr>\n",
              "  </thead>\n",
              "  <tbody>\n",
              "    <tr>\n",
              "      <th rowspan=\"12\" valign=\"top\">F</th>\n",
              "      <th>G</th>\n",
              "      <th>G</th>\n",
              "      <th>G</th>\n",
              "      <td>1</td>\n",
              "    </tr>\n",
              "    <tr>\n",
              "      <th rowspan=\"4\" valign=\"top\">K</th>\n",
              "      <th>G</th>\n",
              "      <th>K</th>\n",
              "      <td>1</td>\n",
              "    </tr>\n",
              "    <tr>\n",
              "      <th rowspan=\"2\" valign=\"top\">K</th>\n",
              "      <th>K</th>\n",
              "      <td>20</td>\n",
              "    </tr>\n",
              "    <tr>\n",
              "      <th>TB</th>\n",
              "      <td>1</td>\n",
              "    </tr>\n",
              "    <tr>\n",
              "      <th>TB</th>\n",
              "      <th>TB</th>\n",
              "      <td>2</td>\n",
              "    </tr>\n",
              "    <tr>\n",
              "      <th rowspan=\"4\" valign=\"top\">TB</th>\n",
              "      <th rowspan=\"2\" valign=\"top\">K</th>\n",
              "      <th>K</th>\n",
              "      <td>6</td>\n",
              "    </tr>\n",
              "    <tr>\n",
              "      <th>TB</th>\n",
              "      <td>3</td>\n",
              "    </tr>\n",
              "    <tr>\n",
              "      <th rowspan=\"2\" valign=\"top\">TB</th>\n",
              "      <th>K</th>\n",
              "      <td>1</td>\n",
              "    </tr>\n",
              "    <tr>\n",
              "      <th>TB</th>\n",
              "      <td>8</td>\n",
              "    </tr>\n",
              "    <tr>\n",
              "      <th rowspan=\"3\" valign=\"top\">Y</th>\n",
              "      <th rowspan=\"2\" valign=\"top\">TB</th>\n",
              "      <th>TB</th>\n",
              "      <td>3</td>\n",
              "    </tr>\n",
              "    <tr>\n",
              "      <th>Y</th>\n",
              "      <td>1</td>\n",
              "    </tr>\n",
              "    <tr>\n",
              "      <th>Y</th>\n",
              "      <th>TB</th>\n",
              "      <td>1</td>\n",
              "    </tr>\n",
              "  </tbody>\n",
              "</table>\n",
              "</div>"
            ],
            "text/plain": [
              "                Count\n",
              "GT XL1 XL2 XL3       \n",
              "F  G   G   G        1\n",
              "   K   G   K        1\n",
              "       K   K       20\n",
              "           TB       1\n",
              "       TB  TB       2\n",
              "   TB  K   K        6\n",
              "           TB       3\n",
              "       TB  K        1\n",
              "           TB       8\n",
              "   Y   TB  TB       3\n",
              "           Y        1\n",
              "       Y   TB       1"
            ]
          },
          "metadata": {},
          "execution_count": 38
        }
      ]
    },
    {
      "cell_type": "code",
      "metadata": {
        "colab": {
          "base_uri": "https://localhost:8080/",
          "height": 282
        },
        "id": "mLIL_s9X7P_i",
        "outputId": "80e31ebe-ae41-4d32-ec56-31ce427ebc42"
      },
      "source": [
        "XL_F.plot.barh(stacked=True)"
      ],
      "execution_count": 40,
      "outputs": [
        {
          "output_type": "execute_result",
          "data": {
            "text/plain": [
              "<matplotlib.axes._subplots.AxesSubplot at 0x7f6ea8be7510>"
            ]
          },
          "metadata": {},
          "execution_count": 40
        },
        {
          "output_type": "display_data",
          "data": {
            "image/png": "[encoded data removed]",
            "text/plain": [
              "<Figure size 432x288 with 1 Axes>"
            ]
          },
          "metadata": {
            "needs_background": "light"
          }
        }
      ]
    },
    {
      "cell_type": "code",
      "metadata": {
        "colab": {
          "base_uri": "https://localhost:8080/"
        },
        "id": "NTPN5lKH7TFa",
        "outputId": "668d16d8-9f38-46bd-fbba-ca8d1e2dd3a6"
      },
      "source": [
        "df[['KT']].groupby(['KT'])['KT'].agg('count')"
      ],
      "execution_count": 41,
      "outputs": [
        {
          "output_type": "execute_result",
          "data": {
            "text/plain": [
              "KT\n",
              "A     49\n",
              "A1     6\n",
              "B      9\n",
              "C     14\n",
              "D1    22\n",
              "Name: KT, dtype: int64"
            ]
          },
          "metadata": {},
          "execution_count": 41
        }
      ]
    },
    {
      "cell_type": "code",
      "metadata": {
        "colab": {
          "base_uri": "https://localhost:8080/",
          "height": 297
        },
        "id": "fh0YStqL7UwS",
        "outputId": "76c0c8c4-b721-4331-dd7c-35102743af28"
      },
      "source": [
        "TQ_KQXT = df[(df.KV.isin(['1','2'])) & df.KT.isin(['A','A1','B'])].groupby(['KT','KV','KQXT']).agg({'KQXT':'count'})\n",
        "TQ_KQXT"
      ],
      "execution_count": 42,
      "outputs": [
        {
          "output_type": "execute_result",
          "data": {
            "text/html": [
              "<div>\n",
              "<style scoped>\n",
              "    .dataframe tbody tr th:only-of-type {\n",
              "        vertical-align: middle;\n",
              "    }\n",
              "\n",
              "    .dataframe tbody tr th {\n",
              "        vertical-align: top;\n",
              "    }\n",
              "\n",
              "    .dataframe thead th {\n",
              "        text-align: right;\n",
              "    }\n",
              "</style>\n",
              "<table border=\"1\" class=\"dataframe\">\n",
              "  <thead>\n",
              "    <tr style=\"text-align: right;\">\n",
              "      <th></th>\n",
              "      <th></th>\n",
              "      <th></th>\n",
              "      <th>KQXT</th>\n",
              "    </tr>\n",
              "    <tr>\n",
              "      <th>KT</th>\n",
              "      <th>KV</th>\n",
              "      <th>KQXT</th>\n",
              "      <th></th>\n",
              "    </tr>\n",
              "  </thead>\n",
              "  <tbody>\n",
              "    <tr>\n",
              "      <th rowspan=\"4\" valign=\"top\">A</th>\n",
              "      <th rowspan=\"2\" valign=\"top\">1</th>\n",
              "      <th>0.0</th>\n",
              "      <td>27</td>\n",
              "    </tr>\n",
              "    <tr>\n",
              "      <th>1.0</th>\n",
              "      <td>2</td>\n",
              "    </tr>\n",
              "    <tr>\n",
              "      <th rowspan=\"2\" valign=\"top\">2</th>\n",
              "      <th>0.0</th>\n",
              "      <td>7</td>\n",
              "    </tr>\n",
              "    <tr>\n",
              "      <th>1.0</th>\n",
              "      <td>2</td>\n",
              "    </tr>\n",
              "    <tr>\n",
              "      <th>A1</th>\n",
              "      <th>1</th>\n",
              "      <th>0.0</th>\n",
              "      <td>2</td>\n",
              "    </tr>\n",
              "    <tr>\n",
              "      <th rowspan=\"2\" valign=\"top\">B</th>\n",
              "      <th rowspan=\"2\" valign=\"top\">1</th>\n",
              "      <th>0.0</th>\n",
              "      <td>7</td>\n",
              "    </tr>\n",
              "    <tr>\n",
              "      <th>1.0</th>\n",
              "      <td>1</td>\n",
              "    </tr>\n",
              "  </tbody>\n",
              "</table>\n",
              "</div>"
            ],
            "text/plain": [
              "            KQXT\n",
              "KT KV KQXT      \n",
              "A  1  0.0     27\n",
              "      1.0      2\n",
              "   2  0.0      7\n",
              "      1.0      2\n",
              "A1 1  0.0      2\n",
              "B  1  0.0      7\n",
              "      1.0      1"
            ]
          },
          "metadata": {},
          "execution_count": 42
        }
      ]
    },
    {
      "cell_type": "code",
      "metadata": {
        "colab": {
          "base_uri": "https://localhost:8080/",
          "height": 342
        },
        "id": "bGYRenOc7W_X",
        "outputId": "c48adfd9-053d-49e7-83e8-403df033713f"
      },
      "source": [
        "TQ_KQXT.plot.bar()"
      ],
      "execution_count": 43,
      "outputs": [
        {
          "output_type": "execute_result",
          "data": {
            "text/plain": [
              "<matplotlib.axes._subplots.AxesSubplot at 0x7f6ea810f8d0>"
            ]
          },
          "metadata": {},
          "execution_count": 43
        },
        {
          "output_type": "display_data",
          "data": {
            "image/png": "[encoded data removed]",
            "text/plain": [
              "<Figure size 432x288 with 1 Axes>"
            ]
          },
          "metadata": {
            "needs_background": "light"
          }
        }
      ]
    },
    {
      "cell_type": "code",
      "metadata": {
        "colab": {
          "base_uri": "https://localhost:8080/"
        },
        "id": "HKSAQd-B7Ymy",
        "outputId": "fdb5f957-0402-4c66-f6d4-9ef03946d7c7"
      },
      "source": [
        "KV_KT = df.groupby(['KV','KT'])['KV'].agg('count')\n",
        "KV_KT"
      ],
      "execution_count": 44,
      "outputs": [
        {
          "output_type": "execute_result",
          "data": {
            "text/plain": [
              "KV   KT\n",
              "1    A     29\n",
              "     A1     2\n",
              "     B      8\n",
              "     C      8\n",
              "     D1    13\n",
              "2    A      9\n",
              "     C      2\n",
              "     D1     8\n",
              "2NT  A     11\n",
              "     A1     4\n",
              "     B      1\n",
              "     C      4\n",
              "     D1     1\n",
              "Name: KV, dtype: int64"
            ]
          },
          "metadata": {},
          "execution_count": 44
        }
      ]
    },
    {
      "cell_type": "code",
      "metadata": {
        "colab": {
          "base_uri": "https://localhost:8080/",
          "height": 335
        },
        "id": "g-qfJ4lJ7aMG",
        "outputId": "7d62d858-51a6-45de-a329-aa03711b97cb"
      },
      "source": [
        "KV_KT.plot.bar()"
      ],
      "execution_count": 45,
      "outputs": [
        {
          "output_type": "execute_result",
          "data": {
            "text/plain": [
              "<matplotlib.axes._subplots.AxesSubplot at 0x7f6ea8025710>"
            ]
          },
          "metadata": {},
          "execution_count": 45
        },
        {
          "output_type": "display_data",
          "data": {
            "image/png": "[encoded data removed]",
            "text/plain": [
              "<Figure size 432x288 with 1 Axes>"
            ]
          },
          "metadata": {
            "needs_background": "light"
          }
        }
      ]
    },
    {
      "cell_type": "code",
      "metadata": {
        "colab": {
          "base_uri": "https://localhost:8080/",
          "height": 359
        },
        "id": "rpXpDXb47ck-",
        "outputId": "7bccde2c-aef6-4e69-85fa-aad102736aac"
      },
      "source": [
        "DAU_ROT = df.groupby(['KQXT','KT']).agg({'KQXT':'count'})\n",
        "DAU_ROT"
      ],
      "execution_count": 46,
      "outputs": [
        {
          "output_type": "execute_result",
          "data": {
            "text/html": [
              "<div>\n",
              "<style scoped>\n",
              "    .dataframe tbody tr th:only-of-type {\n",
              "        vertical-align: middle;\n",
              "    }\n",
              "\n",
              "    .dataframe tbody tr th {\n",
              "        vertical-align: top;\n",
              "    }\n",
              "\n",
              "    .dataframe thead th {\n",
              "        text-align: right;\n",
              "    }\n",
              "</style>\n",
              "<table border=\"1\" class=\"dataframe\">\n",
              "  <thead>\n",
              "    <tr style=\"text-align: right;\">\n",
              "      <th></th>\n",
              "      <th></th>\n",
              "      <th>KQXT</th>\n",
              "    </tr>\n",
              "    <tr>\n",
              "      <th>KQXT</th>\n",
              "      <th>KT</th>\n",
              "      <th></th>\n",
              "    </tr>\n",
              "  </thead>\n",
              "  <tbody>\n",
              "    <tr>\n",
              "      <th rowspan=\"5\" valign=\"top\">0.0</th>\n",
              "      <th>A</th>\n",
              "      <td>45</td>\n",
              "    </tr>\n",
              "    <tr>\n",
              "      <th>A1</th>\n",
              "      <td>6</td>\n",
              "    </tr>\n",
              "    <tr>\n",
              "      <th>B</th>\n",
              "      <td>7</td>\n",
              "    </tr>\n",
              "    <tr>\n",
              "      <th>C</th>\n",
              "      <td>10</td>\n",
              "    </tr>\n",
              "    <tr>\n",
              "      <th>D1</th>\n",
              "      <td>21</td>\n",
              "    </tr>\n",
              "    <tr>\n",
              "      <th rowspan=\"4\" valign=\"top\">1.0</th>\n",
              "      <th>A</th>\n",
              "      <td>4</td>\n",
              "    </tr>\n",
              "    <tr>\n",
              "      <th>B</th>\n",
              "      <td>2</td>\n",
              "    </tr>\n",
              "    <tr>\n",
              "      <th>C</th>\n",
              "      <td>4</td>\n",
              "    </tr>\n",
              "    <tr>\n",
              "      <th>D1</th>\n",
              "      <td>1</td>\n",
              "    </tr>\n",
              "  </tbody>\n",
              "</table>\n",
              "</div>"
            ],
            "text/plain": [
              "         KQXT\n",
              "KQXT KT      \n",
              "0.0  A     45\n",
              "     A1     6\n",
              "     B      7\n",
              "     C     10\n",
              "     D1    21\n",
              "1.0  A      4\n",
              "     B      2\n",
              "     C      4\n",
              "     D1     1"
            ]
          },
          "metadata": {},
          "execution_count": 46
        }
      ]
    },
    {
      "cell_type": "code",
      "metadata": {
        "colab": {
          "base_uri": "https://localhost:8080/",
          "height": 330
        },
        "id": "Vu7VgrF-7fhj",
        "outputId": "d0700f26-ca43-44ff-b06d-238023e420d5"
      },
      "source": [
        "DAU_ROT.plot.bar()"
      ],
      "execution_count": 47,
      "outputs": [
        {
          "output_type": "execute_result",
          "data": {
            "text/plain": [
              "<matplotlib.axes._subplots.AxesSubplot at 0x7f6ea7fb1ad0>"
            ]
          },
          "metadata": {},
          "execution_count": 47
        },
        {
          "output_type": "display_data",
          "data": {
            "image/png": "[encoded data removed]",
            "text/plain": [
              "<Figure size 432x288 with 1 Axes>"
            ]
          },
          "metadata": {
            "needs_background": "light"
          }
        }
      ]
    },
    {
      "cell_type": "code",
      "metadata": {
        "colab": {
          "base_uri": "https://localhost:8080/",
          "height": 266
        },
        "id": "RUKsuhKI7hU7",
        "outputId": "59761b94-11c0-44df-f018-9c3e32d2cc99"
      },
      "source": [
        "DAUROT_KV = df.groupby(['KQXT','KV']).agg({'KQXT':'count'})\n",
        "DAUROT_KV"
      ],
      "execution_count": 48,
      "outputs": [
        {
          "output_type": "execute_result",
          "data": {
            "text/html": [
              "<div>\n",
              "<style scoped>\n",
              "    .dataframe tbody tr th:only-of-type {\n",
              "        vertical-align: middle;\n",
              "    }\n",
              "\n",
              "    .dataframe tbody tr th {\n",
              "        vertical-align: top;\n",
              "    }\n",
              "\n",
              "    .dataframe thead th {\n",
              "        text-align: right;\n",
              "    }\n",
              "</style>\n",
              "<table border=\"1\" class=\"dataframe\">\n",
              "  <thead>\n",
              "    <tr style=\"text-align: right;\">\n",
              "      <th></th>\n",
              "      <th></th>\n",
              "      <th>KQXT</th>\n",
              "    </tr>\n",
              "    <tr>\n",
              "      <th>KQXT</th>\n",
              "      <th>KV</th>\n",
              "      <th></th>\n",
              "    </tr>\n",
              "  </thead>\n",
              "  <tbody>\n",
              "    <tr>\n",
              "      <th rowspan=\"3\" valign=\"top\">0.0</th>\n",
              "      <th>1</th>\n",
              "      <td>56</td>\n",
              "    </tr>\n",
              "    <tr>\n",
              "      <th>2</th>\n",
              "      <td>15</td>\n",
              "    </tr>\n",
              "    <tr>\n",
              "      <th>2NT</th>\n",
              "      <td>18</td>\n",
              "    </tr>\n",
              "    <tr>\n",
              "      <th rowspan=\"3\" valign=\"top\">1.0</th>\n",
              "      <th>1</th>\n",
              "      <td>4</td>\n",
              "    </tr>\n",
              "    <tr>\n",
              "      <th>2</th>\n",
              "      <td>4</td>\n",
              "    </tr>\n",
              "    <tr>\n",
              "      <th>2NT</th>\n",
              "      <td>3</td>\n",
              "    </tr>\n",
              "  </tbody>\n",
              "</table>\n",
              "</div>"
            ],
            "text/plain": [
              "          KQXT\n",
              "KQXT KV       \n",
              "0.0  1      56\n",
              "     2      15\n",
              "     2NT    18\n",
              "1.0  1       4\n",
              "     2       4\n",
              "     2NT     3"
            ]
          },
          "metadata": {},
          "execution_count": 48
        }
      ]
    },
    {
      "cell_type": "code",
      "metadata": {
        "colab": {
          "base_uri": "https://localhost:8080/",
          "height": 282
        },
        "id": "qRNd9n057jpk",
        "outputId": "a6c73ae3-99ff-4d35-ed12-177db82aafe0"
      },
      "source": [
        "DAUROT_KV.plot.barh()"
      ],
      "execution_count": 49,
      "outputs": [
        {
          "output_type": "execute_result",
          "data": {
            "text/plain": [
              "<matplotlib.axes._subplots.AxesSubplot at 0x7f6ea7f250d0>"
            ]
          },
          "metadata": {},
          "execution_count": 49
        },
        {
          "output_type": "display_data",
          "data": {
            "image/png": "[encoded data removed]",
            "text/plain": [
              "<Figure size 432x288 with 1 Axes>"
            ]
          },
          "metadata": {
            "needs_background": "light"
          }
        }
      ]
    },
    {
      "cell_type": "code",
      "metadata": {
        "colab": {
          "base_uri": "https://localhost:8080/",
          "height": 204
        },
        "id": "ZPVHVAUq7mRj",
        "outputId": "524b5c04-4cff-4b45-b04c-aea119df043b"
      },
      "source": [
        "DAUROT_DT = df.groupby(['KQXT','DT']).agg({'KQXT':'count'})\n",
        "DAUROT_DT"
      ],
      "execution_count": 50,
      "outputs": [
        {
          "output_type": "execute_result",
          "data": {
            "text/html": [
              "<div>\n",
              "<style scoped>\n",
              "    .dataframe tbody tr th:only-of-type {\n",
              "        vertical-align: middle;\n",
              "    }\n",
              "\n",
              "    .dataframe tbody tr th {\n",
              "        vertical-align: top;\n",
              "    }\n",
              "\n",
              "    .dataframe thead th {\n",
              "        text-align: right;\n",
              "    }\n",
              "</style>\n",
              "<table border=\"1\" class=\"dataframe\">\n",
              "  <thead>\n",
              "    <tr style=\"text-align: right;\">\n",
              "      <th></th>\n",
              "      <th></th>\n",
              "      <th>KQXT</th>\n",
              "    </tr>\n",
              "    <tr>\n",
              "      <th>KQXT</th>\n",
              "      <th>DT</th>\n",
              "      <th></th>\n",
              "    </tr>\n",
              "  </thead>\n",
              "  <tbody>\n",
              "    <tr>\n",
              "      <th rowspan=\"3\" valign=\"top\">0.0</th>\n",
              "      <th>0.0</th>\n",
              "      <td>86</td>\n",
              "    </tr>\n",
              "    <tr>\n",
              "      <th>1.0</th>\n",
              "      <td>2</td>\n",
              "    </tr>\n",
              "    <tr>\n",
              "      <th>6.0</th>\n",
              "      <td>1</td>\n",
              "    </tr>\n",
              "    <tr>\n",
              "      <th>1.0</th>\n",
              "      <th>0.0</th>\n",
              "      <td>11</td>\n",
              "    </tr>\n",
              "  </tbody>\n",
              "</table>\n",
              "</div>"
            ],
            "text/plain": [
              "          KQXT\n",
              "KQXT DT       \n",
              "0.0  0.0    86\n",
              "     1.0     2\n",
              "     6.0     1\n",
              "1.0  0.0    11"
            ]
          },
          "metadata": {},
          "execution_count": 50
        }
      ]
    },
    {
      "cell_type": "code",
      "metadata": {
        "colab": {
          "base_uri": "https://localhost:8080/",
          "height": 332
        },
        "id": "6hmX_Jv37pX-",
        "outputId": "7ec8d586-e82c-4647-df74-a627864f83ad"
      },
      "source": [
        "DAUROT_DT.plot.bar()"
      ],
      "execution_count": 51,
      "outputs": [
        {
          "output_type": "execute_result",
          "data": {
            "text/plain": [
              "<matplotlib.axes._subplots.AxesSubplot at 0x7f6ea7ea8bd0>"
            ]
          },
          "metadata": {},
          "execution_count": 51
        },
        {
          "output_type": "display_data",
          "data": {
            "image/png": "[encoded data removed]",
            "text/plain": [
              "<Figure size 432x288 with 1 Axes>"
            ]
          },
          "metadata": {
            "needs_background": "light"
          }
        }
      ]
    },
    {
      "cell_type": "code",
      "metadata": {
        "colab": {
          "base_uri": "https://localhost:8080/",
          "height": 204
        },
        "id": "4AmtxEW97rX8",
        "outputId": "68268a6b-8bdf-4e5f-8de6-4ee3aa5fcd54"
      },
      "source": [
        "DAUROT_GT = df.groupby(['KQXT','GT']).agg({'KQXT':'count'})\n",
        "DAUROT_GT"
      ],
      "execution_count": 53,
      "outputs": [
        {
          "output_type": "execute_result",
          "data": {
            "text/html": [
              "<div>\n",
              "<style scoped>\n",
              "    .dataframe tbody tr th:only-of-type {\n",
              "        vertical-align: middle;\n",
              "    }\n",
              "\n",
              "    .dataframe tbody tr th {\n",
              "        vertical-align: top;\n",
              "    }\n",
              "\n",
              "    .dataframe thead th {\n",
              "        text-align: right;\n",
              "    }\n",
              "</style>\n",
              "<table border=\"1\" class=\"dataframe\">\n",
              "  <thead>\n",
              "    <tr style=\"text-align: right;\">\n",
              "      <th></th>\n",
              "      <th></th>\n",
              "      <th>KQXT</th>\n",
              "    </tr>\n",
              "    <tr>\n",
              "      <th>KQXT</th>\n",
              "      <th>GT</th>\n",
              "      <th></th>\n",
              "    </tr>\n",
              "  </thead>\n",
              "  <tbody>\n",
              "    <tr>\n",
              "      <th rowspan=\"2\" valign=\"top\">0.0</th>\n",
              "      <th>F</th>\n",
              "      <td>45</td>\n",
              "    </tr>\n",
              "    <tr>\n",
              "      <th>M</th>\n",
              "      <td>44</td>\n",
              "    </tr>\n",
              "    <tr>\n",
              "      <th rowspan=\"2\" valign=\"top\">1.0</th>\n",
              "      <th>F</th>\n",
              "      <td>3</td>\n",
              "    </tr>\n",
              "    <tr>\n",
              "      <th>M</th>\n",
              "      <td>8</td>\n",
              "    </tr>\n",
              "  </tbody>\n",
              "</table>\n",
              "</div>"
            ],
            "text/plain": [
              "         KQXT\n",
              "KQXT GT      \n",
              "0.0  F     45\n",
              "     M     44\n",
              "1.0  F      3\n",
              "     M      8"
            ]
          },
          "metadata": {},
          "execution_count": 53
        }
      ]
    },
    {
      "cell_type": "code",
      "metadata": {
        "colab": {
          "base_uri": "https://localhost:8080/",
          "height": 325
        },
        "id": "GK5fCcYz7uAS",
        "outputId": "133b6e5b-ed5e-43f3-cf21-3a27a0221ce0"
      },
      "source": [
        "DAUROT_GT.plot.bar()"
      ],
      "execution_count": 54,
      "outputs": [
        {
          "output_type": "execute_result",
          "data": {
            "text/plain": [
              "<matplotlib.axes._subplots.AxesSubplot at 0x7f6ea7e3c0d0>"
            ]
          },
          "metadata": {},
          "execution_count": 54
        },
        {
          "output_type": "display_data",
          "data": {
            "image/png": "[encoded data removed]",
            "text/plain": [
              "<Figure size 432x288 with 1 Axes>"
            ]
          },
          "metadata": {
            "needs_background": "light"
          }
        }
      ]
    },
    {
      "cell_type": "markdown",
      "metadata": {
        "id": "F5VoV-CY70_j"
      },
      "source": [
        "**Phần 4:**"
      ]
    },
    {
      "cell_type": "code",
      "metadata": {
        "colab": {
          "base_uri": "https://localhost:8080/",
          "height": 296
        },
        "id": "lfu2F0Ug72Dt",
        "outputId": "a5b9edfd-3e0f-4eb6-f17e-f467b8043dc9"
      },
      "source": [
        "df.groupby('T1')['T1'].count().plot()"
      ],
      "execution_count": 55,
      "outputs": [
        {
          "output_type": "execute_result",
          "data": {
            "text/plain": [
              "<matplotlib.axes._subplots.AxesSubplot at 0x7f6ea7db7d90>"
            ]
          },
          "metadata": {},
          "execution_count": 55
        },
        {
          "output_type": "display_data",
          "data": {
            "image/png": "[encoded data removed]",
            "text/plain": [
              "<Figure size 432x288 with 1 Axes>"
            ]
          },
          "metadata": {
            "needs_background": "light"
          }
        }
      ]
    },
    {
      "cell_type": "code",
      "metadata": {
        "colab": {
          "base_uri": "https://localhost:8080/"
        },
        "id": "83nW1GWw9j5K",
        "outputId": "d41b5bbf-64d0-4f03-bf30-b3239eeae258"
      },
      "source": [
        "for i in df['T1']:\n",
        "  df.loc[(df['T1'] >= 0) & (df['T1'] < 5), 'phanlopt1'] = 'Kem'\n",
        "  df.loc[(df['T1'] >= 5) & (df['T1'] < 7), 'phanlopt1'] = 'tb'\n",
        "  df.loc[(df['T1'] >= 7) & (df['T1'] < 8), 'phanlopt1'] = 'kha'\n",
        "  df.loc[(df['T1'] >= 8), 'phanlopt1'] = 'gioi'\n",
        "df.phanlopt1"
      ],
      "execution_count": 57,
      "outputs": [
        {
          "output_type": "execute_result",
          "data": {
            "text/plain": [
              "STT\n",
              "1       kha\n",
              "2        tb\n",
              "3        tb\n",
              "4        tb\n",
              "5        tb\n",
              "       ... \n",
              "96     gioi\n",
              "97      Kem\n",
              "98     gioi\n",
              "99      Kem\n",
              "100     Kem\n",
              "Name: phanlopt1, Length: 100, dtype: object"
            ]
          },
          "metadata": {},
          "execution_count": 57
        }
      ]
    },
    {
      "cell_type": "code",
      "metadata": {
        "colab": {
          "base_uri": "https://localhost:8080/",
          "height": 204
        },
        "id": "8cMH_Dbs9pr0",
        "outputId": "77b33adc-ec71-42e5-c7f3-70b6b6be4e60"
      },
      "source": [
        "TS_phanloait1 = df.groupby('phanlopt1')['phanlopt1'].agg(['count'])\n",
        "TS_phanloait1"
      ],
      "execution_count": 58,
      "outputs": [
        {
          "output_type": "execute_result",
          "data": {
            "text/html": [
              "<div>\n",
              "<style scoped>\n",
              "    .dataframe tbody tr th:only-of-type {\n",
              "        vertical-align: middle;\n",
              "    }\n",
              "\n",
              "    .dataframe tbody tr th {\n",
              "        vertical-align: top;\n",
              "    }\n",
              "\n",
              "    .dataframe thead th {\n",
              "        text-align: right;\n",
              "    }\n",
              "</style>\n",
              "<table border=\"1\" class=\"dataframe\">\n",
              "  <thead>\n",
              "    <tr style=\"text-align: right;\">\n",
              "      <th></th>\n",
              "      <th>count</th>\n",
              "    </tr>\n",
              "    <tr>\n",
              "      <th>phanlopt1</th>\n",
              "      <th></th>\n",
              "    </tr>\n",
              "  </thead>\n",
              "  <tbody>\n",
              "    <tr>\n",
              "      <th>Kem</th>\n",
              "      <td>23</td>\n",
              "    </tr>\n",
              "    <tr>\n",
              "      <th>gioi</th>\n",
              "      <td>12</td>\n",
              "    </tr>\n",
              "    <tr>\n",
              "      <th>kha</th>\n",
              "      <td>19</td>\n",
              "    </tr>\n",
              "    <tr>\n",
              "      <th>tb</th>\n",
              "      <td>46</td>\n",
              "    </tr>\n",
              "  </tbody>\n",
              "</table>\n",
              "</div>"
            ],
            "text/plain": [
              "           count\n",
              "phanlopt1       \n",
              "Kem           23\n",
              "gioi          12\n",
              "kha           19\n",
              "tb            46"
            ]
          },
          "metadata": {},
          "execution_count": 58
        }
      ]
    },
    {
      "cell_type": "code",
      "metadata": {
        "colab": {
          "base_uri": "https://localhost:8080/",
          "height": 421
        },
        "id": "MueY0ubI9rWc",
        "outputId": "e82d4e85-b779-43e9-af7a-04d4fb1980a6"
      },
      "source": [
        "ML_phanloait1 = df.groupby(['T1','phanlopt1'])[['T1','phanlopt1']].count()\n",
        "unstackphanlopt1 = ML_phanloait1.unstack()\n",
        "unstackphanlopt1.head(10)"
      ],
      "execution_count": 59,
      "outputs": [
        {
          "output_type": "execute_result",
          "data": {
            "text/html": [
              "<div>\n",
              "<style scoped>\n",
              "    .dataframe tbody tr th:only-of-type {\n",
              "        vertical-align: middle;\n",
              "    }\n",
              "\n",
              "    .dataframe tbody tr th {\n",
              "        vertical-align: top;\n",
              "    }\n",
              "\n",
              "    .dataframe thead tr th {\n",
              "        text-align: left;\n",
              "    }\n",
              "\n",
              "    .dataframe thead tr:last-of-type th {\n",
              "        text-align: right;\n",
              "    }\n",
              "</style>\n",
              "<table border=\"1\" class=\"dataframe\">\n",
              "  <thead>\n",
              "    <tr>\n",
              "      <th></th>\n",
              "      <th colspan=\"4\" halign=\"left\">T1</th>\n",
              "      <th colspan=\"4\" halign=\"left\">phanlopt1</th>\n",
              "    </tr>\n",
              "    <tr>\n",
              "      <th>phanlopt1</th>\n",
              "      <th>Kem</th>\n",
              "      <th>gioi</th>\n",
              "      <th>kha</th>\n",
              "      <th>tb</th>\n",
              "      <th>Kem</th>\n",
              "      <th>gioi</th>\n",
              "      <th>kha</th>\n",
              "      <th>tb</th>\n",
              "    </tr>\n",
              "    <tr>\n",
              "      <th>T1</th>\n",
              "      <th></th>\n",
              "      <th></th>\n",
              "      <th></th>\n",
              "      <th></th>\n",
              "      <th></th>\n",
              "      <th></th>\n",
              "      <th></th>\n",
              "      <th></th>\n",
              "    </tr>\n",
              "  </thead>\n",
              "  <tbody>\n",
              "    <tr>\n",
              "      <th>2.4</th>\n",
              "      <td>1.0</td>\n",
              "      <td>NaN</td>\n",
              "      <td>NaN</td>\n",
              "      <td>NaN</td>\n",
              "      <td>1.0</td>\n",
              "      <td>NaN</td>\n",
              "      <td>NaN</td>\n",
              "      <td>NaN</td>\n",
              "    </tr>\n",
              "    <tr>\n",
              "      <th>2.5</th>\n",
              "      <td>1.0</td>\n",
              "      <td>NaN</td>\n",
              "      <td>NaN</td>\n",
              "      <td>NaN</td>\n",
              "      <td>1.0</td>\n",
              "      <td>NaN</td>\n",
              "      <td>NaN</td>\n",
              "      <td>NaN</td>\n",
              "    </tr>\n",
              "    <tr>\n",
              "      <th>2.6</th>\n",
              "      <td>1.0</td>\n",
              "      <td>NaN</td>\n",
              "      <td>NaN</td>\n",
              "      <td>NaN</td>\n",
              "      <td>1.0</td>\n",
              "      <td>NaN</td>\n",
              "      <td>NaN</td>\n",
              "      <td>NaN</td>\n",
              "    </tr>\n",
              "    <tr>\n",
              "      <th>2.7</th>\n",
              "      <td>1.0</td>\n",
              "      <td>NaN</td>\n",
              "      <td>NaN</td>\n",
              "      <td>NaN</td>\n",
              "      <td>1.0</td>\n",
              "      <td>NaN</td>\n",
              "      <td>NaN</td>\n",
              "      <td>NaN</td>\n",
              "    </tr>\n",
              "    <tr>\n",
              "      <th>2.8</th>\n",
              "      <td>1.0</td>\n",
              "      <td>NaN</td>\n",
              "      <td>NaN</td>\n",
              "      <td>NaN</td>\n",
              "      <td>1.0</td>\n",
              "      <td>NaN</td>\n",
              "      <td>NaN</td>\n",
              "      <td>NaN</td>\n",
              "    </tr>\n",
              "    <tr>\n",
              "      <th>3.0</th>\n",
              "      <td>2.0</td>\n",
              "      <td>NaN</td>\n",
              "      <td>NaN</td>\n",
              "      <td>NaN</td>\n",
              "      <td>2.0</td>\n",
              "      <td>NaN</td>\n",
              "      <td>NaN</td>\n",
              "      <td>NaN</td>\n",
              "    </tr>\n",
              "    <tr>\n",
              "      <th>3.4</th>\n",
              "      <td>1.0</td>\n",
              "      <td>NaN</td>\n",
              "      <td>NaN</td>\n",
              "      <td>NaN</td>\n",
              "      <td>1.0</td>\n",
              "      <td>NaN</td>\n",
              "      <td>NaN</td>\n",
              "      <td>NaN</td>\n",
              "    </tr>\n",
              "    <tr>\n",
              "      <th>3.6</th>\n",
              "      <td>2.0</td>\n",
              "      <td>NaN</td>\n",
              "      <td>NaN</td>\n",
              "      <td>NaN</td>\n",
              "      <td>2.0</td>\n",
              "      <td>NaN</td>\n",
              "      <td>NaN</td>\n",
              "      <td>NaN</td>\n",
              "    </tr>\n",
              "    <tr>\n",
              "      <th>3.7</th>\n",
              "      <td>1.0</td>\n",
              "      <td>NaN</td>\n",
              "      <td>NaN</td>\n",
              "      <td>NaN</td>\n",
              "      <td>1.0</td>\n",
              "      <td>NaN</td>\n",
              "      <td>NaN</td>\n",
              "      <td>NaN</td>\n",
              "    </tr>\n",
              "    <tr>\n",
              "      <th>3.9</th>\n",
              "      <td>1.0</td>\n",
              "      <td>NaN</td>\n",
              "      <td>NaN</td>\n",
              "      <td>NaN</td>\n",
              "      <td>1.0</td>\n",
              "      <td>NaN</td>\n",
              "      <td>NaN</td>\n",
              "      <td>NaN</td>\n",
              "    </tr>\n",
              "  </tbody>\n",
              "</table>\n",
              "</div>"
            ],
            "text/plain": [
              "            T1              phanlopt1             \n",
              "phanlopt1  Kem gioi kha  tb       Kem gioi kha  tb\n",
              "T1                                                \n",
              "2.4        1.0  NaN NaN NaN       1.0  NaN NaN NaN\n",
              "2.5        1.0  NaN NaN NaN       1.0  NaN NaN NaN\n",
              "2.6        1.0  NaN NaN NaN       1.0  NaN NaN NaN\n",
              "2.7        1.0  NaN NaN NaN       1.0  NaN NaN NaN\n",
              "2.8        1.0  NaN NaN NaN       1.0  NaN NaN NaN\n",
              "3.0        2.0  NaN NaN NaN       2.0  NaN NaN NaN\n",
              "3.4        1.0  NaN NaN NaN       1.0  NaN NaN NaN\n",
              "3.6        2.0  NaN NaN NaN       2.0  NaN NaN NaN\n",
              "3.7        1.0  NaN NaN NaN       1.0  NaN NaN NaN\n",
              "3.9        1.0  NaN NaN NaN       1.0  NaN NaN NaN"
            ]
          },
          "metadata": {},
          "execution_count": 59
        }
      ]
    },
    {
      "cell_type": "code",
      "metadata": {
        "colab": {
          "base_uri": "https://localhost:8080/",
          "height": 296
        },
        "id": "eiFcrMS99tis",
        "outputId": "da909f01-f3a2-4b2f-b2ec-86c4086d4be2"
      },
      "source": [
        "unstackphanlopt1['phanlopt1'].plot(ylabel = 'Count')"
      ],
      "execution_count": 60,
      "outputs": [
        {
          "output_type": "execute_result",
          "data": {
            "text/plain": [
              "<matplotlib.axes._subplots.AxesSubplot at 0x7f6ea7d57c90>"
            ]
          },
          "metadata": {},
          "execution_count": 60
        },
        {
          "output_type": "display_data",
          "data": {
            "image/png": "[encoded data removed]",
            "text/plain": [
              "<Figure size 432x288 with 1 Axes>"
            ]
          },
          "metadata": {
            "needs_background": "light"
          }
        }
      ]
    },
    {
      "cell_type": "code",
      "metadata": {
        "colab": {
          "base_uri": "https://localhost:8080/",
          "height": 302
        },
        "id": "oU7JRKWp9vAD",
        "outputId": "98f663de-4b24-4f8e-f6fa-8f30a20dbf26"
      },
      "source": [
        "unstackphanlopt1['phanlopt1'].plot.bar()"
      ],
      "execution_count": 61,
      "outputs": [
        {
          "output_type": "execute_result",
          "data": {
            "text/plain": [
              "<matplotlib.axes._subplots.AxesSubplot at 0x7f6ea7d24ed0>"
            ]
          },
          "metadata": {},
          "execution_count": 61
        },
        {
          "output_type": "display_data",
          "data": {
            "image/png": "[encoded data removed]",
            "text/plain": [
              "<Figure size 432x288 with 1 Axes>"
            ]
          },
          "metadata": {
            "needs_background": "light"
          }
        }
      ]
    }
  ]
}